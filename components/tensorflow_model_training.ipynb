{
 "cells": [
  {
   "cell_type": "code",
   "execution_count": 56,
   "metadata": {},
   "outputs": [],
   "source": [
    "import numpy as np\n",
    "import torch\n",
    "import pandas as pd\n",
    "import matplotlib.pyplot as plt\n",
    "import os\n",
    "\n",
    "import tensorflow as tf\n",
    "import keras as keras\n",
    "from keras.datasets.mnist import load_data\n",
    "from keras.models import Sequential\n",
    "from keras.layers import Flatten, Dense, Dropout\n",
    "\n",
    "from sklearn import model_selection\n",
    "from sklearn.preprocessing import StandardScaler\n",
    "from sklearn.metrics import confusion_matrix, accuracy_score\n",
    "\n",
    "import plotly.express as px\n",
    "from plotly.subplots import make_subplots\n",
    "import plotly.graph_objects as go"
   ]
  },
  {
   "cell_type": "code",
   "execution_count": 57,
   "metadata": {},
   "outputs": [
    {
     "data": {
      "text/html": [
       "<div>\n",
       "<style scoped>\n",
       "    .dataframe tbody tr th:only-of-type {\n",
       "        vertical-align: middle;\n",
       "    }\n",
       "\n",
       "    .dataframe tbody tr th {\n",
       "        vertical-align: top;\n",
       "    }\n",
       "\n",
       "    .dataframe thead th {\n",
       "        text-align: right;\n",
       "    }\n",
       "</style>\n",
       "<table border=\"1\" class=\"dataframe\">\n",
       "  <thead>\n",
       "    <tr style=\"text-align: right;\">\n",
       "      <th></th>\n",
       "      <th>Fluid_lvl_tank102</th>\n",
       "      <th>Pressure_tank103</th>\n",
       "      <th>Pump_speed</th>\n",
       "      <th>Flowmeter</th>\n",
       "      <th>Tank102_set</th>\n",
       "      <th>Pressure_set</th>\n",
       "      <th>Flow_set</th>\n",
       "      <th>Fluid_lvl_tank101_IO_link</th>\n",
       "      <th>Fluid_lvl_tank102_IO_link</th>\n",
       "      <th>Fluid_lvl_MAX_tank101</th>\n",
       "      <th>...</th>\n",
       "      <th>V104</th>\n",
       "      <th>V106</th>\n",
       "      <th>V107</th>\n",
       "      <th>V108</th>\n",
       "      <th>V109</th>\n",
       "      <th>V112</th>\n",
       "      <th>Cycle_nuber</th>\n",
       "      <th>EStop</th>\n",
       "      <th>Work</th>\n",
       "      <th>State</th>\n",
       "    </tr>\n",
       "  </thead>\n",
       "  <tbody>\n",
       "    <tr>\n",
       "      <th>0</th>\n",
       "      <td>80.09615</td>\n",
       "      <td>147.431880</td>\n",
       "      <td>0.000000</td>\n",
       "      <td>0.00</td>\n",
       "      <td>0.0</td>\n",
       "      <td>150.0</td>\n",
       "      <td>0.0</td>\n",
       "      <td>105</td>\n",
       "      <td>80</td>\n",
       "      <td>0</td>\n",
       "      <td>...</td>\n",
       "      <td>0</td>\n",
       "      <td>0</td>\n",
       "      <td>0</td>\n",
       "      <td>1</td>\n",
       "      <td>0</td>\n",
       "      <td>0</td>\n",
       "      <td>1</td>\n",
       "      <td>0</td>\n",
       "      <td>0</td>\n",
       "      <td>2</td>\n",
       "    </tr>\n",
       "    <tr>\n",
       "      <th>1</th>\n",
       "      <td>79.75961</td>\n",
       "      <td>150.492770</td>\n",
       "      <td>70.675030</td>\n",
       "      <td>0.31</td>\n",
       "      <td>0.0</td>\n",
       "      <td>150.0</td>\n",
       "      <td>0.0</td>\n",
       "      <td>105</td>\n",
       "      <td>80</td>\n",
       "      <td>0</td>\n",
       "      <td>...</td>\n",
       "      <td>0</td>\n",
       "      <td>0</td>\n",
       "      <td>0</td>\n",
       "      <td>1</td>\n",
       "      <td>0</td>\n",
       "      <td>0</td>\n",
       "      <td>1</td>\n",
       "      <td>0</td>\n",
       "      <td>1</td>\n",
       "      <td>2</td>\n",
       "    </tr>\n",
       "    <tr>\n",
       "      <th>2</th>\n",
       "      <td>79.75961</td>\n",
       "      <td>150.747830</td>\n",
       "      <td>70.748890</td>\n",
       "      <td>0.00</td>\n",
       "      <td>0.0</td>\n",
       "      <td>150.0</td>\n",
       "      <td>0.0</td>\n",
       "      <td>105</td>\n",
       "      <td>80</td>\n",
       "      <td>0</td>\n",
       "      <td>...</td>\n",
       "      <td>0</td>\n",
       "      <td>0</td>\n",
       "      <td>0</td>\n",
       "      <td>1</td>\n",
       "      <td>0</td>\n",
       "      <td>0</td>\n",
       "      <td>1</td>\n",
       "      <td>0</td>\n",
       "      <td>1</td>\n",
       "      <td>2</td>\n",
       "    </tr>\n",
       "    <tr>\n",
       "      <th>3</th>\n",
       "      <td>79.59135</td>\n",
       "      <td>150.747830</td>\n",
       "      <td>70.525444</td>\n",
       "      <td>0.00</td>\n",
       "      <td>0.0</td>\n",
       "      <td>150.0</td>\n",
       "      <td>0.0</td>\n",
       "      <td>105</td>\n",
       "      <td>80</td>\n",
       "      <td>0</td>\n",
       "      <td>...</td>\n",
       "      <td>0</td>\n",
       "      <td>0</td>\n",
       "      <td>0</td>\n",
       "      <td>1</td>\n",
       "      <td>0</td>\n",
       "      <td>0</td>\n",
       "      <td>1</td>\n",
       "      <td>0</td>\n",
       "      <td>1</td>\n",
       "      <td>2</td>\n",
       "    </tr>\n",
       "    <tr>\n",
       "      <th>4</th>\n",
       "      <td>79.75961</td>\n",
       "      <td>149.217390</td>\n",
       "      <td>70.285675</td>\n",
       "      <td>0.00</td>\n",
       "      <td>0.0</td>\n",
       "      <td>150.0</td>\n",
       "      <td>0.0</td>\n",
       "      <td>105</td>\n",
       "      <td>80</td>\n",
       "      <td>0</td>\n",
       "      <td>...</td>\n",
       "      <td>0</td>\n",
       "      <td>0</td>\n",
       "      <td>0</td>\n",
       "      <td>1</td>\n",
       "      <td>0</td>\n",
       "      <td>0</td>\n",
       "      <td>1</td>\n",
       "      <td>0</td>\n",
       "      <td>1</td>\n",
       "      <td>2</td>\n",
       "    </tr>\n",
       "    <tr>\n",
       "      <th>...</th>\n",
       "      <td>...</td>\n",
       "      <td>...</td>\n",
       "      <td>...</td>\n",
       "      <td>...</td>\n",
       "      <td>...</td>\n",
       "      <td>...</td>\n",
       "      <td>...</td>\n",
       "      <td>...</td>\n",
       "      <td>...</td>\n",
       "      <td>...</td>\n",
       "      <td>...</td>\n",
       "      <td>...</td>\n",
       "      <td>...</td>\n",
       "      <td>...</td>\n",
       "      <td>...</td>\n",
       "      <td>...</td>\n",
       "      <td>...</td>\n",
       "      <td>...</td>\n",
       "      <td>...</td>\n",
       "      <td>...</td>\n",
       "      <td>...</td>\n",
       "    </tr>\n",
       "    <tr>\n",
       "      <th>18551</th>\n",
       "      <td>81.27404</td>\n",
       "      <td>7.397102</td>\n",
       "      <td>0.000000</td>\n",
       "      <td>-0.36</td>\n",
       "      <td>0.0</td>\n",
       "      <td>0.0</td>\n",
       "      <td>0.0</td>\n",
       "      <td>105</td>\n",
       "      <td>85</td>\n",
       "      <td>0</td>\n",
       "      <td>...</td>\n",
       "      <td>0</td>\n",
       "      <td>0</td>\n",
       "      <td>1</td>\n",
       "      <td>0</td>\n",
       "      <td>0</td>\n",
       "      <td>1</td>\n",
       "      <td>4</td>\n",
       "      <td>0</td>\n",
       "      <td>1</td>\n",
       "      <td>9</td>\n",
       "    </tr>\n",
       "    <tr>\n",
       "      <th>18552</th>\n",
       "      <td>81.10577</td>\n",
       "      <td>7.397102</td>\n",
       "      <td>0.000000</td>\n",
       "      <td>-0.34</td>\n",
       "      <td>0.0</td>\n",
       "      <td>0.0</td>\n",
       "      <td>0.0</td>\n",
       "      <td>105</td>\n",
       "      <td>85</td>\n",
       "      <td>0</td>\n",
       "      <td>...</td>\n",
       "      <td>0</td>\n",
       "      <td>0</td>\n",
       "      <td>1</td>\n",
       "      <td>0</td>\n",
       "      <td>0</td>\n",
       "      <td>1</td>\n",
       "      <td>4</td>\n",
       "      <td>0</td>\n",
       "      <td>1</td>\n",
       "      <td>9</td>\n",
       "    </tr>\n",
       "    <tr>\n",
       "      <th>18553</th>\n",
       "      <td>80.60096</td>\n",
       "      <td>7.142029</td>\n",
       "      <td>0.000000</td>\n",
       "      <td>-0.34</td>\n",
       "      <td>0.0</td>\n",
       "      <td>0.0</td>\n",
       "      <td>0.0</td>\n",
       "      <td>105</td>\n",
       "      <td>85</td>\n",
       "      <td>0</td>\n",
       "      <td>...</td>\n",
       "      <td>0</td>\n",
       "      <td>0</td>\n",
       "      <td>1</td>\n",
       "      <td>0</td>\n",
       "      <td>0</td>\n",
       "      <td>1</td>\n",
       "      <td>4</td>\n",
       "      <td>0</td>\n",
       "      <td>1</td>\n",
       "      <td>9</td>\n",
       "    </tr>\n",
       "    <tr>\n",
       "      <th>18554</th>\n",
       "      <td>80.43269</td>\n",
       "      <td>7.397102</td>\n",
       "      <td>0.000000</td>\n",
       "      <td>-0.36</td>\n",
       "      <td>0.0</td>\n",
       "      <td>0.0</td>\n",
       "      <td>0.0</td>\n",
       "      <td>105</td>\n",
       "      <td>85</td>\n",
       "      <td>0</td>\n",
       "      <td>...</td>\n",
       "      <td>0</td>\n",
       "      <td>0</td>\n",
       "      <td>1</td>\n",
       "      <td>0</td>\n",
       "      <td>0</td>\n",
       "      <td>1</td>\n",
       "      <td>4</td>\n",
       "      <td>0</td>\n",
       "      <td>1</td>\n",
       "      <td>9</td>\n",
       "    </tr>\n",
       "    <tr>\n",
       "      <th>18555</th>\n",
       "      <td>80.09615</td>\n",
       "      <td>7.142029</td>\n",
       "      <td>0.000000</td>\n",
       "      <td>-0.36</td>\n",
       "      <td>0.0</td>\n",
       "      <td>0.0</td>\n",
       "      <td>0.0</td>\n",
       "      <td>105</td>\n",
       "      <td>85</td>\n",
       "      <td>0</td>\n",
       "      <td>...</td>\n",
       "      <td>0</td>\n",
       "      <td>0</td>\n",
       "      <td>1</td>\n",
       "      <td>0</td>\n",
       "      <td>0</td>\n",
       "      <td>1</td>\n",
       "      <td>4</td>\n",
       "      <td>0</td>\n",
       "      <td>1</td>\n",
       "      <td>9</td>\n",
       "    </tr>\n",
       "  </tbody>\n",
       "</table>\n",
       "<p>18556 rows × 24 columns</p>\n",
       "</div>"
      ],
      "text/plain": [
       "       Fluid_lvl_tank102  Pressure_tank103  Pump_speed  Flowmeter  \\\n",
       "0               80.09615        147.431880    0.000000       0.00   \n",
       "1               79.75961        150.492770   70.675030       0.31   \n",
       "2               79.75961        150.747830   70.748890       0.00   \n",
       "3               79.59135        150.747830   70.525444       0.00   \n",
       "4               79.75961        149.217390   70.285675       0.00   \n",
       "...                  ...               ...         ...        ...   \n",
       "18551           81.27404          7.397102    0.000000      -0.36   \n",
       "18552           81.10577          7.397102    0.000000      -0.34   \n",
       "18553           80.60096          7.142029    0.000000      -0.34   \n",
       "18554           80.43269          7.397102    0.000000      -0.36   \n",
       "18555           80.09615          7.142029    0.000000      -0.36   \n",
       "\n",
       "       Tank102_set  Pressure_set  Flow_set  Fluid_lvl_tank101_IO_link  \\\n",
       "0              0.0         150.0       0.0                        105   \n",
       "1              0.0         150.0       0.0                        105   \n",
       "2              0.0         150.0       0.0                        105   \n",
       "3              0.0         150.0       0.0                        105   \n",
       "4              0.0         150.0       0.0                        105   \n",
       "...            ...           ...       ...                        ...   \n",
       "18551          0.0           0.0       0.0                        105   \n",
       "18552          0.0           0.0       0.0                        105   \n",
       "18553          0.0           0.0       0.0                        105   \n",
       "18554          0.0           0.0       0.0                        105   \n",
       "18555          0.0           0.0       0.0                        105   \n",
       "\n",
       "       Fluid_lvl_tank102_IO_link  Fluid_lvl_MAX_tank101  ...  V104  V106  \\\n",
       "0                             80                      0  ...     0     0   \n",
       "1                             80                      0  ...     0     0   \n",
       "2                             80                      0  ...     0     0   \n",
       "3                             80                      0  ...     0     0   \n",
       "4                             80                      0  ...     0     0   \n",
       "...                          ...                    ...  ...   ...   ...   \n",
       "18551                         85                      0  ...     0     0   \n",
       "18552                         85                      0  ...     0     0   \n",
       "18553                         85                      0  ...     0     0   \n",
       "18554                         85                      0  ...     0     0   \n",
       "18555                         85                      0  ...     0     0   \n",
       "\n",
       "       V107  V108  V109  V112  Cycle_nuber  EStop  Work  State  \n",
       "0         0     1     0     0            1      0     0      2  \n",
       "1         0     1     0     0            1      0     1      2  \n",
       "2         0     1     0     0            1      0     1      2  \n",
       "3         0     1     0     0            1      0     1      2  \n",
       "4         0     1     0     0            1      0     1      2  \n",
       "...     ...   ...   ...   ...          ...    ...   ...    ...  \n",
       "18551     1     0     0     1            4      0     1      9  \n",
       "18552     1     0     0     1            4      0     1      9  \n",
       "18553     1     0     0     1            4      0     1      9  \n",
       "18554     1     0     0     1            4      0     1      9  \n",
       "18555     1     0     0     1            4      0     1      9  \n",
       "\n",
       "[18556 rows x 24 columns]"
      ]
     },
     "execution_count": 57,
     "metadata": {},
     "output_type": "execute_result"
    }
   ],
   "source": [
    "dataset = pd.read_csv(\"TrainData_x1.csv\", sep=';')\n",
    "dataset"
   ]
  },
  {
   "cell_type": "code",
   "execution_count": 58,
   "metadata": {},
   "outputs": [
    {
     "data": {
      "text/html": [
       "<div>\n",
       "<style scoped>\n",
       "    .dataframe tbody tr th:only-of-type {\n",
       "        vertical-align: middle;\n",
       "    }\n",
       "\n",
       "    .dataframe tbody tr th {\n",
       "        vertical-align: top;\n",
       "    }\n",
       "\n",
       "    .dataframe thead th {\n",
       "        text-align: right;\n",
       "    }\n",
       "</style>\n",
       "<table border=\"1\" class=\"dataframe\">\n",
       "  <thead>\n",
       "    <tr style=\"text-align: right;\">\n",
       "      <th></th>\n",
       "      <th>Failure_F1</th>\n",
       "      <th>Failure_F2</th>\n",
       "      <th>Failure_F3</th>\n",
       "      <th>Failure_F4</th>\n",
       "      <th>Failure_F5</th>\n",
       "    </tr>\n",
       "  </thead>\n",
       "  <tbody>\n",
       "    <tr>\n",
       "      <th>0</th>\n",
       "      <td>0</td>\n",
       "      <td>0</td>\n",
       "      <td>0</td>\n",
       "      <td>0</td>\n",
       "      <td>0</td>\n",
       "    </tr>\n",
       "    <tr>\n",
       "      <th>1</th>\n",
       "      <td>0</td>\n",
       "      <td>0</td>\n",
       "      <td>0</td>\n",
       "      <td>0</td>\n",
       "      <td>0</td>\n",
       "    </tr>\n",
       "    <tr>\n",
       "      <th>2</th>\n",
       "      <td>0</td>\n",
       "      <td>0</td>\n",
       "      <td>0</td>\n",
       "      <td>0</td>\n",
       "      <td>0</td>\n",
       "    </tr>\n",
       "    <tr>\n",
       "      <th>3</th>\n",
       "      <td>0</td>\n",
       "      <td>0</td>\n",
       "      <td>0</td>\n",
       "      <td>0</td>\n",
       "      <td>0</td>\n",
       "    </tr>\n",
       "    <tr>\n",
       "      <th>4</th>\n",
       "      <td>0</td>\n",
       "      <td>0</td>\n",
       "      <td>0</td>\n",
       "      <td>0</td>\n",
       "      <td>0</td>\n",
       "    </tr>\n",
       "    <tr>\n",
       "      <th>...</th>\n",
       "      <td>...</td>\n",
       "      <td>...</td>\n",
       "      <td>...</td>\n",
       "      <td>...</td>\n",
       "      <td>...</td>\n",
       "    </tr>\n",
       "    <tr>\n",
       "      <th>18551</th>\n",
       "      <td>0</td>\n",
       "      <td>0</td>\n",
       "      <td>0</td>\n",
       "      <td>0</td>\n",
       "      <td>1</td>\n",
       "    </tr>\n",
       "    <tr>\n",
       "      <th>18552</th>\n",
       "      <td>0</td>\n",
       "      <td>0</td>\n",
       "      <td>0</td>\n",
       "      <td>0</td>\n",
       "      <td>1</td>\n",
       "    </tr>\n",
       "    <tr>\n",
       "      <th>18553</th>\n",
       "      <td>0</td>\n",
       "      <td>0</td>\n",
       "      <td>0</td>\n",
       "      <td>0</td>\n",
       "      <td>1</td>\n",
       "    </tr>\n",
       "    <tr>\n",
       "      <th>18554</th>\n",
       "      <td>0</td>\n",
       "      <td>0</td>\n",
       "      <td>0</td>\n",
       "      <td>0</td>\n",
       "      <td>1</td>\n",
       "    </tr>\n",
       "    <tr>\n",
       "      <th>18555</th>\n",
       "      <td>0</td>\n",
       "      <td>0</td>\n",
       "      <td>0</td>\n",
       "      <td>0</td>\n",
       "      <td>1</td>\n",
       "    </tr>\n",
       "  </tbody>\n",
       "</table>\n",
       "<p>18556 rows × 5 columns</p>\n",
       "</div>"
      ],
      "text/plain": [
       "       Failure_F1  Failure_F2  Failure_F3  Failure_F4  Failure_F5\n",
       "0               0           0           0           0           0\n",
       "1               0           0           0           0           0\n",
       "2               0           0           0           0           0\n",
       "3               0           0           0           0           0\n",
       "4               0           0           0           0           0\n",
       "...           ...         ...         ...         ...         ...\n",
       "18551           0           0           0           0           1\n",
       "18552           0           0           0           0           1\n",
       "18553           0           0           0           0           1\n",
       "18554           0           0           0           0           1\n",
       "18555           0           0           0           0           1\n",
       "\n",
       "[18556 rows x 5 columns]"
      ]
     },
     "execution_count": 58,
     "metadata": {},
     "output_type": "execute_result"
    }
   ],
   "source": [
    "label = pd.read_csv(\"TrainData_Y1.csv\",sep=';')\n",
    "label"
   ]
  },
  {
   "cell_type": "code",
   "execution_count": 59,
   "metadata": {},
   "outputs": [
    {
     "data": {
      "text/html": [
       "<div>\n",
       "<style scoped>\n",
       "    .dataframe tbody tr th:only-of-type {\n",
       "        vertical-align: middle;\n",
       "    }\n",
       "\n",
       "    .dataframe tbody tr th {\n",
       "        vertical-align: top;\n",
       "    }\n",
       "\n",
       "    .dataframe thead th {\n",
       "        text-align: right;\n",
       "    }\n",
       "</style>\n",
       "<table border=\"1\" class=\"dataframe\">\n",
       "  <thead>\n",
       "    <tr style=\"text-align: right;\">\n",
       "      <th></th>\n",
       "      <th>Fluid_lvl_tank102</th>\n",
       "      <th>Pressure_tank103</th>\n",
       "      <th>Pump_speed</th>\n",
       "      <th>Flowmeter</th>\n",
       "      <th>Tank102_set</th>\n",
       "      <th>Pressure_set</th>\n",
       "      <th>Flow_set</th>\n",
       "      <th>Fluid_lvl_tank101_IO_link</th>\n",
       "      <th>Fluid_lvl_tank102_IO_link</th>\n",
       "      <th>Fluid_lvl_MAX_tank101</th>\n",
       "      <th>...</th>\n",
       "      <th>V104</th>\n",
       "      <th>V106</th>\n",
       "      <th>V107</th>\n",
       "      <th>V108</th>\n",
       "      <th>V109</th>\n",
       "      <th>V112</th>\n",
       "      <th>Cycle_nuber</th>\n",
       "      <th>EStop</th>\n",
       "      <th>Work</th>\n",
       "      <th>State</th>\n",
       "    </tr>\n",
       "  </thead>\n",
       "  <tbody>\n",
       "    <tr>\n",
       "      <th>0</th>\n",
       "      <td>79.75961</td>\n",
       "      <td>36.475365</td>\n",
       "      <td>0.000000</td>\n",
       "      <td>-0.35</td>\n",
       "      <td>0.0</td>\n",
       "      <td>150.0</td>\n",
       "      <td>0.0</td>\n",
       "      <td>105</td>\n",
       "      <td>85</td>\n",
       "      <td>0</td>\n",
       "      <td>...</td>\n",
       "      <td>0</td>\n",
       "      <td>0</td>\n",
       "      <td>0</td>\n",
       "      <td>0</td>\n",
       "      <td>0</td>\n",
       "      <td>1</td>\n",
       "      <td>6</td>\n",
       "      <td>0</td>\n",
       "      <td>1</td>\n",
       "      <td>2</td>\n",
       "    </tr>\n",
       "    <tr>\n",
       "      <th>1</th>\n",
       "      <td>79.59135</td>\n",
       "      <td>208.394210</td>\n",
       "      <td>80.351440</td>\n",
       "      <td>0.27</td>\n",
       "      <td>0.0</td>\n",
       "      <td>150.0</td>\n",
       "      <td>0.0</td>\n",
       "      <td>105</td>\n",
       "      <td>85</td>\n",
       "      <td>0</td>\n",
       "      <td>...</td>\n",
       "      <td>0</td>\n",
       "      <td>0</td>\n",
       "      <td>0</td>\n",
       "      <td>1</td>\n",
       "      <td>0</td>\n",
       "      <td>0</td>\n",
       "      <td>6</td>\n",
       "      <td>0</td>\n",
       "      <td>1</td>\n",
       "      <td>2</td>\n",
       "    </tr>\n",
       "    <tr>\n",
       "      <th>2</th>\n",
       "      <td>79.59135</td>\n",
       "      <td>192.834800</td>\n",
       "      <td>75.014730</td>\n",
       "      <td>0.00</td>\n",
       "      <td>0.0</td>\n",
       "      <td>150.0</td>\n",
       "      <td>0.0</td>\n",
       "      <td>105</td>\n",
       "      <td>85</td>\n",
       "      <td>0</td>\n",
       "      <td>...</td>\n",
       "      <td>0</td>\n",
       "      <td>0</td>\n",
       "      <td>0</td>\n",
       "      <td>1</td>\n",
       "      <td>0</td>\n",
       "      <td>0</td>\n",
       "      <td>6</td>\n",
       "      <td>0</td>\n",
       "      <td>1</td>\n",
       "      <td>2</td>\n",
       "    </tr>\n",
       "    <tr>\n",
       "      <th>3</th>\n",
       "      <td>79.59135</td>\n",
       "      <td>165.542040</td>\n",
       "      <td>72.681660</td>\n",
       "      <td>0.00</td>\n",
       "      <td>0.0</td>\n",
       "      <td>150.0</td>\n",
       "      <td>0.0</td>\n",
       "      <td>105</td>\n",
       "      <td>85</td>\n",
       "      <td>0</td>\n",
       "      <td>...</td>\n",
       "      <td>0</td>\n",
       "      <td>0</td>\n",
       "      <td>0</td>\n",
       "      <td>1</td>\n",
       "      <td>0</td>\n",
       "      <td>0</td>\n",
       "      <td>6</td>\n",
       "      <td>0</td>\n",
       "      <td>1</td>\n",
       "      <td>2</td>\n",
       "    </tr>\n",
       "    <tr>\n",
       "      <th>4</th>\n",
       "      <td>79.59135</td>\n",
       "      <td>158.400010</td>\n",
       "      <td>71.367195</td>\n",
       "      <td>0.00</td>\n",
       "      <td>0.0</td>\n",
       "      <td>150.0</td>\n",
       "      <td>0.0</td>\n",
       "      <td>105</td>\n",
       "      <td>85</td>\n",
       "      <td>0</td>\n",
       "      <td>...</td>\n",
       "      <td>0</td>\n",
       "      <td>0</td>\n",
       "      <td>0</td>\n",
       "      <td>1</td>\n",
       "      <td>0</td>\n",
       "      <td>0</td>\n",
       "      <td>6</td>\n",
       "      <td>0</td>\n",
       "      <td>1</td>\n",
       "      <td>2</td>\n",
       "    </tr>\n",
       "    <tr>\n",
       "      <th>...</th>\n",
       "      <td>...</td>\n",
       "      <td>...</td>\n",
       "      <td>...</td>\n",
       "      <td>...</td>\n",
       "      <td>...</td>\n",
       "      <td>...</td>\n",
       "      <td>...</td>\n",
       "      <td>...</td>\n",
       "      <td>...</td>\n",
       "      <td>...</td>\n",
       "      <td>...</td>\n",
       "      <td>...</td>\n",
       "      <td>...</td>\n",
       "      <td>...</td>\n",
       "      <td>...</td>\n",
       "      <td>...</td>\n",
       "      <td>...</td>\n",
       "      <td>...</td>\n",
       "      <td>...</td>\n",
       "      <td>...</td>\n",
       "      <td>...</td>\n",
       "    </tr>\n",
       "    <tr>\n",
       "      <th>2083</th>\n",
       "      <td>81.27404</td>\n",
       "      <td>7.397102</td>\n",
       "      <td>0.000000</td>\n",
       "      <td>-0.34</td>\n",
       "      <td>0.0</td>\n",
       "      <td>0.0</td>\n",
       "      <td>0.0</td>\n",
       "      <td>105</td>\n",
       "      <td>85</td>\n",
       "      <td>0</td>\n",
       "      <td>...</td>\n",
       "      <td>0</td>\n",
       "      <td>0</td>\n",
       "      <td>1</td>\n",
       "      <td>0</td>\n",
       "      <td>0</td>\n",
       "      <td>1</td>\n",
       "      <td>5</td>\n",
       "      <td>0</td>\n",
       "      <td>1</td>\n",
       "      <td>9</td>\n",
       "    </tr>\n",
       "    <tr>\n",
       "      <th>2084</th>\n",
       "      <td>81.10577</td>\n",
       "      <td>7.142029</td>\n",
       "      <td>0.000000</td>\n",
       "      <td>-0.36</td>\n",
       "      <td>0.0</td>\n",
       "      <td>0.0</td>\n",
       "      <td>0.0</td>\n",
       "      <td>105</td>\n",
       "      <td>85</td>\n",
       "      <td>0</td>\n",
       "      <td>...</td>\n",
       "      <td>0</td>\n",
       "      <td>0</td>\n",
       "      <td>1</td>\n",
       "      <td>0</td>\n",
       "      <td>0</td>\n",
       "      <td>1</td>\n",
       "      <td>5</td>\n",
       "      <td>0</td>\n",
       "      <td>1</td>\n",
       "      <td>9</td>\n",
       "    </tr>\n",
       "    <tr>\n",
       "      <th>2085</th>\n",
       "      <td>80.76923</td>\n",
       "      <td>7.142029</td>\n",
       "      <td>0.000000</td>\n",
       "      <td>-0.35</td>\n",
       "      <td>0.0</td>\n",
       "      <td>0.0</td>\n",
       "      <td>0.0</td>\n",
       "      <td>105</td>\n",
       "      <td>85</td>\n",
       "      <td>0</td>\n",
       "      <td>...</td>\n",
       "      <td>0</td>\n",
       "      <td>0</td>\n",
       "      <td>1</td>\n",
       "      <td>0</td>\n",
       "      <td>0</td>\n",
       "      <td>1</td>\n",
       "      <td>5</td>\n",
       "      <td>0</td>\n",
       "      <td>1</td>\n",
       "      <td>9</td>\n",
       "    </tr>\n",
       "    <tr>\n",
       "      <th>2086</th>\n",
       "      <td>80.60096</td>\n",
       "      <td>7.397102</td>\n",
       "      <td>0.000000</td>\n",
       "      <td>-0.35</td>\n",
       "      <td>0.0</td>\n",
       "      <td>0.0</td>\n",
       "      <td>0.0</td>\n",
       "      <td>105</td>\n",
       "      <td>85</td>\n",
       "      <td>0</td>\n",
       "      <td>...</td>\n",
       "      <td>0</td>\n",
       "      <td>0</td>\n",
       "      <td>1</td>\n",
       "      <td>0</td>\n",
       "      <td>0</td>\n",
       "      <td>1</td>\n",
       "      <td>5</td>\n",
       "      <td>0</td>\n",
       "      <td>1</td>\n",
       "      <td>9</td>\n",
       "    </tr>\n",
       "    <tr>\n",
       "      <th>2087</th>\n",
       "      <td>80.43269</td>\n",
       "      <td>7.397102</td>\n",
       "      <td>0.000000</td>\n",
       "      <td>-0.34</td>\n",
       "      <td>0.0</td>\n",
       "      <td>0.0</td>\n",
       "      <td>0.0</td>\n",
       "      <td>105</td>\n",
       "      <td>85</td>\n",
       "      <td>0</td>\n",
       "      <td>...</td>\n",
       "      <td>0</td>\n",
       "      <td>0</td>\n",
       "      <td>1</td>\n",
       "      <td>0</td>\n",
       "      <td>0</td>\n",
       "      <td>1</td>\n",
       "      <td>5</td>\n",
       "      <td>0</td>\n",
       "      <td>1</td>\n",
       "      <td>9</td>\n",
       "    </tr>\n",
       "  </tbody>\n",
       "</table>\n",
       "<p>2088 rows × 24 columns</p>\n",
       "</div>"
      ],
      "text/plain": [
       "      Fluid_lvl_tank102  Pressure_tank103  Pump_speed  Flowmeter  Tank102_set  \\\n",
       "0              79.75961         36.475365    0.000000      -0.35          0.0   \n",
       "1              79.59135        208.394210   80.351440       0.27          0.0   \n",
       "2              79.59135        192.834800   75.014730       0.00          0.0   \n",
       "3              79.59135        165.542040   72.681660       0.00          0.0   \n",
       "4              79.59135        158.400010   71.367195       0.00          0.0   \n",
       "...                 ...               ...         ...        ...          ...   \n",
       "2083           81.27404          7.397102    0.000000      -0.34          0.0   \n",
       "2084           81.10577          7.142029    0.000000      -0.36          0.0   \n",
       "2085           80.76923          7.142029    0.000000      -0.35          0.0   \n",
       "2086           80.60096          7.397102    0.000000      -0.35          0.0   \n",
       "2087           80.43269          7.397102    0.000000      -0.34          0.0   \n",
       "\n",
       "      Pressure_set  Flow_set  Fluid_lvl_tank101_IO_link  \\\n",
       "0            150.0       0.0                        105   \n",
       "1            150.0       0.0                        105   \n",
       "2            150.0       0.0                        105   \n",
       "3            150.0       0.0                        105   \n",
       "4            150.0       0.0                        105   \n",
       "...            ...       ...                        ...   \n",
       "2083           0.0       0.0                        105   \n",
       "2084           0.0       0.0                        105   \n",
       "2085           0.0       0.0                        105   \n",
       "2086           0.0       0.0                        105   \n",
       "2087           0.0       0.0                        105   \n",
       "\n",
       "      Fluid_lvl_tank102_IO_link  Fluid_lvl_MAX_tank101  ...  V104  V106  V107  \\\n",
       "0                            85                      0  ...     0     0     0   \n",
       "1                            85                      0  ...     0     0     0   \n",
       "2                            85                      0  ...     0     0     0   \n",
       "3                            85                      0  ...     0     0     0   \n",
       "4                            85                      0  ...     0     0     0   \n",
       "...                         ...                    ...  ...   ...   ...   ...   \n",
       "2083                         85                      0  ...     0     0     1   \n",
       "2084                         85                      0  ...     0     0     1   \n",
       "2085                         85                      0  ...     0     0     1   \n",
       "2086                         85                      0  ...     0     0     1   \n",
       "2087                         85                      0  ...     0     0     1   \n",
       "\n",
       "      V108  V109  V112  Cycle_nuber  EStop  Work  State  \n",
       "0        0     0     1            6      0     1      2  \n",
       "1        1     0     0            6      0     1      2  \n",
       "2        1     0     0            6      0     1      2  \n",
       "3        1     0     0            6      0     1      2  \n",
       "4        1     0     0            6      0     1      2  \n",
       "...    ...   ...   ...          ...    ...   ...    ...  \n",
       "2083     0     0     1            5      0     1      9  \n",
       "2084     0     0     1            5      0     1      9  \n",
       "2085     0     0     1            5      0     1      9  \n",
       "2086     0     0     1            5      0     1      9  \n",
       "2087     0     0     1            5      0     1      9  \n",
       "\n",
       "[2088 rows x 24 columns]"
      ]
     },
     "execution_count": 59,
     "metadata": {},
     "output_type": "execute_result"
    }
   ],
   "source": [
    "testdataset = pd.read_csv(\"TestData_x1.csv\",sep=';')\n",
    "testdataset"
   ]
  },
  {
   "cell_type": "code",
   "execution_count": 60,
   "metadata": {},
   "outputs": [
    {
     "data": {
      "text/html": [
       "<div>\n",
       "<style scoped>\n",
       "    .dataframe tbody tr th:only-of-type {\n",
       "        vertical-align: middle;\n",
       "    }\n",
       "\n",
       "    .dataframe tbody tr th {\n",
       "        vertical-align: top;\n",
       "    }\n",
       "\n",
       "    .dataframe thead th {\n",
       "        text-align: right;\n",
       "    }\n",
       "</style>\n",
       "<table border=\"1\" class=\"dataframe\">\n",
       "  <thead>\n",
       "    <tr style=\"text-align: right;\">\n",
       "      <th></th>\n",
       "      <th>Failure_F1</th>\n",
       "      <th>Failure_F2</th>\n",
       "      <th>Failure_F3</th>\n",
       "      <th>Failure_F4</th>\n",
       "      <th>Failure_F5</th>\n",
       "    </tr>\n",
       "  </thead>\n",
       "  <tbody>\n",
       "    <tr>\n",
       "      <th>0</th>\n",
       "      <td>0</td>\n",
       "      <td>0</td>\n",
       "      <td>0</td>\n",
       "      <td>0</td>\n",
       "      <td>0</td>\n",
       "    </tr>\n",
       "    <tr>\n",
       "      <th>1</th>\n",
       "      <td>0</td>\n",
       "      <td>0</td>\n",
       "      <td>0</td>\n",
       "      <td>0</td>\n",
       "      <td>0</td>\n",
       "    </tr>\n",
       "    <tr>\n",
       "      <th>2</th>\n",
       "      <td>0</td>\n",
       "      <td>0</td>\n",
       "      <td>0</td>\n",
       "      <td>0</td>\n",
       "      <td>0</td>\n",
       "    </tr>\n",
       "    <tr>\n",
       "      <th>3</th>\n",
       "      <td>0</td>\n",
       "      <td>0</td>\n",
       "      <td>0</td>\n",
       "      <td>0</td>\n",
       "      <td>0</td>\n",
       "    </tr>\n",
       "    <tr>\n",
       "      <th>4</th>\n",
       "      <td>0</td>\n",
       "      <td>0</td>\n",
       "      <td>0</td>\n",
       "      <td>0</td>\n",
       "      <td>0</td>\n",
       "    </tr>\n",
       "    <tr>\n",
       "      <th>...</th>\n",
       "      <td>...</td>\n",
       "      <td>...</td>\n",
       "      <td>...</td>\n",
       "      <td>...</td>\n",
       "      <td>...</td>\n",
       "    </tr>\n",
       "    <tr>\n",
       "      <th>2083</th>\n",
       "      <td>0</td>\n",
       "      <td>0</td>\n",
       "      <td>0</td>\n",
       "      <td>0</td>\n",
       "      <td>1</td>\n",
       "    </tr>\n",
       "    <tr>\n",
       "      <th>2084</th>\n",
       "      <td>0</td>\n",
       "      <td>0</td>\n",
       "      <td>0</td>\n",
       "      <td>0</td>\n",
       "      <td>1</td>\n",
       "    </tr>\n",
       "    <tr>\n",
       "      <th>2085</th>\n",
       "      <td>0</td>\n",
       "      <td>0</td>\n",
       "      <td>0</td>\n",
       "      <td>0</td>\n",
       "      <td>1</td>\n",
       "    </tr>\n",
       "    <tr>\n",
       "      <th>2086</th>\n",
       "      <td>0</td>\n",
       "      <td>0</td>\n",
       "      <td>0</td>\n",
       "      <td>0</td>\n",
       "      <td>1</td>\n",
       "    </tr>\n",
       "    <tr>\n",
       "      <th>2087</th>\n",
       "      <td>0</td>\n",
       "      <td>0</td>\n",
       "      <td>0</td>\n",
       "      <td>0</td>\n",
       "      <td>1</td>\n",
       "    </tr>\n",
       "  </tbody>\n",
       "</table>\n",
       "<p>2088 rows × 5 columns</p>\n",
       "</div>"
      ],
      "text/plain": [
       "      Failure_F1  Failure_F2  Failure_F3  Failure_F4  Failure_F5\n",
       "0              0           0           0           0           0\n",
       "1              0           0           0           0           0\n",
       "2              0           0           0           0           0\n",
       "3              0           0           0           0           0\n",
       "4              0           0           0           0           0\n",
       "...          ...         ...         ...         ...         ...\n",
       "2083           0           0           0           0           1\n",
       "2084           0           0           0           0           1\n",
       "2085           0           0           0           0           1\n",
       "2086           0           0           0           0           1\n",
       "2087           0           0           0           0           1\n",
       "\n",
       "[2088 rows x 5 columns]"
      ]
     },
     "execution_count": 60,
     "metadata": {},
     "output_type": "execute_result"
    }
   ],
   "source": [
    "testlabel = pd.read_csv(\"TestData_y1.csv\",sep=';')\n",
    "testlabel"
   ]
  },
  {
   "cell_type": "code",
   "execution_count": 61,
   "metadata": {},
   "outputs": [],
   "source": [
    "x_train = dataset\n",
    "y_train = label\n",
    "x_test = testdataset\n",
    "y_test = testlabel"
   ]
  },
  {
   "cell_type": "code",
   "execution_count": 62,
   "metadata": {},
   "outputs": [],
   "source": [
    "sc = StandardScaler()\n",
    "x_train = sc.fit_transform(x_train)\n",
    "x_test = sc.fit_transform(x_test)\n"
   ]
  },
  {
   "cell_type": "code",
   "execution_count": 63,
   "metadata": {},
   "outputs": [],
   "source": [
    "#x = np.asarray(x_train).astype(np.float32)\n",
    "#y = np.asarray(y_train).astype(np.float32)\n"
   ]
  },
  {
   "cell_type": "code",
   "execution_count": 64,
   "metadata": {},
   "outputs": [],
   "source": [
    "model = Sequential()"
   ]
  },
  {
   "cell_type": "code",
   "execution_count": 65,
   "metadata": {},
   "outputs": [],
   "source": [
    "model.add(Dense(units=128, activation='relu',input_shape=(24,)))"
   ]
  },
  {
   "cell_type": "code",
   "execution_count": 66,
   "metadata": {},
   "outputs": [],
   "source": [
    "model.add(Dropout(0.2))"
   ]
  },
  {
   "cell_type": "code",
   "execution_count": 67,
   "metadata": {},
   "outputs": [],
   "source": [
    "#model.add(Dense(units=32, activation='selu'))# sigmoid"
   ]
  },
  {
   "cell_type": "code",
   "execution_count": 68,
   "metadata": {},
   "outputs": [],
   "source": [
    "#model.add(Dense(units=20, activation='relu'))"
   ]
  },
  {
   "cell_type": "code",
   "execution_count": 69,
   "metadata": {},
   "outputs": [],
   "source": [
    "model.add(Dense(units=10, activation='gelu'))"
   ]
  },
  {
   "cell_type": "code",
   "execution_count": 70,
   "metadata": {},
   "outputs": [],
   "source": [
    "model.add(Dense(units=5, activation='softplus')) #softmax"
   ]
  },
  {
   "cell_type": "code",
   "execution_count": 71,
   "metadata": {},
   "outputs": [],
   "source": [
    "model.compile(\n",
    "optimizer= keras.optimizers.Adam(\n",
    "    learning_rate=0.001,\n",
    "    beta_1=0.9,\n",
    "    beta_2=0.999,\n",
    "    epsilon=1e-07), \n",
    "loss= keras.losses.CategoricalCrossentropy(\n",
    "    from_logits=False,\n",
    "    #label_smoothing=0.0,\n",
    "    #axis=-1,\n",
    "),\n",
    "metrics= ['accuracy'])"
   ]
  },
  {
   "cell_type": "code",
   "execution_count": 72,
   "metadata": {},
   "outputs": [
    {
     "name": "stdout",
     "output_type": "stream",
     "text": [
      "Model: \"sequential_2\"\n",
      "_________________________________________________________________\n",
      " Layer (type)                Output Shape              Param #   \n",
      "=================================================================\n",
      " dense_6 (Dense)             (None, 128)               3200      \n",
      "                                                                 \n",
      " dropout_2 (Dropout)         (None, 128)               0         \n",
      "                                                                 \n",
      " dense_7 (Dense)             (None, 10)                1290      \n",
      "                                                                 \n",
      " dense_8 (Dense)             (None, 5)                 55        \n",
      "                                                                 \n",
      "=================================================================\n",
      "Total params: 4,545\n",
      "Trainable params: 4,545\n",
      "Non-trainable params: 0\n",
      "_________________________________________________________________\n"
     ]
    }
   ],
   "source": [
    "model.summary()"
   ]
  },
  {
   "cell_type": "code",
   "execution_count": 73,
   "metadata": {},
   "outputs": [
    {
     "name": "stdout",
     "output_type": "stream",
     "text": [
      "Epoch 1/100\n",
      "73/73 [==============================] - 1s 2ms/step - loss: 0.9062 - accuracy: 0.4117\n",
      "Epoch 2/100\n",
      "73/73 [==============================] - 0s 3ms/step - loss: 0.5637 - accuracy: 0.4855\n",
      "Epoch 3/100\n",
      "73/73 [==============================] - 0s 3ms/step - loss: 0.4948 - accuracy: 0.5017\n",
      "Epoch 4/100\n",
      "73/73 [==============================] - 0s 3ms/step - loss: 0.4591 - accuracy: 0.5134\n",
      "Epoch 5/100\n",
      "73/73 [==============================] - 0s 2ms/step - loss: 0.4338 - accuracy: 0.5259\n",
      "Epoch 6/100\n",
      "73/73 [==============================] - 0s 2ms/step - loss: 0.4171 - accuracy: 0.5331\n",
      "Epoch 7/100\n",
      "73/73 [==============================] - 0s 2ms/step - loss: 0.4026 - accuracy: 0.5410\n",
      "Epoch 8/100\n",
      "73/73 [==============================] - 0s 2ms/step - loss: 0.3896 - accuracy: 0.5467\n",
      "Epoch 9/100\n",
      "73/73 [==============================] - 0s 3ms/step - loss: 0.3834 - accuracy: 0.5502\n",
      "Epoch 10/100\n",
      "73/73 [==============================] - 0s 3ms/step - loss: 0.3735 - accuracy: 0.5528\n",
      "Epoch 11/100\n",
      "73/73 [==============================] - 0s 2ms/step - loss: 0.3665 - accuracy: 0.5558\n",
      "Epoch 12/100\n",
      "73/73 [==============================] - 0s 3ms/step - loss: 0.3643 - accuracy: 0.5579\n",
      "Epoch 13/100\n",
      "73/73 [==============================] - 0s 3ms/step - loss: 0.3615 - accuracy: 0.5569\n",
      "Epoch 14/100\n",
      "73/73 [==============================] - 0s 3ms/step - loss: 0.3571 - accuracy: 0.5585\n",
      "Epoch 15/100\n",
      "73/73 [==============================] - 0s 3ms/step - loss: 0.3565 - accuracy: 0.5581\n",
      "Epoch 16/100\n",
      "73/73 [==============================] - 0s 3ms/step - loss: 0.3524 - accuracy: 0.5594\n",
      "Epoch 17/100\n",
      "73/73 [==============================] - 0s 3ms/step - loss: 0.3508 - accuracy: 0.5603\n",
      "Epoch 18/100\n",
      "73/73 [==============================] - 0s 3ms/step - loss: 0.3479 - accuracy: 0.5640\n",
      "Epoch 19/100\n",
      "73/73 [==============================] - 0s 3ms/step - loss: 0.3474 - accuracy: 0.5623\n",
      "Epoch 20/100\n",
      "73/73 [==============================] - 0s 3ms/step - loss: 0.3468 - accuracy: 0.5615\n",
      "Epoch 21/100\n",
      "73/73 [==============================] - 0s 2ms/step - loss: 0.3451 - accuracy: 0.5660\n",
      "Epoch 22/100\n",
      "73/73 [==============================] - 0s 2ms/step - loss: 0.3435 - accuracy: 0.5639\n",
      "Epoch 23/100\n",
      "73/73 [==============================] - 0s 2ms/step - loss: 0.3421 - accuracy: 0.5646\n",
      "Epoch 24/100\n",
      "73/73 [==============================] - 0s 2ms/step - loss: 0.3403 - accuracy: 0.5667\n",
      "Epoch 25/100\n",
      "73/73 [==============================] - 0s 2ms/step - loss: 0.3410 - accuracy: 0.5653\n",
      "Epoch 26/100\n",
      "73/73 [==============================] - 0s 3ms/step - loss: 0.3386 - accuracy: 0.5667\n",
      "Epoch 27/100\n",
      "73/73 [==============================] - 0s 2ms/step - loss: 0.3388 - accuracy: 0.5648\n",
      "Epoch 28/100\n",
      "73/73 [==============================] - 0s 2ms/step - loss: 0.3373 - accuracy: 0.5636\n",
      "Epoch 29/100\n",
      "73/73 [==============================] - 0s 2ms/step - loss: 0.3359 - accuracy: 0.5685\n",
      "Epoch 30/100\n",
      "73/73 [==============================] - 0s 2ms/step - loss: 0.3354 - accuracy: 0.5656\n",
      "Epoch 31/100\n",
      "73/73 [==============================] - 0s 2ms/step - loss: 0.3348 - accuracy: 0.5682\n",
      "Epoch 32/100\n",
      "73/73 [==============================] - 0s 2ms/step - loss: 0.3342 - accuracy: 0.5663\n",
      "Epoch 33/100\n",
      "73/73 [==============================] - 0s 2ms/step - loss: 0.3337 - accuracy: 0.5627\n",
      "Epoch 34/100\n",
      "73/73 [==============================] - 0s 3ms/step - loss: 0.3335 - accuracy: 0.5676\n",
      "Epoch 35/100\n",
      "73/73 [==============================] - 0s 3ms/step - loss: 0.3313 - accuracy: 0.5702\n",
      "Epoch 36/100\n",
      "73/73 [==============================] - 0s 2ms/step - loss: 0.3320 - accuracy: 0.5666\n",
      "Epoch 37/100\n",
      "73/73 [==============================] - 0s 3ms/step - loss: 0.3316 - accuracy: 0.5662\n",
      "Epoch 38/100\n",
      "73/73 [==============================] - 0s 3ms/step - loss: 0.3310 - accuracy: 0.5683\n",
      "Epoch 39/100\n",
      "73/73 [==============================] - 0s 3ms/step - loss: 0.3293 - accuracy: 0.5688\n",
      "Epoch 40/100\n",
      "73/73 [==============================] - 0s 3ms/step - loss: 0.3289 - accuracy: 0.5711\n",
      "Epoch 41/100\n",
      "73/73 [==============================] - 0s 2ms/step - loss: 0.3295 - accuracy: 0.5716\n",
      "Epoch 42/100\n",
      "73/73 [==============================] - 0s 3ms/step - loss: 0.3289 - accuracy: 0.5688\n",
      "Epoch 43/100\n",
      "73/73 [==============================] - 0s 2ms/step - loss: 0.3286 - accuracy: 0.5686\n",
      "Epoch 44/100\n",
      "73/73 [==============================] - 0s 2ms/step - loss: 0.3277 - accuracy: 0.5692\n",
      "Epoch 45/100\n",
      "73/73 [==============================] - 0s 2ms/step - loss: 0.3278 - accuracy: 0.5691\n",
      "Epoch 46/100\n",
      "73/73 [==============================] - 0s 2ms/step - loss: 0.3286 - accuracy: 0.5742\n",
      "Epoch 47/100\n",
      "73/73 [==============================] - 0s 3ms/step - loss: 0.3272 - accuracy: 0.5712\n",
      "Epoch 48/100\n",
      "73/73 [==============================] - 0s 2ms/step - loss: 0.3250 - accuracy: 0.5727\n",
      "Epoch 49/100\n",
      "73/73 [==============================] - 0s 2ms/step - loss: 0.3256 - accuracy: 0.5705\n",
      "Epoch 50/100\n",
      "73/73 [==============================] - 0s 3ms/step - loss: 0.3250 - accuracy: 0.5731\n",
      "Epoch 51/100\n",
      "73/73 [==============================] - 0s 2ms/step - loss: 0.3257 - accuracy: 0.5694\n",
      "Epoch 52/100\n",
      "73/73 [==============================] - 0s 2ms/step - loss: 0.3250 - accuracy: 0.5715\n",
      "Epoch 53/100\n",
      "73/73 [==============================] - 0s 2ms/step - loss: 0.3248 - accuracy: 0.5731\n",
      "Epoch 54/100\n",
      "73/73 [==============================] - 0s 3ms/step - loss: 0.3248 - accuracy: 0.5732\n",
      "Epoch 55/100\n",
      "73/73 [==============================] - 0s 3ms/step - loss: 0.3237 - accuracy: 0.5719\n",
      "Epoch 56/100\n",
      "73/73 [==============================] - 0s 3ms/step - loss: 0.3230 - accuracy: 0.5747\n",
      "Epoch 57/100\n",
      "73/73 [==============================] - 0s 2ms/step - loss: 0.3225 - accuracy: 0.5726\n",
      "Epoch 58/100\n",
      "73/73 [==============================] - 0s 2ms/step - loss: 0.3239 - accuracy: 0.5751\n",
      "Epoch 59/100\n",
      "73/73 [==============================] - 0s 2ms/step - loss: 0.3235 - accuracy: 0.5716\n",
      "Epoch 60/100\n",
      "73/73 [==============================] - 0s 2ms/step - loss: 0.3226 - accuracy: 0.5739\n",
      "Epoch 61/100\n",
      "73/73 [==============================] - 0s 2ms/step - loss: 0.3216 - accuracy: 0.5731\n",
      "Epoch 62/100\n",
      "73/73 [==============================] - 0s 2ms/step - loss: 0.3224 - accuracy: 0.5725\n",
      "Epoch 63/100\n",
      "73/73 [==============================] - 0s 2ms/step - loss: 0.3220 - accuracy: 0.5725\n",
      "Epoch 64/100\n",
      "73/73 [==============================] - 0s 2ms/step - loss: 0.3207 - accuracy: 0.5742\n",
      "Epoch 65/100\n",
      "73/73 [==============================] - 0s 2ms/step - loss: 0.3217 - accuracy: 0.5746\n",
      "Epoch 66/100\n",
      "73/73 [==============================] - 0s 2ms/step - loss: 0.3210 - accuracy: 0.5743\n",
      "Epoch 67/100\n",
      "73/73 [==============================] - 0s 2ms/step - loss: 0.3203 - accuracy: 0.5744\n",
      "Epoch 68/100\n",
      "73/73 [==============================] - 0s 2ms/step - loss: 0.3204 - accuracy: 0.5723\n",
      "Epoch 69/100\n",
      "73/73 [==============================] - 0s 2ms/step - loss: 0.3205 - accuracy: 0.5753\n",
      "Epoch 70/100\n",
      "73/73 [==============================] - 0s 2ms/step - loss: 0.3200 - accuracy: 0.5782\n",
      "Epoch 71/100\n",
      "73/73 [==============================] - 0s 2ms/step - loss: 0.3200 - accuracy: 0.5745\n",
      "Epoch 72/100\n",
      "73/73 [==============================] - 0s 3ms/step - loss: 0.3192 - accuracy: 0.5759\n",
      "Epoch 73/100\n",
      "73/73 [==============================] - 0s 2ms/step - loss: 0.3195 - accuracy: 0.5767\n",
      "Epoch 74/100\n",
      "73/73 [==============================] - 0s 3ms/step - loss: 0.3184 - accuracy: 0.5745\n",
      "Epoch 75/100\n",
      "73/73 [==============================] - 0s 3ms/step - loss: 0.3201 - accuracy: 0.5746\n",
      "Epoch 76/100\n",
      "73/73 [==============================] - 0s 3ms/step - loss: 0.3185 - accuracy: 0.5752\n",
      "Epoch 77/100\n",
      "73/73 [==============================] - 0s 3ms/step - loss: 0.3182 - accuracy: 0.5751\n",
      "Epoch 78/100\n",
      "73/73 [==============================] - 0s 3ms/step - loss: 0.3179 - accuracy: 0.5747\n",
      "Epoch 79/100\n",
      "73/73 [==============================] - 0s 3ms/step - loss: 0.3182 - accuracy: 0.5750\n",
      "Epoch 80/100\n",
      "73/73 [==============================] - 0s 3ms/step - loss: 0.3168 - accuracy: 0.5726\n",
      "Epoch 81/100\n",
      "73/73 [==============================] - 0s 3ms/step - loss: 0.3169 - accuracy: 0.5758\n",
      "Epoch 82/100\n",
      "73/73 [==============================] - 0s 3ms/step - loss: 0.3179 - accuracy: 0.5781\n",
      "Epoch 83/100\n",
      "73/73 [==============================] - 0s 2ms/step - loss: 0.3179 - accuracy: 0.5740\n",
      "Epoch 84/100\n",
      "73/73 [==============================] - 0s 3ms/step - loss: 0.3175 - accuracy: 0.5747\n",
      "Epoch 85/100\n",
      "73/73 [==============================] - 0s 2ms/step - loss: 0.3190 - accuracy: 0.5784\n",
      "Epoch 86/100\n",
      "73/73 [==============================] - 0s 2ms/step - loss: 0.3169 - accuracy: 0.5772\n",
      "Epoch 87/100\n",
      "73/73 [==============================] - 0s 2ms/step - loss: 0.3166 - accuracy: 0.5765\n",
      "Epoch 88/100\n",
      "73/73 [==============================] - 0s 3ms/step - loss: 0.3163 - accuracy: 0.5765\n",
      "Epoch 89/100\n",
      "73/73 [==============================] - 0s 3ms/step - loss: 0.3160 - accuracy: 0.5801\n",
      "Epoch 90/100\n",
      "73/73 [==============================] - 0s 2ms/step - loss: 0.3167 - accuracy: 0.5757\n",
      "Epoch 91/100\n",
      "73/73 [==============================] - 0s 3ms/step - loss: 0.3175 - accuracy: 0.5760\n",
      "Epoch 92/100\n",
      "73/73 [==============================] - 0s 3ms/step - loss: 0.3164 - accuracy: 0.5765\n",
      "Epoch 93/100\n",
      "73/73 [==============================] - 0s 3ms/step - loss: 0.3159 - accuracy: 0.5753\n",
      "Epoch 94/100\n",
      "73/73 [==============================] - 0s 2ms/step - loss: 0.3161 - accuracy: 0.5800\n",
      "Epoch 95/100\n",
      "73/73 [==============================] - 0s 2ms/step - loss: 0.3151 - accuracy: 0.5781\n",
      "Epoch 96/100\n",
      "73/73 [==============================] - 0s 3ms/step - loss: 0.3164 - accuracy: 0.5733\n",
      "Epoch 97/100\n",
      "73/73 [==============================] - 0s 2ms/step - loss: 0.3151 - accuracy: 0.5792\n",
      "Epoch 98/100\n",
      "73/73 [==============================] - 0s 2ms/step - loss: 0.3157 - accuracy: 0.5759\n",
      "Epoch 99/100\n",
      "73/73 [==============================] - 0s 2ms/step - loss: 0.3155 - accuracy: 0.5788\n",
      "Epoch 100/100\n",
      "73/73 [==============================] - 0s 2ms/step - loss: 0.3156 - accuracy: 0.5783\n"
     ]
    }
   ],
   "source": [
    "history = model.fit(x_train, y_train, batch_size=255, epochs=100)"
   ]
  },
  {
   "cell_type": "code",
   "execution_count": 74,
   "metadata": {},
   "outputs": [
    {
     "name": "stdout",
     "output_type": "stream",
     "text": [
      "66/66 - 0s - loss: 1.6022 - accuracy: 0.2069 - 215ms/epoch - 3ms/step\n"
     ]
    },
    {
     "data": {
      "text/plain": [
       "[1.6021645069122314, 0.2068965584039688]"
      ]
     },
     "execution_count": 74,
     "metadata": {},
     "output_type": "execute_result"
    }
   ],
   "source": [
    "model.evaluate(x_test, y_test, verbose=2)\n"
   ]
  },
  {
   "cell_type": "code",
   "execution_count": 75,
   "metadata": {},
   "outputs": [
    {
     "data": {
      "text/html": [
       "<div>\n",
       "<style scoped>\n",
       "    .dataframe tbody tr th:only-of-type {\n",
       "        vertical-align: middle;\n",
       "    }\n",
       "\n",
       "    .dataframe tbody tr th {\n",
       "        vertical-align: top;\n",
       "    }\n",
       "\n",
       "    .dataframe thead th {\n",
       "        text-align: right;\n",
       "    }\n",
       "</style>\n",
       "<table border=\"1\" class=\"dataframe\">\n",
       "  <thead>\n",
       "    <tr style=\"text-align: right;\">\n",
       "      <th></th>\n",
       "      <th>loss</th>\n",
       "      <th>accuracy</th>\n",
       "    </tr>\n",
       "  </thead>\n",
       "  <tbody>\n",
       "    <tr>\n",
       "      <th>0</th>\n",
       "      <td>0.906239</td>\n",
       "      <td>0.411727</td>\n",
       "    </tr>\n",
       "    <tr>\n",
       "      <th>1</th>\n",
       "      <td>0.563684</td>\n",
       "      <td>0.485503</td>\n",
       "    </tr>\n",
       "    <tr>\n",
       "      <th>2</th>\n",
       "      <td>0.494799</td>\n",
       "      <td>0.501724</td>\n",
       "    </tr>\n",
       "    <tr>\n",
       "      <th>3</th>\n",
       "      <td>0.459147</td>\n",
       "      <td>0.513365</td>\n",
       "    </tr>\n",
       "    <tr>\n",
       "      <th>4</th>\n",
       "      <td>0.433803</td>\n",
       "      <td>0.525922</td>\n",
       "    </tr>\n",
       "    <tr>\n",
       "      <th>...</th>\n",
       "      <td>...</td>\n",
       "      <td>...</td>\n",
       "    </tr>\n",
       "    <tr>\n",
       "      <th>95</th>\n",
       "      <td>0.316399</td>\n",
       "      <td>0.573292</td>\n",
       "    </tr>\n",
       "    <tr>\n",
       "      <th>96</th>\n",
       "      <td>0.315121</td>\n",
       "      <td>0.579220</td>\n",
       "    </tr>\n",
       "    <tr>\n",
       "      <th>97</th>\n",
       "      <td>0.315705</td>\n",
       "      <td>0.575878</td>\n",
       "    </tr>\n",
       "    <tr>\n",
       "      <th>98</th>\n",
       "      <td>0.315481</td>\n",
       "      <td>0.578842</td>\n",
       "    </tr>\n",
       "    <tr>\n",
       "      <th>99</th>\n",
       "      <td>0.315591</td>\n",
       "      <td>0.578304</td>\n",
       "    </tr>\n",
       "  </tbody>\n",
       "</table>\n",
       "<p>100 rows × 2 columns</p>\n",
       "</div>"
      ],
      "text/plain": [
       "        loss  accuracy\n",
       "0   0.906239  0.411727\n",
       "1   0.563684  0.485503\n",
       "2   0.494799  0.501724\n",
       "3   0.459147  0.513365\n",
       "4   0.433803  0.525922\n",
       "..       ...       ...\n",
       "95  0.316399  0.573292\n",
       "96  0.315121  0.579220\n",
       "97  0.315705  0.575878\n",
       "98  0.315481  0.578842\n",
       "99  0.315591  0.578304\n",
       "\n",
       "[100 rows x 2 columns]"
      ]
     },
     "execution_count": 75,
     "metadata": {},
     "output_type": "execute_result"
    }
   ],
   "source": [
    "metrics = pd.DataFrame(history.history)\n",
    "metrics"
   ]
  },
  {
   "cell_type": "code",
   "execution_count": 76,
   "metadata": {},
   "outputs": [
    {
     "data": {
      "application/vnd.plotly.v1+json": {
       "config": {
        "plotlyServerURL": "https://plot.ly"
       },
       "data": [
        {
         "name": "loss",
         "type": "scatter",
         "xaxis": "x",
         "y": [
          0.906238853931427,
          0.5636839866638184,
          0.4947991669178009,
          0.45914700627326965,
          0.4338027238845825,
          0.4171256124973297,
          0.4025738537311554,
          0.38960111141204834,
          0.38341790437698364,
          0.37352463603019714,
          0.366465300321579,
          0.36429762840270996,
          0.36145591735839844,
          0.3571055829524994,
          0.35651981830596924,
          0.3524017930030823,
          0.3508327007293701,
          0.34792155027389526,
          0.3474426567554474,
          0.3467675745487213,
          0.34508997201919556,
          0.3435470163822174,
          0.3420582115650177,
          0.34026801586151123,
          0.3409973978996277,
          0.3386249244213104,
          0.3387904763221741,
          0.33733129501342773,
          0.33592426776885986,
          0.33535850048065186,
          0.3347588777542114,
          0.3341915011405945,
          0.3337431848049164,
          0.33351969718933105,
          0.33130452036857605,
          0.3320346474647522,
          0.33159640431404114,
          0.33095791935920715,
          0.3292725682258606,
          0.3289436399936676,
          0.32951515913009644,
          0.3288952708244324,
          0.3285832703113556,
          0.32772812247276306,
          0.327841579914093,
          0.3286275863647461,
          0.3271920680999756,
          0.3249601125717163,
          0.3255749046802521,
          0.32504570484161377,
          0.32570332288742065,
          0.3249930143356323,
          0.324753075838089,
          0.32479479908943176,
          0.3237030804157257,
          0.32296454906463623,
          0.32247841358184814,
          0.32387876510620117,
          0.32351118326187134,
          0.3226396441459656,
          0.3216433525085449,
          0.32237252593040466,
          0.32202818989753723,
          0.32068654894828796,
          0.3217135965824127,
          0.3210183084011078,
          0.32025977969169617,
          0.32044923305511475,
          0.32053765654563904,
          0.3199869692325592,
          0.3199929893016815,
          0.3191905617713928,
          0.31945711374282837,
          0.3183765411376953,
          0.32008835673332214,
          0.3185397982597351,
          0.3182137608528137,
          0.31788232922554016,
          0.3181646466255188,
          0.31682226061820984,
          0.316948264837265,
          0.31793609261512756,
          0.3179357945919037,
          0.3174736201763153,
          0.31901031732559204,
          0.3169095516204834,
          0.31664803624153137,
          0.31630179286003113,
          0.31595665216445923,
          0.31667429208755493,
          0.3175071179866791,
          0.3163839280605316,
          0.3159123957157135,
          0.3161194324493408,
          0.31514719128608704,
          0.316399484872818,
          0.3151205778121948,
          0.31570541858673096,
          0.3154812157154083,
          0.3155912756919861
         ],
         "yaxis": "y"
        },
        {
         "name": "accuracy",
         "type": "scatter",
         "xaxis": "x2",
         "y": [
          0.4117266535758972,
          0.48550334572792053,
          0.5017244815826416,
          0.5133649706840515,
          0.5259215235710144,
          0.5330890417098999,
          0.5409570932388306,
          0.5466695427894592,
          0.5502263307571411,
          0.5527592301368713,
          0.5557771325111389,
          0.5579327344894409,
          0.5569088459014893,
          0.558525562286377,
          0.5581483244895935,
          0.5593878030776978,
          0.5602500438690186,
          0.5639685392379761,
          0.5622978806495667,
          0.5615434646606445,
          0.5659624934196472,
          0.5638607740402222,
          0.5645613074302673,
          0.5666630864143372,
          0.5653157830238342,
          0.5667169690132141,
          0.5648307800292969,
          0.5636451840400696,
          0.5685492753982544,
          0.5655852556228638,
          0.5682259202003479,
          0.5662858486175537,
          0.5626751184463501,
          0.5676330924034119,
          0.570219874382019,
          0.5666092038154602,
          0.5661780834197998,
          0.5683336853981018,
          0.5688186883926392,
          0.5711359977722168,
          0.5716210603713989,
          0.5688186883926392,
          0.5686031579971313,
          0.5691959261894226,
          0.5691420435905457,
          0.5742077827453613,
          0.5711899399757385,
          0.5726988315582275,
          0.5705432295799255,
          0.5731300115585327,
          0.5693576335906982,
          0.5715132355690002,
          0.573076069355011,
          0.5731838941574097,
          0.5718904733657837,
          0.5747467279434204,
          0.5725910663604736,
          0.5751239657402039,
          0.571567177772522,
          0.5739383697509766,
          0.5731300115585327,
          0.5725371837615967,
          0.5725371837615967,
          0.5741539001464844,
          0.5746389031410217,
          0.5742616653442383,
          0.5744233727455139,
          0.5722677111625671,
          0.5752856135368347,
          0.5782496333122253,
          0.5744772553443909,
          0.5759323239326477,
          0.5767406821250916,
          0.5744772553443909,
          0.5745850205421448,
          0.5751778483390808,
          0.5751239657402039,
          0.5747467279434204,
          0.5749622583389282,
          0.5725910663604736,
          0.5757706165313721,
          0.5780879259109497,
          0.5739922523498535,
          0.5746928453445435,
          0.5783573985099792,
          0.577171802520752,
          0.576525092124939,
          0.576525092124939,
          0.5800819396972656,
          0.5757167339324951,
          0.5760400891304016,
          0.576471209526062,
          0.5753394961357117,
          0.5800279974937439,
          0.5781418681144714,
          0.5732916593551636,
          0.5792196393013,
          0.5758784413337708,
          0.5788424015045166,
          0.5783035159111023
         ],
         "yaxis": "y2"
        }
       ],
       "layout": {
        "template": {
         "data": {
          "bar": [
           {
            "error_x": {
             "color": "#2a3f5f"
            },
            "error_y": {
             "color": "#2a3f5f"
            },
            "marker": {
             "line": {
              "color": "#E5ECF6",
              "width": 0.5
             },
             "pattern": {
              "fillmode": "overlay",
              "size": 10,
              "solidity": 0.2
             }
            },
            "type": "bar"
           }
          ],
          "barpolar": [
           {
            "marker": {
             "line": {
              "color": "#E5ECF6",
              "width": 0.5
             },
             "pattern": {
              "fillmode": "overlay",
              "size": 10,
              "solidity": 0.2
             }
            },
            "type": "barpolar"
           }
          ],
          "carpet": [
           {
            "aaxis": {
             "endlinecolor": "#2a3f5f",
             "gridcolor": "white",
             "linecolor": "white",
             "minorgridcolor": "white",
             "startlinecolor": "#2a3f5f"
            },
            "baxis": {
             "endlinecolor": "#2a3f5f",
             "gridcolor": "white",
             "linecolor": "white",
             "minorgridcolor": "white",
             "startlinecolor": "#2a3f5f"
            },
            "type": "carpet"
           }
          ],
          "choropleth": [
           {
            "colorbar": {
             "outlinewidth": 0,
             "ticks": ""
            },
            "type": "choropleth"
           }
          ],
          "contour": [
           {
            "colorbar": {
             "outlinewidth": 0,
             "ticks": ""
            },
            "colorscale": [
             [
              0,
              "#0d0887"
             ],
             [
              0.1111111111111111,
              "#46039f"
             ],
             [
              0.2222222222222222,
              "#7201a8"
             ],
             [
              0.3333333333333333,
              "#9c179e"
             ],
             [
              0.4444444444444444,
              "#bd3786"
             ],
             [
              0.5555555555555556,
              "#d8576b"
             ],
             [
              0.6666666666666666,
              "#ed7953"
             ],
             [
              0.7777777777777778,
              "#fb9f3a"
             ],
             [
              0.8888888888888888,
              "#fdca26"
             ],
             [
              1,
              "#f0f921"
             ]
            ],
            "type": "contour"
           }
          ],
          "contourcarpet": [
           {
            "colorbar": {
             "outlinewidth": 0,
             "ticks": ""
            },
            "type": "contourcarpet"
           }
          ],
          "heatmap": [
           {
            "colorbar": {
             "outlinewidth": 0,
             "ticks": ""
            },
            "colorscale": [
             [
              0,
              "#0d0887"
             ],
             [
              0.1111111111111111,
              "#46039f"
             ],
             [
              0.2222222222222222,
              "#7201a8"
             ],
             [
              0.3333333333333333,
              "#9c179e"
             ],
             [
              0.4444444444444444,
              "#bd3786"
             ],
             [
              0.5555555555555556,
              "#d8576b"
             ],
             [
              0.6666666666666666,
              "#ed7953"
             ],
             [
              0.7777777777777778,
              "#fb9f3a"
             ],
             [
              0.8888888888888888,
              "#fdca26"
             ],
             [
              1,
              "#f0f921"
             ]
            ],
            "type": "heatmap"
           }
          ],
          "heatmapgl": [
           {
            "colorbar": {
             "outlinewidth": 0,
             "ticks": ""
            },
            "colorscale": [
             [
              0,
              "#0d0887"
             ],
             [
              0.1111111111111111,
              "#46039f"
             ],
             [
              0.2222222222222222,
              "#7201a8"
             ],
             [
              0.3333333333333333,
              "#9c179e"
             ],
             [
              0.4444444444444444,
              "#bd3786"
             ],
             [
              0.5555555555555556,
              "#d8576b"
             ],
             [
              0.6666666666666666,
              "#ed7953"
             ],
             [
              0.7777777777777778,
              "#fb9f3a"
             ],
             [
              0.8888888888888888,
              "#fdca26"
             ],
             [
              1,
              "#f0f921"
             ]
            ],
            "type": "heatmapgl"
           }
          ],
          "histogram": [
           {
            "marker": {
             "pattern": {
              "fillmode": "overlay",
              "size": 10,
              "solidity": 0.2
             }
            },
            "type": "histogram"
           }
          ],
          "histogram2d": [
           {
            "colorbar": {
             "outlinewidth": 0,
             "ticks": ""
            },
            "colorscale": [
             [
              0,
              "#0d0887"
             ],
             [
              0.1111111111111111,
              "#46039f"
             ],
             [
              0.2222222222222222,
              "#7201a8"
             ],
             [
              0.3333333333333333,
              "#9c179e"
             ],
             [
              0.4444444444444444,
              "#bd3786"
             ],
             [
              0.5555555555555556,
              "#d8576b"
             ],
             [
              0.6666666666666666,
              "#ed7953"
             ],
             [
              0.7777777777777778,
              "#fb9f3a"
             ],
             [
              0.8888888888888888,
              "#fdca26"
             ],
             [
              1,
              "#f0f921"
             ]
            ],
            "type": "histogram2d"
           }
          ],
          "histogram2dcontour": [
           {
            "colorbar": {
             "outlinewidth": 0,
             "ticks": ""
            },
            "colorscale": [
             [
              0,
              "#0d0887"
             ],
             [
              0.1111111111111111,
              "#46039f"
             ],
             [
              0.2222222222222222,
              "#7201a8"
             ],
             [
              0.3333333333333333,
              "#9c179e"
             ],
             [
              0.4444444444444444,
              "#bd3786"
             ],
             [
              0.5555555555555556,
              "#d8576b"
             ],
             [
              0.6666666666666666,
              "#ed7953"
             ],
             [
              0.7777777777777778,
              "#fb9f3a"
             ],
             [
              0.8888888888888888,
              "#fdca26"
             ],
             [
              1,
              "#f0f921"
             ]
            ],
            "type": "histogram2dcontour"
           }
          ],
          "mesh3d": [
           {
            "colorbar": {
             "outlinewidth": 0,
             "ticks": ""
            },
            "type": "mesh3d"
           }
          ],
          "parcoords": [
           {
            "line": {
             "colorbar": {
              "outlinewidth": 0,
              "ticks": ""
             }
            },
            "type": "parcoords"
           }
          ],
          "pie": [
           {
            "automargin": true,
            "type": "pie"
           }
          ],
          "scatter": [
           {
            "fillpattern": {
             "fillmode": "overlay",
             "size": 10,
             "solidity": 0.2
            },
            "type": "scatter"
           }
          ],
          "scatter3d": [
           {
            "line": {
             "colorbar": {
              "outlinewidth": 0,
              "ticks": ""
             }
            },
            "marker": {
             "colorbar": {
              "outlinewidth": 0,
              "ticks": ""
             }
            },
            "type": "scatter3d"
           }
          ],
          "scattercarpet": [
           {
            "marker": {
             "colorbar": {
              "outlinewidth": 0,
              "ticks": ""
             }
            },
            "type": "scattercarpet"
           }
          ],
          "scattergeo": [
           {
            "marker": {
             "colorbar": {
              "outlinewidth": 0,
              "ticks": ""
             }
            },
            "type": "scattergeo"
           }
          ],
          "scattergl": [
           {
            "marker": {
             "colorbar": {
              "outlinewidth": 0,
              "ticks": ""
             }
            },
            "type": "scattergl"
           }
          ],
          "scattermapbox": [
           {
            "marker": {
             "colorbar": {
              "outlinewidth": 0,
              "ticks": ""
             }
            },
            "type": "scattermapbox"
           }
          ],
          "scatterpolar": [
           {
            "marker": {
             "colorbar": {
              "outlinewidth": 0,
              "ticks": ""
             }
            },
            "type": "scatterpolar"
           }
          ],
          "scatterpolargl": [
           {
            "marker": {
             "colorbar": {
              "outlinewidth": 0,
              "ticks": ""
             }
            },
            "type": "scatterpolargl"
           }
          ],
          "scatterternary": [
           {
            "marker": {
             "colorbar": {
              "outlinewidth": 0,
              "ticks": ""
             }
            },
            "type": "scatterternary"
           }
          ],
          "surface": [
           {
            "colorbar": {
             "outlinewidth": 0,
             "ticks": ""
            },
            "colorscale": [
             [
              0,
              "#0d0887"
             ],
             [
              0.1111111111111111,
              "#46039f"
             ],
             [
              0.2222222222222222,
              "#7201a8"
             ],
             [
              0.3333333333333333,
              "#9c179e"
             ],
             [
              0.4444444444444444,
              "#bd3786"
             ],
             [
              0.5555555555555556,
              "#d8576b"
             ],
             [
              0.6666666666666666,
              "#ed7953"
             ],
             [
              0.7777777777777778,
              "#fb9f3a"
             ],
             [
              0.8888888888888888,
              "#fdca26"
             ],
             [
              1,
              "#f0f921"
             ]
            ],
            "type": "surface"
           }
          ],
          "table": [
           {
            "cells": {
             "fill": {
              "color": "#EBF0F8"
             },
             "line": {
              "color": "white"
             }
            },
            "header": {
             "fill": {
              "color": "#C8D4E3"
             },
             "line": {
              "color": "white"
             }
            },
            "type": "table"
           }
          ]
         },
         "layout": {
          "annotationdefaults": {
           "arrowcolor": "#2a3f5f",
           "arrowhead": 0,
           "arrowwidth": 1
          },
          "autotypenumbers": "strict",
          "coloraxis": {
           "colorbar": {
            "outlinewidth": 0,
            "ticks": ""
           }
          },
          "colorscale": {
           "diverging": [
            [
             0,
             "#8e0152"
            ],
            [
             0.1,
             "#c51b7d"
            ],
            [
             0.2,
             "#de77ae"
            ],
            [
             0.3,
             "#f1b6da"
            ],
            [
             0.4,
             "#fde0ef"
            ],
            [
             0.5,
             "#f7f7f7"
            ],
            [
             0.6,
             "#e6f5d0"
            ],
            [
             0.7,
             "#b8e186"
            ],
            [
             0.8,
             "#7fbc41"
            ],
            [
             0.9,
             "#4d9221"
            ],
            [
             1,
             "#276419"
            ]
           ],
           "sequential": [
            [
             0,
             "#0d0887"
            ],
            [
             0.1111111111111111,
             "#46039f"
            ],
            [
             0.2222222222222222,
             "#7201a8"
            ],
            [
             0.3333333333333333,
             "#9c179e"
            ],
            [
             0.4444444444444444,
             "#bd3786"
            ],
            [
             0.5555555555555556,
             "#d8576b"
            ],
            [
             0.6666666666666666,
             "#ed7953"
            ],
            [
             0.7777777777777778,
             "#fb9f3a"
            ],
            [
             0.8888888888888888,
             "#fdca26"
            ],
            [
             1,
             "#f0f921"
            ]
           ],
           "sequentialminus": [
            [
             0,
             "#0d0887"
            ],
            [
             0.1111111111111111,
             "#46039f"
            ],
            [
             0.2222222222222222,
             "#7201a8"
            ],
            [
             0.3333333333333333,
             "#9c179e"
            ],
            [
             0.4444444444444444,
             "#bd3786"
            ],
            [
             0.5555555555555556,
             "#d8576b"
            ],
            [
             0.6666666666666666,
             "#ed7953"
            ],
            [
             0.7777777777777778,
             "#fb9f3a"
            ],
            [
             0.8888888888888888,
             "#fdca26"
            ],
            [
             1,
             "#f0f921"
            ]
           ]
          },
          "colorway": [
           "#636efa",
           "#EF553B",
           "#00cc96",
           "#ab63fa",
           "#FFA15A",
           "#19d3f3",
           "#FF6692",
           "#B6E880",
           "#FF97FF",
           "#FECB52"
          ],
          "font": {
           "color": "#2a3f5f"
          },
          "geo": {
           "bgcolor": "white",
           "lakecolor": "white",
           "landcolor": "#E5ECF6",
           "showlakes": true,
           "showland": true,
           "subunitcolor": "white"
          },
          "hoverlabel": {
           "align": "left"
          },
          "hovermode": "closest",
          "mapbox": {
           "style": "light"
          },
          "paper_bgcolor": "white",
          "plot_bgcolor": "#E5ECF6",
          "polar": {
           "angularaxis": {
            "gridcolor": "white",
            "linecolor": "white",
            "ticks": ""
           },
           "bgcolor": "#E5ECF6",
           "radialaxis": {
            "gridcolor": "white",
            "linecolor": "white",
            "ticks": ""
           }
          },
          "scene": {
           "xaxis": {
            "backgroundcolor": "#E5ECF6",
            "gridcolor": "white",
            "gridwidth": 2,
            "linecolor": "white",
            "showbackground": true,
            "ticks": "",
            "zerolinecolor": "white"
           },
           "yaxis": {
            "backgroundcolor": "#E5ECF6",
            "gridcolor": "white",
            "gridwidth": 2,
            "linecolor": "white",
            "showbackground": true,
            "ticks": "",
            "zerolinecolor": "white"
           },
           "zaxis": {
            "backgroundcolor": "#E5ECF6",
            "gridcolor": "white",
            "gridwidth": 2,
            "linecolor": "white",
            "showbackground": true,
            "ticks": "",
            "zerolinecolor": "white"
           }
          },
          "shapedefaults": {
           "line": {
            "color": "#2a3f5f"
           }
          },
          "ternary": {
           "aaxis": {
            "gridcolor": "white",
            "linecolor": "white",
            "ticks": ""
           },
           "baxis": {
            "gridcolor": "white",
            "linecolor": "white",
            "ticks": ""
           },
           "bgcolor": "#E5ECF6",
           "caxis": {
            "gridcolor": "white",
            "linecolor": "white",
            "ticks": ""
           }
          },
          "title": {
           "x": 0.05
          },
          "xaxis": {
           "automargin": true,
           "gridcolor": "white",
           "linecolor": "white",
           "ticks": "",
           "title": {
            "standoff": 15
           },
           "zerolinecolor": "white",
           "zerolinewidth": 2
          },
          "yaxis": {
           "automargin": true,
           "gridcolor": "white",
           "linecolor": "white",
           "ticks": "",
           "title": {
            "standoff": 15
           },
           "zerolinecolor": "white",
           "zerolinewidth": 2
          }
         }
        },
        "width": 800,
        "xaxis": {
         "anchor": "y",
         "domain": [
          0,
          1
         ]
        },
        "xaxis2": {
         "anchor": "y2",
         "domain": [
          0,
          1
         ]
        },
        "yaxis": {
         "anchor": "x",
         "domain": [
          0.575,
          1
         ]
        },
        "yaxis2": {
         "anchor": "x2",
         "domain": [
          0,
          0.425
         ]
        }
       }
      }
     },
     "metadata": {},
     "output_type": "display_data"
    }
   ],
   "source": [
    "fig = make_subplots(rows=2, cols=1)\n",
    "fig.add_trace(go.Scatter(y=metrics['loss'], name='loss'), row=1, col=1)\n",
    "fig.add_trace(go.Scatter(y=metrics['accuracy'], name='accuracy'), row=2, col=1)\n",
    "fig.update_layout(width=800)"
   ]
  },
  {
   "cell_type": "code",
   "execution_count": 77,
   "metadata": {},
   "outputs": [
    {
     "name": "stdout",
     "output_type": "stream",
     "text": [
      "66/66 [==============================] - 0s 1ms/step\n",
      "      Failure_F1  Failure_F2  Failure_F3  Failure_F4  Failure_F5\n",
      "0              0           0           0           0           0\n",
      "1              0           0           0           0           0\n",
      "2              0           0           0           0           0\n",
      "3              0           0           0           0           0\n",
      "4              0           0           0           0           0\n",
      "...          ...         ...         ...         ...         ...\n",
      "2083           0           0           0           0           1\n",
      "2084           0           0           0           0           1\n",
      "2085           0           0           0           0           1\n",
      "2086           0           0           0           0           1\n",
      "2087           0           0           0           0           1\n",
      "\n",
      "[2088 rows x 5 columns]\n",
      "[[7.7223898e-09 2.8739891e-10 6.1157234e-06 2.7297970e-02 1.9937287e-04]\n",
      " [1.7168167e-08 3.4182463e-08 3.1097289e-10 8.2672061e-03 3.1327754e-01]\n",
      " [2.1871559e-08 9.5628764e-08 9.3999974e-11 8.8124992e-03 5.4515892e-01]\n",
      " ...\n",
      " [2.4759359e-07 8.3247622e-18 2.8888205e-01 4.5488253e+00 2.9038954e+00]\n",
      " [2.2973052e-07 6.9910319e-18 2.7351424e-01 4.5779233e+00 2.9271181e+00]\n",
      " [2.1214873e-07 5.8534493e-18 2.6088747e-01 4.6039200e+00 2.9359331e+00]]\n"
     ]
    }
   ],
   "source": [
    "x_pred=model.predict(x_test)\n",
    "print(y_test)\n",
    "print(x_pred)"
   ]
  },
  {
   "cell_type": "code",
   "execution_count": 78,
   "metadata": {},
   "outputs": [
    {
     "data": {
      "text/plain": [
       "array([3, 4, 4, ..., 3, 3, 3], dtype=int64)"
      ]
     },
     "execution_count": 78,
     "metadata": {},
     "output_type": "execute_result"
    }
   ],
   "source": [
    "\n",
    "y_pred=np.argmax(x_pred,axis=1)\n",
    "y_pred\n"
   ]
  },
  {
   "cell_type": "code",
   "execution_count": 79,
   "metadata": {},
   "outputs": [
    {
     "data": {
      "text/html": [
       "<div>\n",
       "<style scoped>\n",
       "    .dataframe tbody tr th:only-of-type {\n",
       "        vertical-align: middle;\n",
       "    }\n",
       "\n",
       "    .dataframe tbody tr th {\n",
       "        vertical-align: top;\n",
       "    }\n",
       "\n",
       "    .dataframe thead th {\n",
       "        text-align: right;\n",
       "    }\n",
       "</style>\n",
       "<table border=\"1\" class=\"dataframe\">\n",
       "  <thead>\n",
       "    <tr style=\"text-align: right;\">\n",
       "      <th></th>\n",
       "      <th>Failure_F1</th>\n",
       "      <th>Failure_F2</th>\n",
       "      <th>Failure_F3</th>\n",
       "      <th>Failure_F4</th>\n",
       "      <th>Failure_F5</th>\n",
       "      <th>y_pred</th>\n",
       "    </tr>\n",
       "  </thead>\n",
       "  <tbody>\n",
       "    <tr>\n",
       "      <th>0</th>\n",
       "      <td>0</td>\n",
       "      <td>0</td>\n",
       "      <td>0</td>\n",
       "      <td>0</td>\n",
       "      <td>0</td>\n",
       "      <td>3</td>\n",
       "    </tr>\n",
       "    <tr>\n",
       "      <th>1</th>\n",
       "      <td>0</td>\n",
       "      <td>0</td>\n",
       "      <td>0</td>\n",
       "      <td>0</td>\n",
       "      <td>0</td>\n",
       "      <td>4</td>\n",
       "    </tr>\n",
       "    <tr>\n",
       "      <th>2</th>\n",
       "      <td>0</td>\n",
       "      <td>0</td>\n",
       "      <td>0</td>\n",
       "      <td>0</td>\n",
       "      <td>0</td>\n",
       "      <td>4</td>\n",
       "    </tr>\n",
       "    <tr>\n",
       "      <th>3</th>\n",
       "      <td>0</td>\n",
       "      <td>0</td>\n",
       "      <td>0</td>\n",
       "      <td>0</td>\n",
       "      <td>0</td>\n",
       "      <td>4</td>\n",
       "    </tr>\n",
       "    <tr>\n",
       "      <th>4</th>\n",
       "      <td>0</td>\n",
       "      <td>0</td>\n",
       "      <td>0</td>\n",
       "      <td>0</td>\n",
       "      <td>0</td>\n",
       "      <td>4</td>\n",
       "    </tr>\n",
       "    <tr>\n",
       "      <th>5</th>\n",
       "      <td>0</td>\n",
       "      <td>0</td>\n",
       "      <td>0</td>\n",
       "      <td>0</td>\n",
       "      <td>0</td>\n",
       "      <td>4</td>\n",
       "    </tr>\n",
       "    <tr>\n",
       "      <th>6</th>\n",
       "      <td>0</td>\n",
       "      <td>0</td>\n",
       "      <td>0</td>\n",
       "      <td>0</td>\n",
       "      <td>0</td>\n",
       "      <td>4</td>\n",
       "    </tr>\n",
       "    <tr>\n",
       "      <th>7</th>\n",
       "      <td>0</td>\n",
       "      <td>0</td>\n",
       "      <td>0</td>\n",
       "      <td>0</td>\n",
       "      <td>0</td>\n",
       "      <td>4</td>\n",
       "    </tr>\n",
       "    <tr>\n",
       "      <th>8</th>\n",
       "      <td>0</td>\n",
       "      <td>0</td>\n",
       "      <td>0</td>\n",
       "      <td>0</td>\n",
       "      <td>0</td>\n",
       "      <td>4</td>\n",
       "    </tr>\n",
       "    <tr>\n",
       "      <th>9</th>\n",
       "      <td>0</td>\n",
       "      <td>0</td>\n",
       "      <td>0</td>\n",
       "      <td>0</td>\n",
       "      <td>0</td>\n",
       "      <td>4</td>\n",
       "    </tr>\n",
       "  </tbody>\n",
       "</table>\n",
       "</div>"
      ],
      "text/plain": [
       "   Failure_F1  Failure_F2  Failure_F3  Failure_F4  Failure_F5  y_pred\n",
       "0           0           0           0           0           0       3\n",
       "1           0           0           0           0           0       4\n",
       "2           0           0           0           0           0       4\n",
       "3           0           0           0           0           0       4\n",
       "4           0           0           0           0           0       4\n",
       "5           0           0           0           0           0       4\n",
       "6           0           0           0           0           0       4\n",
       "7           0           0           0           0           0       4\n",
       "8           0           0           0           0           0       4\n",
       "9           0           0           0           0           0       4"
      ]
     },
     "execution_count": 79,
     "metadata": {},
     "output_type": "execute_result"
    }
   ],
   "source": [
    "pred= pd.concat([pd.DataFrame(y_test, columns=['Failure_F1','Failure_F2','Failure_F3','Failure_F4','Failure_F5']), pd.DataFrame(y_pred, columns=['y_pred'])], axis=1)\n",
    "pred.head(10)"
   ]
  },
  {
   "cell_type": "code",
   "execution_count": 80,
   "metadata": {},
   "outputs": [
    {
     "ename": "KeyError",
     "evalue": "'y_test'",
     "output_type": "error",
     "traceback": [
      "\u001b[1;31m---------------------------------------------------------------------------\u001b[0m",
      "\u001b[1;31mKeyError\u001b[0m                                  Traceback (most recent call last)",
      "\u001b[1;32md:\\DS\\Python\\lib\\site-packages\\pandas\\core\\indexes\\base.py\u001b[0m in \u001b[0;36mget_loc\u001b[1;34m(self, key, method, tolerance)\u001b[0m\n\u001b[0;32m   2897\u001b[0m             \u001b[1;32mtry\u001b[0m\u001b[1;33m:\u001b[0m\u001b[1;33m\u001b[0m\u001b[0m\n\u001b[1;32m-> 2898\u001b[1;33m                 \u001b[1;32mreturn\u001b[0m \u001b[0mself\u001b[0m\u001b[1;33m.\u001b[0m\u001b[0m_engine\u001b[0m\u001b[1;33m.\u001b[0m\u001b[0mget_loc\u001b[0m\u001b[1;33m(\u001b[0m\u001b[0mcasted_key\u001b[0m\u001b[1;33m)\u001b[0m\u001b[1;33m\u001b[0m\u001b[0m\n\u001b[0m\u001b[0;32m   2899\u001b[0m             \u001b[1;32mexcept\u001b[0m \u001b[0mKeyError\u001b[0m \u001b[1;32mas\u001b[0m \u001b[0merr\u001b[0m\u001b[1;33m:\u001b[0m\u001b[1;33m\u001b[0m\u001b[0m\n",
      "\u001b[1;32mpandas\\_libs\\index.pyx\u001b[0m in \u001b[0;36mpandas._libs.index.IndexEngine.get_loc\u001b[1;34m()\u001b[0m\n",
      "\u001b[1;32mpandas\\_libs\\index.pyx\u001b[0m in \u001b[0;36mpandas._libs.index.IndexEngine.get_loc\u001b[1;34m()\u001b[0m\n",
      "\u001b[1;32mpandas\\_libs\\hashtable_class_helper.pxi\u001b[0m in \u001b[0;36mpandas._libs.hashtable.PyObjectHashTable.get_item\u001b[1;34m()\u001b[0m\n",
      "\u001b[1;32mpandas\\_libs\\hashtable_class_helper.pxi\u001b[0m in \u001b[0;36mpandas._libs.hashtable.PyObjectHashTable.get_item\u001b[1;34m()\u001b[0m\n",
      "\u001b[1;31mKeyError\u001b[0m: 'y_test'",
      "\nThe above exception was the direct cause of the following exception:\n",
      "\u001b[1;31mKeyError\u001b[0m                                  Traceback (most recent call last)",
      "\u001b[1;32m~\\AppData\\Local\\Temp\\ipykernel_15264\\1900717719.py\u001b[0m in \u001b[0;36m<module>\u001b[1;34m\u001b[0m\n\u001b[1;32m----> 1\u001b[1;33m \u001b[0mmisclassified\u001b[0m \u001b[1;33m=\u001b[0m \u001b[0mpred\u001b[0m\u001b[1;33m[\u001b[0m\u001b[0mpred\u001b[0m\u001b[1;33m[\u001b[0m\u001b[1;34m'y_test'\u001b[0m\u001b[1;33m]\u001b[0m \u001b[1;33m!=\u001b[0m \u001b[0mpred\u001b[0m\u001b[1;33m[\u001b[0m\u001b[1;34m'y_pred'\u001b[0m\u001b[1;33m]\u001b[0m\u001b[1;33m]\u001b[0m\u001b[1;33m\u001b[0m\u001b[0m\n\u001b[0m\u001b[0;32m      2\u001b[0m \u001b[0mmisclassified\u001b[0m\u001b[1;33m.\u001b[0m\u001b[0mindex\u001b[0m\u001b[1;33m[\u001b[0m\u001b[1;33m:\u001b[0m\u001b[1;36m10\u001b[0m\u001b[1;33m]\u001b[0m\u001b[1;33m\u001b[0m\u001b[0m\n",
      "\u001b[1;32md:\\DS\\Python\\lib\\site-packages\\pandas\\core\\frame.py\u001b[0m in \u001b[0;36m__getitem__\u001b[1;34m(self, key)\u001b[0m\n\u001b[0;32m   2904\u001b[0m             \u001b[1;32mif\u001b[0m \u001b[0mself\u001b[0m\u001b[1;33m.\u001b[0m\u001b[0mcolumns\u001b[0m\u001b[1;33m.\u001b[0m\u001b[0mnlevels\u001b[0m \u001b[1;33m>\u001b[0m \u001b[1;36m1\u001b[0m\u001b[1;33m:\u001b[0m\u001b[1;33m\u001b[0m\u001b[0m\n\u001b[0;32m   2905\u001b[0m                 \u001b[1;32mreturn\u001b[0m \u001b[0mself\u001b[0m\u001b[1;33m.\u001b[0m\u001b[0m_getitem_multilevel\u001b[0m\u001b[1;33m(\u001b[0m\u001b[0mkey\u001b[0m\u001b[1;33m)\u001b[0m\u001b[1;33m\u001b[0m\u001b[0m\n\u001b[1;32m-> 2906\u001b[1;33m             \u001b[0mindexer\u001b[0m \u001b[1;33m=\u001b[0m \u001b[0mself\u001b[0m\u001b[1;33m.\u001b[0m\u001b[0mcolumns\u001b[0m\u001b[1;33m.\u001b[0m\u001b[0mget_loc\u001b[0m\u001b[1;33m(\u001b[0m\u001b[0mkey\u001b[0m\u001b[1;33m)\u001b[0m\u001b[1;33m\u001b[0m\u001b[0m\n\u001b[0m\u001b[0;32m   2907\u001b[0m             \u001b[1;32mif\u001b[0m \u001b[0mis_integer\u001b[0m\u001b[1;33m(\u001b[0m\u001b[0mindexer\u001b[0m\u001b[1;33m)\u001b[0m\u001b[1;33m:\u001b[0m\u001b[1;33m\u001b[0m\u001b[0m\n\u001b[0;32m   2908\u001b[0m                 \u001b[0mindexer\u001b[0m \u001b[1;33m=\u001b[0m \u001b[1;33m[\u001b[0m\u001b[0mindexer\u001b[0m\u001b[1;33m]\u001b[0m\u001b[1;33m\u001b[0m\u001b[0m\n",
      "\u001b[1;32md:\\DS\\Python\\lib\\site-packages\\pandas\\core\\indexes\\base.py\u001b[0m in \u001b[0;36mget_loc\u001b[1;34m(self, key, method, tolerance)\u001b[0m\n\u001b[0;32m   2898\u001b[0m                 \u001b[1;32mreturn\u001b[0m \u001b[0mself\u001b[0m\u001b[1;33m.\u001b[0m\u001b[0m_engine\u001b[0m\u001b[1;33m.\u001b[0m\u001b[0mget_loc\u001b[0m\u001b[1;33m(\u001b[0m\u001b[0mcasted_key\u001b[0m\u001b[1;33m)\u001b[0m\u001b[1;33m\u001b[0m\u001b[0m\n\u001b[0;32m   2899\u001b[0m             \u001b[1;32mexcept\u001b[0m \u001b[0mKeyError\u001b[0m \u001b[1;32mas\u001b[0m \u001b[0merr\u001b[0m\u001b[1;33m:\u001b[0m\u001b[1;33m\u001b[0m\u001b[0m\n\u001b[1;32m-> 2900\u001b[1;33m                 \u001b[1;32mraise\u001b[0m \u001b[0mKeyError\u001b[0m\u001b[1;33m(\u001b[0m\u001b[0mkey\u001b[0m\u001b[1;33m)\u001b[0m \u001b[1;32mfrom\u001b[0m \u001b[0merr\u001b[0m\u001b[1;33m\u001b[0m\u001b[0m\n\u001b[0m\u001b[0;32m   2901\u001b[0m \u001b[1;33m\u001b[0m\u001b[0m\n\u001b[0;32m   2902\u001b[0m         \u001b[1;32mif\u001b[0m \u001b[0mtolerance\u001b[0m \u001b[1;32mis\u001b[0m \u001b[1;32mnot\u001b[0m \u001b[1;32mNone\u001b[0m\u001b[1;33m:\u001b[0m\u001b[1;33m\u001b[0m\u001b[0m\n",
      "\u001b[1;31mKeyError\u001b[0m: 'y_test'"
     ]
    }
   ],
   "source": [
    "misclassified = pred[pred['y_test'] != pred['y_pred']]\n",
    "misclassified.index[:10]"
   ]
  },
  {
   "cell_type": "code",
   "execution_count": null,
   "metadata": {},
   "outputs": [],
   "source": []
  }
 ],
 "metadata": {
  "kernelspec": {
   "display_name": "Python 3.7.0 64-bit",
   "language": "python",
   "name": "python3"
  },
  "language_info": {
   "codemirror_mode": {
    "name": "ipython",
    "version": 3
   },
   "file_extension": ".py",
   "mimetype": "text/x-python",
   "name": "python",
   "nbconvert_exporter": "python",
   "pygments_lexer": "ipython3",
   "version": "3.7.0"
  },
  "orig_nbformat": 4,
  "vscode": {
   "interpreter": {
    "hash": "77cfee6c5d2120321caac64ec6fe25cdf66ef28d2dcc95bb3e9c90da929e7e21"
   }
  }
 },
 "nbformat": 4,
 "nbformat_minor": 2
}
