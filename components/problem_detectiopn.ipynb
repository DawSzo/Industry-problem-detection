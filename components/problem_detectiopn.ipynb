{
 "cells": [
  {
   "cell_type": "code",
   "execution_count": 51,
   "metadata": {},
   "outputs": [
    {
     "ename": "ModuleNotFoundError",
     "evalue": "No module named 'nazca4sdk'",
     "output_type": "error",
     "traceback": [
      "\u001b[1;31m---------------------------------------------------------------------------\u001b[0m",
      "\u001b[1;31mModuleNotFoundError\u001b[0m                       Traceback (most recent call last)",
      "\u001b[1;32m~\\AppData\\Local\\Temp\\ipykernel_6560\\3655231731.py\u001b[0m in \u001b[0;36m<module>\u001b[1;34m\u001b[0m\n\u001b[0;32m      2\u001b[0m \u001b[1;32mimport\u001b[0m \u001b[0msnap7\u001b[0m \u001b[1;32mas\u001b[0m \u001b[0ms7\u001b[0m\u001b[1;33m\u001b[0m\u001b[0m\n\u001b[0;32m      3\u001b[0m \u001b[1;32mimport\u001b[0m \u001b[0mnumpy\u001b[0m \u001b[1;32mas\u001b[0m \u001b[0mnp\u001b[0m\u001b[1;33m\u001b[0m\u001b[0m\n\u001b[1;32m----> 4\u001b[1;33m \u001b[1;32mfrom\u001b[0m \u001b[0mnazca4sdk\u001b[0m\u001b[1;33m.\u001b[0m\u001b[0msdk\u001b[0m \u001b[1;32mimport\u001b[0m \u001b[0mSDK\u001b[0m\u001b[1;33m\u001b[0m\u001b[0m\n\u001b[0m",
      "\u001b[1;31mModuleNotFoundError\u001b[0m: No module named 'nazca4sdk'"
     ]
    }
   ],
   "source": [
    "import pandas as pd\n",
    "import snap7 as s7\n",
    "import numpy as np\n",
    "#from nazca4sdk.sdk import SDK"
   ]
  },
  {
   "cell_type": "code",
   "execution_count": 24,
   "metadata": {},
   "outputs": [
    {
     "data": {
      "text/plain": [
       "True"
      ]
     },
     "execution_count": 24,
     "metadata": {},
     "output_type": "execute_result"
    }
   ],
   "source": [
    "#łączenie z PLC\n",
    "client = s7.client.Client()\n",
    "client.connect(\"172.25.14.26\", 0, 2)\n",
    "client.get_connected()"
   ]
  },
  {
   "cell_type": "code",
   "execution_count": 41,
   "metadata": {},
   "outputs": [],
   "source": [
    "# Funkcja pobierająca int\n",
    "def readIntFromPLC(db_number, start_byte, size_to_read):    \n",
    "    result = client.db_read(db_number=db_number,start=start_byte, size=size_to_read)\n",
    "    value = s7.util.get_int(result, 0)\n",
    "    return value"
   ]
  },
  {
   "cell_type": "code",
   "execution_count": null,
   "metadata": {},
   "outputs": [],
   "source": [
    "# Funkcja pobierajaca real\n",
    "def readRealFromPLC(db_number, start_byte, size_to_read):    \n",
    "    result = client.db_read(db_number=db_number,start=start_byte, size=size_to_read)\n",
    "    value = s7.util.get_real(result, 0)\n",
    "    return value"
   ]
  },
  {
   "cell_type": "code",
   "execution_count": 36,
   "metadata": {},
   "outputs": [],
   "source": [
    "# Funkcja pobierająca bool\n",
    "def readBoolFromPLC(db_number, start_byte, start_bit, size_to_read):    \n",
    "    result = client.db_read(db_number=db_number,start=start_byte, size=size_to_read)\n",
    "    value = s7.util.get_bool(result, 0, start_bit)\n",
    "    return value"
   ]
  },
  {
   "cell_type": "code",
   "execution_count": 50,
   "metadata": {},
   "outputs": [],
   "source": [
    "# Funkcja pobierajaca aktulny stan wszystkich potrzebnych zmiennych\n",
    "\n",
    "def ReadCurrentData():\n",
    "    State = readIntFromPLC(18, 6, 2)\n",
    "    Fluid_lvl_102 = readRealFromPLC(18, 8, 4)\n",
    "    Pressure = readRealFromPLC(18, 12, 4)\n",
    "    Fluid_min_101 = readBoolFromPLC(18, 16, 0, 1)\n",
    "    Fluid_max_101 = readBoolFromPLC(18, 16, 1, 1)\n",
    "    Flow = readRealFromPLC(18, 18, 4)\n",
    "    Pump_speed = readRealFromPLC(18, 22, 4)\n",
    "    EStop = readBoolFromPLC(18, 26, 0, 1)\n",
    "    V101 = readBoolFromPLC(18, 0, 0, 1)\n",
    "    V102 = readIntFromPLC(18, 2, 2)\n",
    "    V103 = readBoolFromPLC(18, 4, 0, 1)\n",
    "    V104 = readBoolFromPLC(18, 4, 1, 1)\n",
    "    V106 = readBoolFromPLC(18, 4, 2, 1)\n",
    "    V107 = readBoolFromPLC(18, 4, 3, 1)\n",
    "    V108 = readBoolFromPLC(18, 4, 4, 1)\n",
    "    V109 = readBoolFromPLC(18, 4, 5, 1)\n",
    "    V112 = readBoolFromPLC(18, 4, 6, 1)\n",
    "    "
   ]
  },
  {
   "cell_type": "code",
   "execution_count": null,
   "metadata": {},
   "outputs": [],
   "source": [
    "def ReadEarlierData():\n",
    "    var1=sdk.variable_over_time('Ai-Meth_Konkurs', ['Fluid_level_tank102'], 5, 'SECOND')\n",
    "    Fl=var1['value'][0]\n",
    "    var2=sdk.variable_over_time('Ai-Meth_Konkurs', ['Pressure_tank103'], 3, 'SECOND')\n",
    "    Pr=var2['value'][0]"
   ]
  },
  {
   "cell_type": "code",
   "execution_count": null,
   "metadata": {},
   "outputs": [],
   "source": [
    "#wykrywanie w state 2\n",
    "AnomalyDetectionF1 = 0\n",
    "AnomalyDetectionF2 = 0\n",
    "AnomalyDetectionF3 = 0\n",
    "AnomalyDetectionF4 = 0\n",
    "sdk = SDK()\n",
    "def DetectAnomalyState2():\n",
    "    \n",
    "\n",
    "    if Fluid_lvl_102 < (Fl -2): \n",
    "        AnomalyDetectionF2 = 1\n",
    "\n",
    "    if Fluid_lvl_102 > 110:\n",
    "        AnomalyDetectionF1 = 1\n",
    "    \n",
    "    if abs((Pressure - Pr)) > 25:\n",
    "        AnomalyDetectionF3 = 1\n",
    "\n",
    "    if Fluid_min_101 == 0 and Fluid_max_101 == 1:\n",
    "        AnomalyDetectionF4 = 1\n"
   ]
  }
 ],
 "metadata": {
  "kernelspec": {
   "display_name": "Python 3.7.0 64-bit",
   "language": "python",
   "name": "python3"
  },
  "language_info": {
   "codemirror_mode": {
    "name": "ipython",
    "version": 3
   },
   "file_extension": ".py",
   "mimetype": "text/x-python",
   "name": "python",
   "nbconvert_exporter": "python",
   "pygments_lexer": "ipython3",
   "version": "3.7.0"
  },
  "orig_nbformat": 4,
  "vscode": {
   "interpreter": {
    "hash": "77cfee6c5d2120321caac64ec6fe25cdf66ef28d2dcc95bb3e9c90da929e7e21"
   }
  }
 },
 "nbformat": 4,
 "nbformat_minor": 2
}
