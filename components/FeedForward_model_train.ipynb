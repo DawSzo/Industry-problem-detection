{
 "cells": [
  {
   "cell_type": "code",
   "execution_count": 1,
   "metadata": {},
   "outputs": [],
   "source": [
    "import numpy as np\n",
    "import pandas as pd\n",
    "import matplotlib.pyplot as plt\n",
    "import sklearn as sklearn\n",
    "import os\n",
    "\n",
    "import tensorflow as tf\n",
    "import keras as keras\n",
    "from tensorflow.keras.optimizers import Adam\n",
    "from keras.models import Sequential\n",
    "from keras.layers import Dense\n",
    "\n",
    "from sklearn import model_selection\n",
    "from sklearn.preprocessing import StandardScaler\n",
    "from sklearn.metrics import confusion_matrix, accuracy_score\n",
    "\n",
    "import plotly.express as px\n",
    "from plotly.subplots import make_subplots\n",
    "import plotly.graph_objects as go\n",
    "from numpy import reshape\n",
    "\n",
    "\n"
   ]
  },
  {
   "cell_type": "code",
   "execution_count": 2,
   "metadata": {},
   "outputs": [
    {
     "data": {
      "text/html": [
       "<div>\n",
       "<style scoped>\n",
       "    .dataframe tbody tr th:only-of-type {\n",
       "        vertical-align: middle;\n",
       "    }\n",
       "\n",
       "    .dataframe tbody tr th {\n",
       "        vertical-align: top;\n",
       "    }\n",
       "\n",
       "    .dataframe thead th {\n",
       "        text-align: right;\n",
       "    }\n",
       "</style>\n",
       "<table border=\"1\" class=\"dataframe\">\n",
       "  <thead>\n",
       "    <tr style=\"text-align: right;\">\n",
       "      <th></th>\n",
       "      <th>Fluid_level_tank102</th>\n",
       "      <th>Pressure_tank103</th>\n",
       "      <th>Pump_speed</th>\n",
       "      <th>Flowmeter</th>\n",
       "      <th>tank102_set</th>\n",
       "      <th>Pressure_set</th>\n",
       "      <th>Flow_set</th>\n",
       "      <th>Fluid_lvl_tank101_IO_link</th>\n",
       "      <th>Fluid_lvl_tank102_IO_link</th>\n",
       "      <th>Fluid_lvl_MAX_tank101</th>\n",
       "      <th>...</th>\n",
       "      <th>Work</th>\n",
       "      <th>State</th>\n",
       "      <th>Liquid_growth_B102</th>\n",
       "      <th>Pipe_clogging_factor</th>\n",
       "      <th>Flow_diff</th>\n",
       "      <th>Pressure_diff</th>\n",
       "      <th>Pressure_flow_ratio</th>\n",
       "      <th>Pressure_pumpspeed_ratio</th>\n",
       "      <th>Tanks_level_diff</th>\n",
       "      <th>Fluid_level_dependancy</th>\n",
       "    </tr>\n",
       "  </thead>\n",
       "  <tbody>\n",
       "    <tr>\n",
       "      <th>0</th>\n",
       "      <td>79.25</td>\n",
       "      <td>154.83</td>\n",
       "      <td>71.46</td>\n",
       "      <td>0.00</td>\n",
       "      <td>0</td>\n",
       "      <td>150</td>\n",
       "      <td>0.0</td>\n",
       "      <td>105</td>\n",
       "      <td>80</td>\n",
       "      <td>0</td>\n",
       "      <td>...</td>\n",
       "      <td>1</td>\n",
       "      <td>2</td>\n",
       "      <td>0.00</td>\n",
       "      <td>0.0</td>\n",
       "      <td>0.00</td>\n",
       "      <td>-4.83</td>\n",
       "      <td>0.00</td>\n",
       "      <td>11064.80</td>\n",
       "      <td>25.75</td>\n",
       "      <td>0.0</td>\n",
       "    </tr>\n",
       "    <tr>\n",
       "      <th>1</th>\n",
       "      <td>79.09</td>\n",
       "      <td>155.59</td>\n",
       "      <td>71.08</td>\n",
       "      <td>0.00</td>\n",
       "      <td>0</td>\n",
       "      <td>150</td>\n",
       "      <td>0.0</td>\n",
       "      <td>105</td>\n",
       "      <td>80</td>\n",
       "      <td>0</td>\n",
       "      <td>...</td>\n",
       "      <td>1</td>\n",
       "      <td>2</td>\n",
       "      <td>0.00</td>\n",
       "      <td>0.0</td>\n",
       "      <td>0.00</td>\n",
       "      <td>-5.59</td>\n",
       "      <td>0.00</td>\n",
       "      <td>11059.69</td>\n",
       "      <td>25.91</td>\n",
       "      <td>0.0</td>\n",
       "    </tr>\n",
       "    <tr>\n",
       "      <th>2</th>\n",
       "      <td>79.25</td>\n",
       "      <td>149.47</td>\n",
       "      <td>70.71</td>\n",
       "      <td>0.00</td>\n",
       "      <td>0</td>\n",
       "      <td>150</td>\n",
       "      <td>0.0</td>\n",
       "      <td>105</td>\n",
       "      <td>80</td>\n",
       "      <td>0</td>\n",
       "      <td>...</td>\n",
       "      <td>1</td>\n",
       "      <td>2</td>\n",
       "      <td>0.00</td>\n",
       "      <td>0.0</td>\n",
       "      <td>0.00</td>\n",
       "      <td>0.53</td>\n",
       "      <td>0.00</td>\n",
       "      <td>10569.08</td>\n",
       "      <td>25.75</td>\n",
       "      <td>0.0</td>\n",
       "    </tr>\n",
       "    <tr>\n",
       "      <th>3</th>\n",
       "      <td>79.25</td>\n",
       "      <td>147.43</td>\n",
       "      <td>70.40</td>\n",
       "      <td>0.00</td>\n",
       "      <td>0</td>\n",
       "      <td>150</td>\n",
       "      <td>0.0</td>\n",
       "      <td>105</td>\n",
       "      <td>80</td>\n",
       "      <td>0</td>\n",
       "      <td>...</td>\n",
       "      <td>1</td>\n",
       "      <td>2</td>\n",
       "      <td>0.00</td>\n",
       "      <td>0.0</td>\n",
       "      <td>0.00</td>\n",
       "      <td>2.57</td>\n",
       "      <td>0.00</td>\n",
       "      <td>10378.78</td>\n",
       "      <td>25.75</td>\n",
       "      <td>0.0</td>\n",
       "    </tr>\n",
       "    <tr>\n",
       "      <th>4</th>\n",
       "      <td>79.09</td>\n",
       "      <td>150.24</td>\n",
       "      <td>70.36</td>\n",
       "      <td>0.00</td>\n",
       "      <td>0</td>\n",
       "      <td>150</td>\n",
       "      <td>0.0</td>\n",
       "      <td>105</td>\n",
       "      <td>80</td>\n",
       "      <td>0</td>\n",
       "      <td>...</td>\n",
       "      <td>1</td>\n",
       "      <td>2</td>\n",
       "      <td>0.00</td>\n",
       "      <td>0.0</td>\n",
       "      <td>0.00</td>\n",
       "      <td>-0.24</td>\n",
       "      <td>0.00</td>\n",
       "      <td>10571.38</td>\n",
       "      <td>25.91</td>\n",
       "      <td>0.0</td>\n",
       "    </tr>\n",
       "    <tr>\n",
       "      <th>...</th>\n",
       "      <td>...</td>\n",
       "      <td>...</td>\n",
       "      <td>...</td>\n",
       "      <td>...</td>\n",
       "      <td>...</td>\n",
       "      <td>...</td>\n",
       "      <td>...</td>\n",
       "      <td>...</td>\n",
       "      <td>...</td>\n",
       "      <td>...</td>\n",
       "      <td>...</td>\n",
       "      <td>...</td>\n",
       "      <td>...</td>\n",
       "      <td>...</td>\n",
       "      <td>...</td>\n",
       "      <td>...</td>\n",
       "      <td>...</td>\n",
       "      <td>...</td>\n",
       "      <td>...</td>\n",
       "      <td>...</td>\n",
       "      <td>...</td>\n",
       "    </tr>\n",
       "    <tr>\n",
       "      <th>24661</th>\n",
       "      <td>81.61</td>\n",
       "      <td>6.89</td>\n",
       "      <td>0.00</td>\n",
       "      <td>-0.36</td>\n",
       "      <td>0</td>\n",
       "      <td>0</td>\n",
       "      <td>0.0</td>\n",
       "      <td>100</td>\n",
       "      <td>85</td>\n",
       "      <td>0</td>\n",
       "      <td>...</td>\n",
       "      <td>1</td>\n",
       "      <td>9</td>\n",
       "      <td>-0.18</td>\n",
       "      <td>0.0</td>\n",
       "      <td>0.36</td>\n",
       "      <td>-6.89</td>\n",
       "      <td>-2.48</td>\n",
       "      <td>0.00</td>\n",
       "      <td>18.39</td>\n",
       "      <td>0.0</td>\n",
       "    </tr>\n",
       "    <tr>\n",
       "      <th>24662</th>\n",
       "      <td>80.94</td>\n",
       "      <td>7.14</td>\n",
       "      <td>0.00</td>\n",
       "      <td>-0.34</td>\n",
       "      <td>0</td>\n",
       "      <td>0</td>\n",
       "      <td>0.0</td>\n",
       "      <td>100</td>\n",
       "      <td>85</td>\n",
       "      <td>0</td>\n",
       "      <td>...</td>\n",
       "      <td>1</td>\n",
       "      <td>9</td>\n",
       "      <td>-0.17</td>\n",
       "      <td>0.0</td>\n",
       "      <td>0.34</td>\n",
       "      <td>-7.14</td>\n",
       "      <td>-2.43</td>\n",
       "      <td>0.00</td>\n",
       "      <td>19.06</td>\n",
       "      <td>0.0</td>\n",
       "    </tr>\n",
       "    <tr>\n",
       "      <th>24663</th>\n",
       "      <td>80.77</td>\n",
       "      <td>7.14</td>\n",
       "      <td>0.00</td>\n",
       "      <td>-0.35</td>\n",
       "      <td>0</td>\n",
       "      <td>0</td>\n",
       "      <td>0.0</td>\n",
       "      <td>105</td>\n",
       "      <td>85</td>\n",
       "      <td>0</td>\n",
       "      <td>...</td>\n",
       "      <td>1</td>\n",
       "      <td>9</td>\n",
       "      <td>-0.18</td>\n",
       "      <td>0.0</td>\n",
       "      <td>0.35</td>\n",
       "      <td>-7.14</td>\n",
       "      <td>-2.50</td>\n",
       "      <td>0.00</td>\n",
       "      <td>24.23</td>\n",
       "      <td>0.0</td>\n",
       "    </tr>\n",
       "    <tr>\n",
       "      <th>24664</th>\n",
       "      <td>80.60</td>\n",
       "      <td>7.14</td>\n",
       "      <td>0.00</td>\n",
       "      <td>-0.35</td>\n",
       "      <td>0</td>\n",
       "      <td>0</td>\n",
       "      <td>0.0</td>\n",
       "      <td>105</td>\n",
       "      <td>85</td>\n",
       "      <td>0</td>\n",
       "      <td>...</td>\n",
       "      <td>1</td>\n",
       "      <td>9</td>\n",
       "      <td>-0.18</td>\n",
       "      <td>0.0</td>\n",
       "      <td>0.35</td>\n",
       "      <td>-7.14</td>\n",
       "      <td>-2.50</td>\n",
       "      <td>0.00</td>\n",
       "      <td>24.40</td>\n",
       "      <td>0.0</td>\n",
       "    </tr>\n",
       "    <tr>\n",
       "      <th>24665</th>\n",
       "      <td>80.43</td>\n",
       "      <td>7.14</td>\n",
       "      <td>0.00</td>\n",
       "      <td>-0.35</td>\n",
       "      <td>0</td>\n",
       "      <td>0</td>\n",
       "      <td>0.0</td>\n",
       "      <td>105</td>\n",
       "      <td>85</td>\n",
       "      <td>0</td>\n",
       "      <td>...</td>\n",
       "      <td>1</td>\n",
       "      <td>9</td>\n",
       "      <td>-0.18</td>\n",
       "      <td>0.0</td>\n",
       "      <td>0.35</td>\n",
       "      <td>-7.14</td>\n",
       "      <td>-2.50</td>\n",
       "      <td>0.00</td>\n",
       "      <td>24.57</td>\n",
       "      <td>0.0</td>\n",
       "    </tr>\n",
       "  </tbody>\n",
       "</table>\n",
       "<p>24666 rows × 32 columns</p>\n",
       "</div>"
      ],
      "text/plain": [
       "       Fluid_level_tank102  Pressure_tank103  Pump_speed  Flowmeter  \\\n",
       "0                    79.25            154.83       71.46       0.00   \n",
       "1                    79.09            155.59       71.08       0.00   \n",
       "2                    79.25            149.47       70.71       0.00   \n",
       "3                    79.25            147.43       70.40       0.00   \n",
       "4                    79.09            150.24       70.36       0.00   \n",
       "...                    ...               ...         ...        ...   \n",
       "24661                81.61              6.89        0.00      -0.36   \n",
       "24662                80.94              7.14        0.00      -0.34   \n",
       "24663                80.77              7.14        0.00      -0.35   \n",
       "24664                80.60              7.14        0.00      -0.35   \n",
       "24665                80.43              7.14        0.00      -0.35   \n",
       "\n",
       "       tank102_set  Pressure_set  Flow_set  Fluid_lvl_tank101_IO_link  \\\n",
       "0                0           150       0.0                        105   \n",
       "1                0           150       0.0                        105   \n",
       "2                0           150       0.0                        105   \n",
       "3                0           150       0.0                        105   \n",
       "4                0           150       0.0                        105   \n",
       "...            ...           ...       ...                        ...   \n",
       "24661            0             0       0.0                        100   \n",
       "24662            0             0       0.0                        100   \n",
       "24663            0             0       0.0                        105   \n",
       "24664            0             0       0.0                        105   \n",
       "24665            0             0       0.0                        105   \n",
       "\n",
       "       Fluid_lvl_tank102_IO_link  Fluid_lvl_MAX_tank101  ...  Work  State  \\\n",
       "0                             80                      0  ...     1      2   \n",
       "1                             80                      0  ...     1      2   \n",
       "2                             80                      0  ...     1      2   \n",
       "3                             80                      0  ...     1      2   \n",
       "4                             80                      0  ...     1      2   \n",
       "...                          ...                    ...  ...   ...    ...   \n",
       "24661                         85                      0  ...     1      9   \n",
       "24662                         85                      0  ...     1      9   \n",
       "24663                         85                      0  ...     1      9   \n",
       "24664                         85                      0  ...     1      9   \n",
       "24665                         85                      0  ...     1      9   \n",
       "\n",
       "       Liquid_growth_B102  Pipe_clogging_factor  Flow_diff  Pressure_diff  \\\n",
       "0                    0.00                   0.0       0.00          -4.83   \n",
       "1                    0.00                   0.0       0.00          -5.59   \n",
       "2                    0.00                   0.0       0.00           0.53   \n",
       "3                    0.00                   0.0       0.00           2.57   \n",
       "4                    0.00                   0.0       0.00          -0.24   \n",
       "...                   ...                   ...        ...            ...   \n",
       "24661               -0.18                   0.0       0.36          -6.89   \n",
       "24662               -0.17                   0.0       0.34          -7.14   \n",
       "24663               -0.18                   0.0       0.35          -7.14   \n",
       "24664               -0.18                   0.0       0.35          -7.14   \n",
       "24665               -0.18                   0.0       0.35          -7.14   \n",
       "\n",
       "       Pressure_flow_ratio  Pressure_pumpspeed_ratio  Tanks_level_diff  \\\n",
       "0                     0.00                  11064.80             25.75   \n",
       "1                     0.00                  11059.69             25.91   \n",
       "2                     0.00                  10569.08             25.75   \n",
       "3                     0.00                  10378.78             25.75   \n",
       "4                     0.00                  10571.38             25.91   \n",
       "...                    ...                       ...               ...   \n",
       "24661                -2.48                      0.00             18.39   \n",
       "24662                -2.43                      0.00             19.06   \n",
       "24663                -2.50                      0.00             24.23   \n",
       "24664                -2.50                      0.00             24.40   \n",
       "24665                -2.50                      0.00             24.57   \n",
       "\n",
       "       Fluid_level_dependancy  \n",
       "0                         0.0  \n",
       "1                         0.0  \n",
       "2                         0.0  \n",
       "3                         0.0  \n",
       "4                         0.0  \n",
       "...                       ...  \n",
       "24661                     0.0  \n",
       "24662                     0.0  \n",
       "24663                     0.0  \n",
       "24664                     0.0  \n",
       "24665                     0.0  \n",
       "\n",
       "[24666 rows x 32 columns]"
      ]
     },
     "execution_count": 2,
     "metadata": {},
     "output_type": "execute_result"
    }
   ],
   "source": [
    "# Ładowanie daych uczących\n",
    "dataset = pd.read_csv(\"TrainData_x.csv\", sep=';')\n",
    "dataset"
   ]
  },
  {
   "cell_type": "code",
   "execution_count": 3,
   "metadata": {},
   "outputs": [
    {
     "data": {
      "text/html": [
       "<div>\n",
       "<style scoped>\n",
       "    .dataframe tbody tr th:only-of-type {\n",
       "        vertical-align: middle;\n",
       "    }\n",
       "\n",
       "    .dataframe tbody tr th {\n",
       "        vertical-align: top;\n",
       "    }\n",
       "\n",
       "    .dataframe thead th {\n",
       "        text-align: right;\n",
       "    }\n",
       "</style>\n",
       "<table border=\"1\" class=\"dataframe\">\n",
       "  <thead>\n",
       "    <tr style=\"text-align: right;\">\n",
       "      <th></th>\n",
       "      <th>State_0</th>\n",
       "      <th>Failure_F1</th>\n",
       "      <th>Failure_F2</th>\n",
       "      <th>Failure_F3</th>\n",
       "      <th>Failure_F4</th>\n",
       "    </tr>\n",
       "  </thead>\n",
       "  <tbody>\n",
       "    <tr>\n",
       "      <th>0</th>\n",
       "      <td>1</td>\n",
       "      <td>0</td>\n",
       "      <td>0</td>\n",
       "      <td>0</td>\n",
       "      <td>0</td>\n",
       "    </tr>\n",
       "    <tr>\n",
       "      <th>1</th>\n",
       "      <td>1</td>\n",
       "      <td>0</td>\n",
       "      <td>0</td>\n",
       "      <td>0</td>\n",
       "      <td>0</td>\n",
       "    </tr>\n",
       "    <tr>\n",
       "      <th>2</th>\n",
       "      <td>1</td>\n",
       "      <td>0</td>\n",
       "      <td>0</td>\n",
       "      <td>0</td>\n",
       "      <td>0</td>\n",
       "    </tr>\n",
       "    <tr>\n",
       "      <th>3</th>\n",
       "      <td>1</td>\n",
       "      <td>0</td>\n",
       "      <td>0</td>\n",
       "      <td>0</td>\n",
       "      <td>0</td>\n",
       "    </tr>\n",
       "    <tr>\n",
       "      <th>4</th>\n",
       "      <td>1</td>\n",
       "      <td>0</td>\n",
       "      <td>0</td>\n",
       "      <td>0</td>\n",
       "      <td>0</td>\n",
       "    </tr>\n",
       "    <tr>\n",
       "      <th>...</th>\n",
       "      <td>...</td>\n",
       "      <td>...</td>\n",
       "      <td>...</td>\n",
       "      <td>...</td>\n",
       "      <td>...</td>\n",
       "    </tr>\n",
       "    <tr>\n",
       "      <th>24661</th>\n",
       "      <td>1</td>\n",
       "      <td>0</td>\n",
       "      <td>0</td>\n",
       "      <td>0</td>\n",
       "      <td>0</td>\n",
       "    </tr>\n",
       "    <tr>\n",
       "      <th>24662</th>\n",
       "      <td>1</td>\n",
       "      <td>0</td>\n",
       "      <td>0</td>\n",
       "      <td>0</td>\n",
       "      <td>0</td>\n",
       "    </tr>\n",
       "    <tr>\n",
       "      <th>24663</th>\n",
       "      <td>1</td>\n",
       "      <td>0</td>\n",
       "      <td>0</td>\n",
       "      <td>0</td>\n",
       "      <td>0</td>\n",
       "    </tr>\n",
       "    <tr>\n",
       "      <th>24664</th>\n",
       "      <td>1</td>\n",
       "      <td>0</td>\n",
       "      <td>0</td>\n",
       "      <td>0</td>\n",
       "      <td>0</td>\n",
       "    </tr>\n",
       "    <tr>\n",
       "      <th>24665</th>\n",
       "      <td>1</td>\n",
       "      <td>0</td>\n",
       "      <td>0</td>\n",
       "      <td>0</td>\n",
       "      <td>0</td>\n",
       "    </tr>\n",
       "  </tbody>\n",
       "</table>\n",
       "<p>24666 rows × 5 columns</p>\n",
       "</div>"
      ],
      "text/plain": [
       "       State_0  Failure_F1  Failure_F2  Failure_F3  Failure_F4\n",
       "0            1           0           0           0           0\n",
       "1            1           0           0           0           0\n",
       "2            1           0           0           0           0\n",
       "3            1           0           0           0           0\n",
       "4            1           0           0           0           0\n",
       "...        ...         ...         ...         ...         ...\n",
       "24661        1           0           0           0           0\n",
       "24662        1           0           0           0           0\n",
       "24663        1           0           0           0           0\n",
       "24664        1           0           0           0           0\n",
       "24665        1           0           0           0           0\n",
       "\n",
       "[24666 rows x 5 columns]"
      ]
     },
     "execution_count": 3,
     "metadata": {},
     "output_type": "execute_result"
    }
   ],
   "source": [
    "# Ładownaie danych z informacją o klasach\n",
    "label = pd.read_csv(\"TrainData_y.csv\",sep=';')\n",
    "label"
   ]
  },
  {
   "cell_type": "code",
   "execution_count": 4,
   "metadata": {},
   "outputs": [
    {
     "data": {
      "text/html": [
       "<div>\n",
       "<style scoped>\n",
       "    .dataframe tbody tr th:only-of-type {\n",
       "        vertical-align: middle;\n",
       "    }\n",
       "\n",
       "    .dataframe tbody tr th {\n",
       "        vertical-align: top;\n",
       "    }\n",
       "\n",
       "    .dataframe thead th {\n",
       "        text-align: right;\n",
       "    }\n",
       "</style>\n",
       "<table border=\"1\" class=\"dataframe\">\n",
       "  <thead>\n",
       "    <tr style=\"text-align: right;\">\n",
       "      <th></th>\n",
       "      <th>Fluid_level_tank102</th>\n",
       "      <th>Pressure_tank103</th>\n",
       "      <th>Pump_speed</th>\n",
       "      <th>Flowmeter</th>\n",
       "      <th>tank102_set</th>\n",
       "      <th>Pressure_set</th>\n",
       "      <th>Flow_set</th>\n",
       "      <th>Fluid_lvl_tank101_IO_link</th>\n",
       "      <th>Fluid_lvl_tank102_IO_link</th>\n",
       "      <th>Fluid_lvl_MAX_tank101</th>\n",
       "      <th>Fluid_lvl_MIN_tank101</th>\n",
       "      <th>V101</th>\n",
       "      <th>V102</th>\n",
       "      <th>V103</th>\n",
       "      <th>V104</th>\n",
       "      <th>V106</th>\n",
       "      <th>V107</th>\n",
       "      <th>V108</th>\n",
       "      <th>V109</th>\n",
       "      <th>V112</th>\n",
       "      <th>cycle_counter</th>\n",
       "      <th>EStop</th>\n",
       "      <th>Work</th>\n",
       "      <th>State</th>\n",
       "      <th>Liquid_growth_B102</th>\n",
       "      <th>Pipe_clogging_factor</th>\n",
       "      <th>Flow_diff</th>\n",
       "      <th>Pressure_diff</th>\n",
       "      <th>Pressure_flow_ratio</th>\n",
       "      <th>Pressure_pumpspeed_ratio</th>\n",
       "      <th>Tanks_level_diff</th>\n",
       "      <th>Fluid_level_dependancy</th>\n",
       "    </tr>\n",
       "  </thead>\n",
       "  <tbody>\n",
       "    <tr>\n",
       "      <th>0</th>\n",
       "      <td>79.42</td>\n",
       "      <td>197.94</td>\n",
       "      <td>77.61</td>\n",
       "      <td>0.00</td>\n",
       "      <td>0</td>\n",
       "      <td>150</td>\n",
       "      <td>0.0</td>\n",
       "      <td>105</td>\n",
       "      <td>80</td>\n",
       "      <td>0</td>\n",
       "      <td>0</td>\n",
       "      <td>0</td>\n",
       "      <td>0</td>\n",
       "      <td>1</td>\n",
       "      <td>0</td>\n",
       "      <td>0</td>\n",
       "      <td>0</td>\n",
       "      <td>1</td>\n",
       "      <td>0</td>\n",
       "      <td>0</td>\n",
       "      <td>28</td>\n",
       "      <td>0</td>\n",
       "      <td>1</td>\n",
       "      <td>2</td>\n",
       "      <td>0.00</td>\n",
       "      <td>0.0</td>\n",
       "      <td>0.00</td>\n",
       "      <td>-47.94</td>\n",
       "      <td>0.00</td>\n",
       "      <td>15361.37</td>\n",
       "      <td>25.58</td>\n",
       "      <td>0.0</td>\n",
       "    </tr>\n",
       "    <tr>\n",
       "      <th>1</th>\n",
       "      <td>79.42</td>\n",
       "      <td>174.21</td>\n",
       "      <td>73.57</td>\n",
       "      <td>0.00</td>\n",
       "      <td>0</td>\n",
       "      <td>150</td>\n",
       "      <td>0.0</td>\n",
       "      <td>105</td>\n",
       "      <td>80</td>\n",
       "      <td>0</td>\n",
       "      <td>0</td>\n",
       "      <td>0</td>\n",
       "      <td>0</td>\n",
       "      <td>1</td>\n",
       "      <td>0</td>\n",
       "      <td>0</td>\n",
       "      <td>0</td>\n",
       "      <td>1</td>\n",
       "      <td>0</td>\n",
       "      <td>0</td>\n",
       "      <td>28</td>\n",
       "      <td>0</td>\n",
       "      <td>1</td>\n",
       "      <td>2</td>\n",
       "      <td>0.00</td>\n",
       "      <td>0.0</td>\n",
       "      <td>0.00</td>\n",
       "      <td>-24.21</td>\n",
       "      <td>0.00</td>\n",
       "      <td>12816.25</td>\n",
       "      <td>25.58</td>\n",
       "      <td>0.0</td>\n",
       "    </tr>\n",
       "    <tr>\n",
       "      <th>2</th>\n",
       "      <td>79.42</td>\n",
       "      <td>159.93</td>\n",
       "      <td>71.73</td>\n",
       "      <td>0.00</td>\n",
       "      <td>0</td>\n",
       "      <td>150</td>\n",
       "      <td>0.0</td>\n",
       "      <td>105</td>\n",
       "      <td>80</td>\n",
       "      <td>0</td>\n",
       "      <td>0</td>\n",
       "      <td>0</td>\n",
       "      <td>0</td>\n",
       "      <td>1</td>\n",
       "      <td>0</td>\n",
       "      <td>0</td>\n",
       "      <td>0</td>\n",
       "      <td>1</td>\n",
       "      <td>0</td>\n",
       "      <td>0</td>\n",
       "      <td>28</td>\n",
       "      <td>0</td>\n",
       "      <td>1</td>\n",
       "      <td>2</td>\n",
       "      <td>0.00</td>\n",
       "      <td>0.0</td>\n",
       "      <td>0.00</td>\n",
       "      <td>-9.93</td>\n",
       "      <td>0.00</td>\n",
       "      <td>11471.88</td>\n",
       "      <td>25.58</td>\n",
       "      <td>0.0</td>\n",
       "    </tr>\n",
       "    <tr>\n",
       "      <th>3</th>\n",
       "      <td>79.42</td>\n",
       "      <td>154.83</td>\n",
       "      <td>71.00</td>\n",
       "      <td>0.00</td>\n",
       "      <td>0</td>\n",
       "      <td>150</td>\n",
       "      <td>0.0</td>\n",
       "      <td>105</td>\n",
       "      <td>80</td>\n",
       "      <td>0</td>\n",
       "      <td>0</td>\n",
       "      <td>0</td>\n",
       "      <td>0</td>\n",
       "      <td>1</td>\n",
       "      <td>0</td>\n",
       "      <td>0</td>\n",
       "      <td>0</td>\n",
       "      <td>1</td>\n",
       "      <td>0</td>\n",
       "      <td>0</td>\n",
       "      <td>28</td>\n",
       "      <td>0</td>\n",
       "      <td>1</td>\n",
       "      <td>2</td>\n",
       "      <td>0.00</td>\n",
       "      <td>0.0</td>\n",
       "      <td>0.00</td>\n",
       "      <td>-4.83</td>\n",
       "      <td>0.00</td>\n",
       "      <td>10992.74</td>\n",
       "      <td>25.58</td>\n",
       "      <td>0.0</td>\n",
       "    </tr>\n",
       "    <tr>\n",
       "      <th>4</th>\n",
       "      <td>79.42</td>\n",
       "      <td>156.36</td>\n",
       "      <td>70.28</td>\n",
       "      <td>0.00</td>\n",
       "      <td>0</td>\n",
       "      <td>150</td>\n",
       "      <td>0.0</td>\n",
       "      <td>105</td>\n",
       "      <td>80</td>\n",
       "      <td>0</td>\n",
       "      <td>0</td>\n",
       "      <td>0</td>\n",
       "      <td>0</td>\n",
       "      <td>1</td>\n",
       "      <td>0</td>\n",
       "      <td>0</td>\n",
       "      <td>0</td>\n",
       "      <td>1</td>\n",
       "      <td>0</td>\n",
       "      <td>0</td>\n",
       "      <td>28</td>\n",
       "      <td>0</td>\n",
       "      <td>1</td>\n",
       "      <td>2</td>\n",
       "      <td>0.00</td>\n",
       "      <td>0.0</td>\n",
       "      <td>0.00</td>\n",
       "      <td>-6.36</td>\n",
       "      <td>0.00</td>\n",
       "      <td>10988.37</td>\n",
       "      <td>25.58</td>\n",
       "      <td>0.0</td>\n",
       "    </tr>\n",
       "    <tr>\n",
       "      <th>...</th>\n",
       "      <td>...</td>\n",
       "      <td>...</td>\n",
       "      <td>...</td>\n",
       "      <td>...</td>\n",
       "      <td>...</td>\n",
       "      <td>...</td>\n",
       "      <td>...</td>\n",
       "      <td>...</td>\n",
       "      <td>...</td>\n",
       "      <td>...</td>\n",
       "      <td>...</td>\n",
       "      <td>...</td>\n",
       "      <td>...</td>\n",
       "      <td>...</td>\n",
       "      <td>...</td>\n",
       "      <td>...</td>\n",
       "      <td>...</td>\n",
       "      <td>...</td>\n",
       "      <td>...</td>\n",
       "      <td>...</td>\n",
       "      <td>...</td>\n",
       "      <td>...</td>\n",
       "      <td>...</td>\n",
       "      <td>...</td>\n",
       "      <td>...</td>\n",
       "      <td>...</td>\n",
       "      <td>...</td>\n",
       "      <td>...</td>\n",
       "      <td>...</td>\n",
       "      <td>...</td>\n",
       "      <td>...</td>\n",
       "      <td>...</td>\n",
       "    </tr>\n",
       "    <tr>\n",
       "      <th>3603</th>\n",
       "      <td>81.61</td>\n",
       "      <td>7.14</td>\n",
       "      <td>0.00</td>\n",
       "      <td>-0.35</td>\n",
       "      <td>0</td>\n",
       "      <td>0</td>\n",
       "      <td>0.0</td>\n",
       "      <td>100</td>\n",
       "      <td>85</td>\n",
       "      <td>0</td>\n",
       "      <td>0</td>\n",
       "      <td>1</td>\n",
       "      <td>1</td>\n",
       "      <td>0</td>\n",
       "      <td>0</td>\n",
       "      <td>0</td>\n",
       "      <td>1</td>\n",
       "      <td>0</td>\n",
       "      <td>0</td>\n",
       "      <td>1</td>\n",
       "      <td>8</td>\n",
       "      <td>0</td>\n",
       "      <td>1</td>\n",
       "      <td>9</td>\n",
       "      <td>-0.18</td>\n",
       "      <td>0.0</td>\n",
       "      <td>0.35</td>\n",
       "      <td>-7.14</td>\n",
       "      <td>-2.50</td>\n",
       "      <td>0.00</td>\n",
       "      <td>18.39</td>\n",
       "      <td>0.0</td>\n",
       "    </tr>\n",
       "    <tr>\n",
       "      <th>3604</th>\n",
       "      <td>81.27</td>\n",
       "      <td>7.14</td>\n",
       "      <td>0.00</td>\n",
       "      <td>-0.34</td>\n",
       "      <td>0</td>\n",
       "      <td>0</td>\n",
       "      <td>0.0</td>\n",
       "      <td>105</td>\n",
       "      <td>85</td>\n",
       "      <td>0</td>\n",
       "      <td>0</td>\n",
       "      <td>1</td>\n",
       "      <td>1</td>\n",
       "      <td>0</td>\n",
       "      <td>0</td>\n",
       "      <td>0</td>\n",
       "      <td>1</td>\n",
       "      <td>0</td>\n",
       "      <td>0</td>\n",
       "      <td>1</td>\n",
       "      <td>8</td>\n",
       "      <td>0</td>\n",
       "      <td>1</td>\n",
       "      <td>9</td>\n",
       "      <td>-0.17</td>\n",
       "      <td>0.0</td>\n",
       "      <td>0.34</td>\n",
       "      <td>-7.14</td>\n",
       "      <td>-2.43</td>\n",
       "      <td>0.00</td>\n",
       "      <td>23.73</td>\n",
       "      <td>0.0</td>\n",
       "    </tr>\n",
       "    <tr>\n",
       "      <th>3605</th>\n",
       "      <td>80.94</td>\n",
       "      <td>6.89</td>\n",
       "      <td>0.00</td>\n",
       "      <td>-0.35</td>\n",
       "      <td>0</td>\n",
       "      <td>0</td>\n",
       "      <td>0.0</td>\n",
       "      <td>105</td>\n",
       "      <td>85</td>\n",
       "      <td>0</td>\n",
       "      <td>0</td>\n",
       "      <td>1</td>\n",
       "      <td>1</td>\n",
       "      <td>0</td>\n",
       "      <td>0</td>\n",
       "      <td>0</td>\n",
       "      <td>1</td>\n",
       "      <td>0</td>\n",
       "      <td>0</td>\n",
       "      <td>1</td>\n",
       "      <td>8</td>\n",
       "      <td>0</td>\n",
       "      <td>1</td>\n",
       "      <td>9</td>\n",
       "      <td>-0.18</td>\n",
       "      <td>0.0</td>\n",
       "      <td>0.35</td>\n",
       "      <td>-6.89</td>\n",
       "      <td>-2.41</td>\n",
       "      <td>0.00</td>\n",
       "      <td>24.06</td>\n",
       "      <td>0.0</td>\n",
       "    </tr>\n",
       "    <tr>\n",
       "      <th>3606</th>\n",
       "      <td>80.60</td>\n",
       "      <td>7.14</td>\n",
       "      <td>0.00</td>\n",
       "      <td>-0.35</td>\n",
       "      <td>0</td>\n",
       "      <td>0</td>\n",
       "      <td>0.0</td>\n",
       "      <td>105</td>\n",
       "      <td>85</td>\n",
       "      <td>0</td>\n",
       "      <td>0</td>\n",
       "      <td>1</td>\n",
       "      <td>1</td>\n",
       "      <td>0</td>\n",
       "      <td>0</td>\n",
       "      <td>0</td>\n",
       "      <td>1</td>\n",
       "      <td>0</td>\n",
       "      <td>0</td>\n",
       "      <td>1</td>\n",
       "      <td>8</td>\n",
       "      <td>0</td>\n",
       "      <td>1</td>\n",
       "      <td>9</td>\n",
       "      <td>-0.18</td>\n",
       "      <td>0.0</td>\n",
       "      <td>0.35</td>\n",
       "      <td>-7.14</td>\n",
       "      <td>-2.50</td>\n",
       "      <td>0.00</td>\n",
       "      <td>24.40</td>\n",
       "      <td>0.0</td>\n",
       "    </tr>\n",
       "    <tr>\n",
       "      <th>3607</th>\n",
       "      <td>80.43</td>\n",
       "      <td>7.14</td>\n",
       "      <td>0.00</td>\n",
       "      <td>-0.35</td>\n",
       "      <td>0</td>\n",
       "      <td>0</td>\n",
       "      <td>0.0</td>\n",
       "      <td>105</td>\n",
       "      <td>85</td>\n",
       "      <td>0</td>\n",
       "      <td>0</td>\n",
       "      <td>1</td>\n",
       "      <td>1</td>\n",
       "      <td>0</td>\n",
       "      <td>0</td>\n",
       "      <td>0</td>\n",
       "      <td>1</td>\n",
       "      <td>0</td>\n",
       "      <td>0</td>\n",
       "      <td>1</td>\n",
       "      <td>8</td>\n",
       "      <td>0</td>\n",
       "      <td>1</td>\n",
       "      <td>9</td>\n",
       "      <td>-0.18</td>\n",
       "      <td>0.0</td>\n",
       "      <td>0.35</td>\n",
       "      <td>-7.14</td>\n",
       "      <td>-2.50</td>\n",
       "      <td>0.00</td>\n",
       "      <td>24.57</td>\n",
       "      <td>0.0</td>\n",
       "    </tr>\n",
       "  </tbody>\n",
       "</table>\n",
       "<p>3608 rows × 32 columns</p>\n",
       "</div>"
      ],
      "text/plain": [
       "      Fluid_level_tank102  Pressure_tank103  Pump_speed  Flowmeter  \\\n",
       "0                   79.42            197.94       77.61       0.00   \n",
       "1                   79.42            174.21       73.57       0.00   \n",
       "2                   79.42            159.93       71.73       0.00   \n",
       "3                   79.42            154.83       71.00       0.00   \n",
       "4                   79.42            156.36       70.28       0.00   \n",
       "...                   ...               ...         ...        ...   \n",
       "3603                81.61              7.14        0.00      -0.35   \n",
       "3604                81.27              7.14        0.00      -0.34   \n",
       "3605                80.94              6.89        0.00      -0.35   \n",
       "3606                80.60              7.14        0.00      -0.35   \n",
       "3607                80.43              7.14        0.00      -0.35   \n",
       "\n",
       "      tank102_set  Pressure_set  Flow_set  Fluid_lvl_tank101_IO_link  \\\n",
       "0               0           150       0.0                        105   \n",
       "1               0           150       0.0                        105   \n",
       "2               0           150       0.0                        105   \n",
       "3               0           150       0.0                        105   \n",
       "4               0           150       0.0                        105   \n",
       "...           ...           ...       ...                        ...   \n",
       "3603            0             0       0.0                        100   \n",
       "3604            0             0       0.0                        105   \n",
       "3605            0             0       0.0                        105   \n",
       "3606            0             0       0.0                        105   \n",
       "3607            0             0       0.0                        105   \n",
       "\n",
       "      Fluid_lvl_tank102_IO_link  Fluid_lvl_MAX_tank101  Fluid_lvl_MIN_tank101  \\\n",
       "0                            80                      0                      0   \n",
       "1                            80                      0                      0   \n",
       "2                            80                      0                      0   \n",
       "3                            80                      0                      0   \n",
       "4                            80                      0                      0   \n",
       "...                         ...                    ...                    ...   \n",
       "3603                         85                      0                      0   \n",
       "3604                         85                      0                      0   \n",
       "3605                         85                      0                      0   \n",
       "3606                         85                      0                      0   \n",
       "3607                         85                      0                      0   \n",
       "\n",
       "      V101  V102  V103  V104  V106  V107  V108  V109  V112  cycle_counter  \\\n",
       "0        0     0     1     0     0     0     1     0     0             28   \n",
       "1        0     0     1     0     0     0     1     0     0             28   \n",
       "2        0     0     1     0     0     0     1     0     0             28   \n",
       "3        0     0     1     0     0     0     1     0     0             28   \n",
       "4        0     0     1     0     0     0     1     0     0             28   \n",
       "...    ...   ...   ...   ...   ...   ...   ...   ...   ...            ...   \n",
       "3603     1     1     0     0     0     1     0     0     1              8   \n",
       "3604     1     1     0     0     0     1     0     0     1              8   \n",
       "3605     1     1     0     0     0     1     0     0     1              8   \n",
       "3606     1     1     0     0     0     1     0     0     1              8   \n",
       "3607     1     1     0     0     0     1     0     0     1              8   \n",
       "\n",
       "      EStop  Work  State  Liquid_growth_B102  Pipe_clogging_factor  Flow_diff  \\\n",
       "0         0     1      2                0.00                   0.0       0.00   \n",
       "1         0     1      2                0.00                   0.0       0.00   \n",
       "2         0     1      2                0.00                   0.0       0.00   \n",
       "3         0     1      2                0.00                   0.0       0.00   \n",
       "4         0     1      2                0.00                   0.0       0.00   \n",
       "...     ...   ...    ...                 ...                   ...        ...   \n",
       "3603      0     1      9               -0.18                   0.0       0.35   \n",
       "3604      0     1      9               -0.17                   0.0       0.34   \n",
       "3605      0     1      9               -0.18                   0.0       0.35   \n",
       "3606      0     1      9               -0.18                   0.0       0.35   \n",
       "3607      0     1      9               -0.18                   0.0       0.35   \n",
       "\n",
       "      Pressure_diff  Pressure_flow_ratio  Pressure_pumpspeed_ratio  \\\n",
       "0            -47.94                 0.00                  15361.37   \n",
       "1            -24.21                 0.00                  12816.25   \n",
       "2             -9.93                 0.00                  11471.88   \n",
       "3             -4.83                 0.00                  10992.74   \n",
       "4             -6.36                 0.00                  10988.37   \n",
       "...             ...                  ...                       ...   \n",
       "3603          -7.14                -2.50                      0.00   \n",
       "3604          -7.14                -2.43                      0.00   \n",
       "3605          -6.89                -2.41                      0.00   \n",
       "3606          -7.14                -2.50                      0.00   \n",
       "3607          -7.14                -2.50                      0.00   \n",
       "\n",
       "      Tanks_level_diff  Fluid_level_dependancy  \n",
       "0                25.58                     0.0  \n",
       "1                25.58                     0.0  \n",
       "2                25.58                     0.0  \n",
       "3                25.58                     0.0  \n",
       "4                25.58                     0.0  \n",
       "...                ...                     ...  \n",
       "3603             18.39                     0.0  \n",
       "3604             23.73                     0.0  \n",
       "3605             24.06                     0.0  \n",
       "3606             24.40                     0.0  \n",
       "3607             24.57                     0.0  \n",
       "\n",
       "[3608 rows x 32 columns]"
      ]
     },
     "execution_count": 4,
     "metadata": {},
     "output_type": "execute_result"
    }
   ],
   "source": [
    "# Ładowanie danych walidacyjnych\n",
    "testdataset = pd.read_csv(\"ValidateData_x.csv\",sep=';')\n",
    "pd.set_option('display.max_columns', 32)\n",
    "testdataset"
   ]
  },
  {
   "cell_type": "code",
   "execution_count": 5,
   "metadata": {},
   "outputs": [
    {
     "data": {
      "text/html": [
       "<div>\n",
       "<style scoped>\n",
       "    .dataframe tbody tr th:only-of-type {\n",
       "        vertical-align: middle;\n",
       "    }\n",
       "\n",
       "    .dataframe tbody tr th {\n",
       "        vertical-align: top;\n",
       "    }\n",
       "\n",
       "    .dataframe thead th {\n",
       "        text-align: right;\n",
       "    }\n",
       "</style>\n",
       "<table border=\"1\" class=\"dataframe\">\n",
       "  <thead>\n",
       "    <tr style=\"text-align: right;\">\n",
       "      <th></th>\n",
       "      <th>State_0</th>\n",
       "      <th>Failure_F1</th>\n",
       "      <th>Failure_F2</th>\n",
       "      <th>Failure_F3</th>\n",
       "      <th>Failure_F4</th>\n",
       "    </tr>\n",
       "  </thead>\n",
       "  <tbody>\n",
       "    <tr>\n",
       "      <th>0</th>\n",
       "      <td>1</td>\n",
       "      <td>0</td>\n",
       "      <td>0</td>\n",
       "      <td>0</td>\n",
       "      <td>0</td>\n",
       "    </tr>\n",
       "    <tr>\n",
       "      <th>1</th>\n",
       "      <td>1</td>\n",
       "      <td>0</td>\n",
       "      <td>0</td>\n",
       "      <td>0</td>\n",
       "      <td>0</td>\n",
       "    </tr>\n",
       "    <tr>\n",
       "      <th>2</th>\n",
       "      <td>1</td>\n",
       "      <td>0</td>\n",
       "      <td>0</td>\n",
       "      <td>0</td>\n",
       "      <td>0</td>\n",
       "    </tr>\n",
       "    <tr>\n",
       "      <th>3</th>\n",
       "      <td>1</td>\n",
       "      <td>0</td>\n",
       "      <td>0</td>\n",
       "      <td>0</td>\n",
       "      <td>0</td>\n",
       "    </tr>\n",
       "    <tr>\n",
       "      <th>4</th>\n",
       "      <td>1</td>\n",
       "      <td>0</td>\n",
       "      <td>0</td>\n",
       "      <td>0</td>\n",
       "      <td>0</td>\n",
       "    </tr>\n",
       "    <tr>\n",
       "      <th>...</th>\n",
       "      <td>...</td>\n",
       "      <td>...</td>\n",
       "      <td>...</td>\n",
       "      <td>...</td>\n",
       "      <td>...</td>\n",
       "    </tr>\n",
       "    <tr>\n",
       "      <th>3603</th>\n",
       "      <td>1</td>\n",
       "      <td>0</td>\n",
       "      <td>0</td>\n",
       "      <td>0</td>\n",
       "      <td>0</td>\n",
       "    </tr>\n",
       "    <tr>\n",
       "      <th>3604</th>\n",
       "      <td>1</td>\n",
       "      <td>0</td>\n",
       "      <td>0</td>\n",
       "      <td>0</td>\n",
       "      <td>0</td>\n",
       "    </tr>\n",
       "    <tr>\n",
       "      <th>3605</th>\n",
       "      <td>1</td>\n",
       "      <td>0</td>\n",
       "      <td>0</td>\n",
       "      <td>0</td>\n",
       "      <td>0</td>\n",
       "    </tr>\n",
       "    <tr>\n",
       "      <th>3606</th>\n",
       "      <td>1</td>\n",
       "      <td>0</td>\n",
       "      <td>0</td>\n",
       "      <td>0</td>\n",
       "      <td>0</td>\n",
       "    </tr>\n",
       "    <tr>\n",
       "      <th>3607</th>\n",
       "      <td>1</td>\n",
       "      <td>0</td>\n",
       "      <td>0</td>\n",
       "      <td>0</td>\n",
       "      <td>0</td>\n",
       "    </tr>\n",
       "  </tbody>\n",
       "</table>\n",
       "<p>3608 rows × 5 columns</p>\n",
       "</div>"
      ],
      "text/plain": [
       "      State_0  Failure_F1  Failure_F2  Failure_F3  Failure_F4\n",
       "0           1           0           0           0           0\n",
       "1           1           0           0           0           0\n",
       "2           1           0           0           0           0\n",
       "3           1           0           0           0           0\n",
       "4           1           0           0           0           0\n",
       "...       ...         ...         ...         ...         ...\n",
       "3603        1           0           0           0           0\n",
       "3604        1           0           0           0           0\n",
       "3605        1           0           0           0           0\n",
       "3606        1           0           0           0           0\n",
       "3607        1           0           0           0           0\n",
       "\n",
       "[3608 rows x 5 columns]"
      ]
     },
     "execution_count": 5,
     "metadata": {},
     "output_type": "execute_result"
    }
   ],
   "source": [
    "# Ładowanie danych z informacją o klasie danych walidacyjnych\n",
    "testlabel = pd.read_csv(\"ValidateData_y.csv\",sep=';')\n",
    "testlabel"
   ]
  },
  {
   "cell_type": "code",
   "execution_count": 6,
   "metadata": {},
   "outputs": [],
   "source": [
    "# Przypisywanie danych\n",
    "x_train = dataset\n",
    "y_train = label\n",
    "x_test = testdataset\n",
    "y_test = testlabel"
   ]
  },
  {
   "cell_type": "code",
   "execution_count": 7,
   "metadata": {},
   "outputs": [],
   "source": [
    "# Skalowanie dancyh\n",
    "sc = StandardScaler()\n",
    "x_train = sc.fit_transform(x_train)\n",
    "x_test = sc.fit_transform(x_test)\n"
   ]
  },
  {
   "cell_type": "code",
   "execution_count": 8,
   "metadata": {},
   "outputs": [
    {
     "name": "stdout",
     "output_type": "stream",
     "text": [
      "(24666, 32)\n"
     ]
    }
   ],
   "source": [
    "# Sprawdzenie kształtu danych\n",
    "print(x_train.shape)"
   ]
  },
  {
   "cell_type": "code",
   "execution_count": 9,
   "metadata": {},
   "outputs": [],
   "source": [
    "# Inicjacja modelu\n",
    "model = Sequential()"
   ]
  },
  {
   "cell_type": "code",
   "execution_count": 10,
   "metadata": {},
   "outputs": [],
   "source": [
    "# Dodanie warstwy wejsciowej\n",
    "model.add(Dense(32,input_shape = [32,], activation='sigmoid'))"
   ]
  },
  {
   "cell_type": "code",
   "execution_count": 11,
   "metadata": {},
   "outputs": [],
   "source": [
    "# Dodanie warstwy ukrytej\n",
    "model.add(Dense(16, activation='sigmoid'))"
   ]
  },
  {
   "cell_type": "code",
   "execution_count": 12,
   "metadata": {},
   "outputs": [],
   "source": [
    "# Dodanie warstwy wyjściowej\n",
    "model.add(Dense(5,activation='softmax'))"
   ]
  },
  {
   "cell_type": "code",
   "execution_count": 13,
   "metadata": {},
   "outputs": [],
   "source": [
    "# Kompilacja modelu\n",
    "model.compile(\n",
    "optimizer= keras.optimizers.Adam(\n",
    "    learning_rate=0.001,\n",
    "    beta_1=0.9,\n",
    "    beta_2=0.999,\n",
    "    epsilon=1e-07), \n",
    "loss= keras.losses.CategoricalCrossentropy(\n",
    "    from_logits=False,\n",
    "    #label_smoothing=0.0,\n",
    "    #axis=-1,\n",
    "),\n",
    "metrics= ['accuracy'])"
   ]
  },
  {
   "cell_type": "code",
   "execution_count": 14,
   "metadata": {},
   "outputs": [
    {
     "name": "stdout",
     "output_type": "stream",
     "text": [
      "Model: \"sequential\"\n",
      "_________________________________________________________________\n",
      " Layer (type)                Output Shape              Param #   \n",
      "=================================================================\n",
      " dense (Dense)               (None, 32)                1056      \n",
      "                                                                 \n",
      " dense_1 (Dense)             (None, 16)                528       \n",
      "                                                                 \n",
      " dense_2 (Dense)             (None, 5)                 85        \n",
      "                                                                 \n",
      "=================================================================\n",
      "Total params: 1,669\n",
      "Trainable params: 1,669\n",
      "Non-trainable params: 0\n",
      "_________________________________________________________________\n"
     ]
    }
   ],
   "source": [
    "# Informacje o modelu\n",
    "model.summary()"
   ]
  },
  {
   "cell_type": "code",
   "execution_count": 15,
   "metadata": {},
   "outputs": [
    {
     "name": "stdout",
     "output_type": "stream",
     "text": [
      "Epoch 1/32\n",
      "771/771 [==============================] - 2s 2ms/step - loss: 0.6128 - accuracy: 0.8075 - val_loss: 0.3188 - val_accuracy: 0.9202\n",
      "Epoch 2/32\n",
      "771/771 [==============================] - 1s 1ms/step - loss: 0.2624 - accuracy: 0.9230 - val_loss: 0.2133 - val_accuracy: 0.9271\n",
      "Epoch 3/32\n",
      "771/771 [==============================] - 1s 1ms/step - loss: 0.2030 - accuracy: 0.9240 - val_loss: 0.1658 - val_accuracy: 0.9324\n",
      "Epoch 4/32\n",
      "771/771 [==============================] - 1s 1ms/step - loss: 0.1685 - accuracy: 0.9297 - val_loss: 0.1328 - val_accuracy: 0.9482\n",
      "Epoch 5/32\n",
      "771/771 [==============================] - 1s 1ms/step - loss: 0.1466 - accuracy: 0.9415 - val_loss: 0.1117 - val_accuracy: 0.9460\n",
      "Epoch 6/32\n",
      "771/771 [==============================] - 1s 1ms/step - loss: 0.1329 - accuracy: 0.9455 - val_loss: 0.1004 - val_accuracy: 0.9526\n",
      "Epoch 7/32\n",
      "771/771 [==============================] - 1s 1ms/step - loss: 0.1235 - accuracy: 0.9475 - val_loss: 0.0861 - val_accuracy: 0.9678\n",
      "Epoch 8/32\n",
      "771/771 [==============================] - 1s 1ms/step - loss: 0.1161 - accuracy: 0.9517 - val_loss: 0.0779 - val_accuracy: 0.9720\n",
      "Epoch 9/32\n",
      "771/771 [==============================] - 1s 1ms/step - loss: 0.1098 - accuracy: 0.9536 - val_loss: 0.0784 - val_accuracy: 0.9684\n",
      "Epoch 10/32\n",
      "771/771 [==============================] - 1s 1ms/step - loss: 0.1050 - accuracy: 0.9561 - val_loss: 0.0718 - val_accuracy: 0.9751\n",
      "Epoch 11/32\n",
      "771/771 [==============================] - 1s 1ms/step - loss: 0.1014 - accuracy: 0.9574 - val_loss: 0.0694 - val_accuracy: 0.9731\n",
      "Epoch 12/32\n",
      "771/771 [==============================] - 1s 1ms/step - loss: 0.0991 - accuracy: 0.9579 - val_loss: 0.0651 - val_accuracy: 0.9742\n",
      "Epoch 13/32\n",
      "771/771 [==============================] - 1s 1ms/step - loss: 0.0963 - accuracy: 0.9588 - val_loss: 0.0635 - val_accuracy: 0.9764\n",
      "Epoch 14/32\n",
      "771/771 [==============================] - 1s 1ms/step - loss: 0.0946 - accuracy: 0.9593 - val_loss: 0.0625 - val_accuracy: 0.9781\n",
      "Epoch 15/32\n",
      "771/771 [==============================] - 1s 1ms/step - loss: 0.0931 - accuracy: 0.9603 - val_loss: 0.0601 - val_accuracy: 0.9739\n",
      "Epoch 16/32\n",
      "771/771 [==============================] - 1s 1ms/step - loss: 0.0919 - accuracy: 0.9608 - val_loss: 0.0627 - val_accuracy: 0.9734\n",
      "Epoch 17/32\n",
      "771/771 [==============================] - 1s 1ms/step - loss: 0.0902 - accuracy: 0.9611 - val_loss: 0.0607 - val_accuracy: 0.9737\n",
      "Epoch 18/32\n",
      "771/771 [==============================] - 1s 1ms/step - loss: 0.0893 - accuracy: 0.9613 - val_loss: 0.0586 - val_accuracy: 0.9773\n",
      "Epoch 19/32\n",
      "771/771 [==============================] - 1s 1ms/step - loss: 0.0881 - accuracy: 0.9616 - val_loss: 0.0576 - val_accuracy: 0.9767\n",
      "Epoch 20/32\n",
      "771/771 [==============================] - 1s 1ms/step - loss: 0.0874 - accuracy: 0.9615 - val_loss: 0.0604 - val_accuracy: 0.9731\n",
      "Epoch 21/32\n",
      "771/771 [==============================] - 1s 1ms/step - loss: 0.0869 - accuracy: 0.9615 - val_loss: 0.0578 - val_accuracy: 0.9742\n",
      "Epoch 22/32\n",
      "771/771 [==============================] - 1s 1ms/step - loss: 0.0860 - accuracy: 0.9616 - val_loss: 0.0568 - val_accuracy: 0.9778\n",
      "Epoch 23/32\n",
      "771/771 [==============================] - 1s 1ms/step - loss: 0.0847 - accuracy: 0.9616 - val_loss: 0.0628 - val_accuracy: 0.9737\n",
      "Epoch 24/32\n",
      "771/771 [==============================] - 1s 1ms/step - loss: 0.0846 - accuracy: 0.9617 - val_loss: 0.0582 - val_accuracy: 0.9739\n",
      "Epoch 25/32\n",
      "771/771 [==============================] - 1s 1ms/step - loss: 0.0839 - accuracy: 0.9623 - val_loss: 0.0562 - val_accuracy: 0.9737\n",
      "Epoch 26/32\n",
      "771/771 [==============================] - 1s 1ms/step - loss: 0.0835 - accuracy: 0.9625 - val_loss: 0.0578 - val_accuracy: 0.9734\n",
      "Epoch 27/32\n",
      "771/771 [==============================] - 1s 1ms/step - loss: 0.0827 - accuracy: 0.9632 - val_loss: 0.0568 - val_accuracy: 0.9781\n",
      "Epoch 28/32\n",
      "771/771 [==============================] - 1s 1ms/step - loss: 0.0824 - accuracy: 0.9628 - val_loss: 0.0558 - val_accuracy: 0.9778\n",
      "Epoch 29/32\n",
      "771/771 [==============================] - 1s 1ms/step - loss: 0.0812 - accuracy: 0.9639 - val_loss: 0.0545 - val_accuracy: 0.9778\n",
      "Epoch 30/32\n",
      "771/771 [==============================] - 1s 1ms/step - loss: 0.0814 - accuracy: 0.9634 - val_loss: 0.0583 - val_accuracy: 0.9737\n",
      "Epoch 31/32\n",
      "771/771 [==============================] - 1s 1ms/step - loss: 0.0808 - accuracy: 0.9644 - val_loss: 0.0546 - val_accuracy: 0.9775\n",
      "Epoch 32/32\n",
      "771/771 [==============================] - 1s 1ms/step - loss: 0.0803 - accuracy: 0.9640 - val_loss: 0.0543 - val_accuracy: 0.9787\n"
     ]
    }
   ],
   "source": [
    "# Uczenie modelu\n",
    "history =model.fit(x_train, y_train, validation_data=(x_test, y_test), epochs=32)"
   ]
  },
  {
   "cell_type": "code",
   "execution_count": 16,
   "metadata": {},
   "outputs": [
    {
     "name": "stdout",
     "output_type": "stream",
     "text": [
      "113/113 - 0s - loss: 0.0543 - accuracy: 0.9787 - 145ms/epoch - 1ms/step\n"
     ]
    },
    {
     "data": {
      "text/plain": [
       "[0.05433829873800278, 0.9786585569381714]"
      ]
     },
     "execution_count": 16,
     "metadata": {},
     "output_type": "execute_result"
    }
   ],
   "source": [
    "# Ostateczny winik modelu z wartości walidacyjnych\n",
    "model.evaluate(x_test, y_test, verbose=2)\n"
   ]
  },
  {
   "cell_type": "code",
   "execution_count": 17,
   "metadata": {},
   "outputs": [
    {
     "data": {
      "text/html": [
       "<div>\n",
       "<style scoped>\n",
       "    .dataframe tbody tr th:only-of-type {\n",
       "        vertical-align: middle;\n",
       "    }\n",
       "\n",
       "    .dataframe tbody tr th {\n",
       "        vertical-align: top;\n",
       "    }\n",
       "\n",
       "    .dataframe thead th {\n",
       "        text-align: right;\n",
       "    }\n",
       "</style>\n",
       "<table border=\"1\" class=\"dataframe\">\n",
       "  <thead>\n",
       "    <tr style=\"text-align: right;\">\n",
       "      <th></th>\n",
       "      <th>loss</th>\n",
       "      <th>accuracy</th>\n",
       "      <th>val_loss</th>\n",
       "      <th>val_accuracy</th>\n",
       "    </tr>\n",
       "  </thead>\n",
       "  <tbody>\n",
       "    <tr>\n",
       "      <th>0</th>\n",
       "      <td>0.612761</td>\n",
       "      <td>0.807549</td>\n",
       "      <td>0.318750</td>\n",
       "      <td>0.920177</td>\n",
       "    </tr>\n",
       "    <tr>\n",
       "      <th>1</th>\n",
       "      <td>0.262414</td>\n",
       "      <td>0.922971</td>\n",
       "      <td>0.213262</td>\n",
       "      <td>0.927106</td>\n",
       "    </tr>\n",
       "    <tr>\n",
       "      <th>2</th>\n",
       "      <td>0.202991</td>\n",
       "      <td>0.923984</td>\n",
       "      <td>0.165801</td>\n",
       "      <td>0.932373</td>\n",
       "    </tr>\n",
       "    <tr>\n",
       "      <th>3</th>\n",
       "      <td>0.168465</td>\n",
       "      <td>0.929660</td>\n",
       "      <td>0.132757</td>\n",
       "      <td>0.948171</td>\n",
       "    </tr>\n",
       "    <tr>\n",
       "      <th>4</th>\n",
       "      <td>0.146583</td>\n",
       "      <td>0.941458</td>\n",
       "      <td>0.111733</td>\n",
       "      <td>0.945953</td>\n",
       "    </tr>\n",
       "    <tr>\n",
       "      <th>5</th>\n",
       "      <td>0.132923</td>\n",
       "      <td>0.945512</td>\n",
       "      <td>0.100441</td>\n",
       "      <td>0.952605</td>\n",
       "    </tr>\n",
       "    <tr>\n",
       "      <th>6</th>\n",
       "      <td>0.123541</td>\n",
       "      <td>0.947539</td>\n",
       "      <td>0.086058</td>\n",
       "      <td>0.967849</td>\n",
       "    </tr>\n",
       "    <tr>\n",
       "      <th>7</th>\n",
       "      <td>0.116096</td>\n",
       "      <td>0.951674</td>\n",
       "      <td>0.077936</td>\n",
       "      <td>0.972007</td>\n",
       "    </tr>\n",
       "    <tr>\n",
       "      <th>8</th>\n",
       "      <td>0.109783</td>\n",
       "      <td>0.953620</td>\n",
       "      <td>0.078412</td>\n",
       "      <td>0.968404</td>\n",
       "    </tr>\n",
       "    <tr>\n",
       "      <th>9</th>\n",
       "      <td>0.105002</td>\n",
       "      <td>0.956134</td>\n",
       "      <td>0.071777</td>\n",
       "      <td>0.975055</td>\n",
       "    </tr>\n",
       "    <tr>\n",
       "      <th>10</th>\n",
       "      <td>0.101399</td>\n",
       "      <td>0.957350</td>\n",
       "      <td>0.069376</td>\n",
       "      <td>0.973115</td>\n",
       "    </tr>\n",
       "    <tr>\n",
       "      <th>11</th>\n",
       "      <td>0.099067</td>\n",
       "      <td>0.957877</td>\n",
       "      <td>0.065096</td>\n",
       "      <td>0.974224</td>\n",
       "    </tr>\n",
       "    <tr>\n",
       "      <th>12</th>\n",
       "      <td>0.096286</td>\n",
       "      <td>0.958810</td>\n",
       "      <td>0.063547</td>\n",
       "      <td>0.976441</td>\n",
       "    </tr>\n",
       "    <tr>\n",
       "      <th>13</th>\n",
       "      <td>0.094622</td>\n",
       "      <td>0.959296</td>\n",
       "      <td>0.062533</td>\n",
       "      <td>0.978104</td>\n",
       "    </tr>\n",
       "    <tr>\n",
       "      <th>14</th>\n",
       "      <td>0.093104</td>\n",
       "      <td>0.960269</td>\n",
       "      <td>0.060130</td>\n",
       "      <td>0.973947</td>\n",
       "    </tr>\n",
       "    <tr>\n",
       "      <th>15</th>\n",
       "      <td>0.091944</td>\n",
       "      <td>0.960837</td>\n",
       "      <td>0.062664</td>\n",
       "      <td>0.973392</td>\n",
       "    </tr>\n",
       "    <tr>\n",
       "      <th>16</th>\n",
       "      <td>0.090234</td>\n",
       "      <td>0.961080</td>\n",
       "      <td>0.060684</td>\n",
       "      <td>0.973670</td>\n",
       "    </tr>\n",
       "    <tr>\n",
       "      <th>17</th>\n",
       "      <td>0.089267</td>\n",
       "      <td>0.961323</td>\n",
       "      <td>0.058629</td>\n",
       "      <td>0.977273</td>\n",
       "    </tr>\n",
       "    <tr>\n",
       "      <th>18</th>\n",
       "      <td>0.088136</td>\n",
       "      <td>0.961607</td>\n",
       "      <td>0.057630</td>\n",
       "      <td>0.976718</td>\n",
       "    </tr>\n",
       "    <tr>\n",
       "      <th>19</th>\n",
       "      <td>0.087378</td>\n",
       "      <td>0.961526</td>\n",
       "      <td>0.060448</td>\n",
       "      <td>0.973115</td>\n",
       "    </tr>\n",
       "    <tr>\n",
       "      <th>20</th>\n",
       "      <td>0.086863</td>\n",
       "      <td>0.961485</td>\n",
       "      <td>0.057847</td>\n",
       "      <td>0.974224</td>\n",
       "    </tr>\n",
       "    <tr>\n",
       "      <th>21</th>\n",
       "      <td>0.086001</td>\n",
       "      <td>0.961567</td>\n",
       "      <td>0.056791</td>\n",
       "      <td>0.977827</td>\n",
       "    </tr>\n",
       "    <tr>\n",
       "      <th>22</th>\n",
       "      <td>0.084742</td>\n",
       "      <td>0.961567</td>\n",
       "      <td>0.062795</td>\n",
       "      <td>0.973670</td>\n",
       "    </tr>\n",
       "    <tr>\n",
       "      <th>23</th>\n",
       "      <td>0.084607</td>\n",
       "      <td>0.961729</td>\n",
       "      <td>0.058222</td>\n",
       "      <td>0.973947</td>\n",
       "    </tr>\n",
       "    <tr>\n",
       "      <th>24</th>\n",
       "      <td>0.083874</td>\n",
       "      <td>0.962337</td>\n",
       "      <td>0.056247</td>\n",
       "      <td>0.973670</td>\n",
       "    </tr>\n",
       "    <tr>\n",
       "      <th>25</th>\n",
       "      <td>0.083464</td>\n",
       "      <td>0.962499</td>\n",
       "      <td>0.057770</td>\n",
       "      <td>0.973392</td>\n",
       "    </tr>\n",
       "    <tr>\n",
       "      <th>26</th>\n",
       "      <td>0.082675</td>\n",
       "      <td>0.963229</td>\n",
       "      <td>0.056839</td>\n",
       "      <td>0.978104</td>\n",
       "    </tr>\n",
       "    <tr>\n",
       "      <th>27</th>\n",
       "      <td>0.082425</td>\n",
       "      <td>0.962783</td>\n",
       "      <td>0.055755</td>\n",
       "      <td>0.977827</td>\n",
       "    </tr>\n",
       "    <tr>\n",
       "      <th>28</th>\n",
       "      <td>0.081239</td>\n",
       "      <td>0.963877</td>\n",
       "      <td>0.054462</td>\n",
       "      <td>0.977827</td>\n",
       "    </tr>\n",
       "    <tr>\n",
       "      <th>29</th>\n",
       "      <td>0.081368</td>\n",
       "      <td>0.963431</td>\n",
       "      <td>0.058277</td>\n",
       "      <td>0.973670</td>\n",
       "    </tr>\n",
       "    <tr>\n",
       "      <th>30</th>\n",
       "      <td>0.080770</td>\n",
       "      <td>0.964364</td>\n",
       "      <td>0.054581</td>\n",
       "      <td>0.977550</td>\n",
       "    </tr>\n",
       "    <tr>\n",
       "      <th>31</th>\n",
       "      <td>0.080309</td>\n",
       "      <td>0.963999</td>\n",
       "      <td>0.054338</td>\n",
       "      <td>0.978659</td>\n",
       "    </tr>\n",
       "  </tbody>\n",
       "</table>\n",
       "</div>"
      ],
      "text/plain": [
       "        loss  accuracy  val_loss  val_accuracy\n",
       "0   0.612761  0.807549  0.318750      0.920177\n",
       "1   0.262414  0.922971  0.213262      0.927106\n",
       "2   0.202991  0.923984  0.165801      0.932373\n",
       "3   0.168465  0.929660  0.132757      0.948171\n",
       "4   0.146583  0.941458  0.111733      0.945953\n",
       "5   0.132923  0.945512  0.100441      0.952605\n",
       "6   0.123541  0.947539  0.086058      0.967849\n",
       "7   0.116096  0.951674  0.077936      0.972007\n",
       "8   0.109783  0.953620  0.078412      0.968404\n",
       "9   0.105002  0.956134  0.071777      0.975055\n",
       "10  0.101399  0.957350  0.069376      0.973115\n",
       "11  0.099067  0.957877  0.065096      0.974224\n",
       "12  0.096286  0.958810  0.063547      0.976441\n",
       "13  0.094622  0.959296  0.062533      0.978104\n",
       "14  0.093104  0.960269  0.060130      0.973947\n",
       "15  0.091944  0.960837  0.062664      0.973392\n",
       "16  0.090234  0.961080  0.060684      0.973670\n",
       "17  0.089267  0.961323  0.058629      0.977273\n",
       "18  0.088136  0.961607  0.057630      0.976718\n",
       "19  0.087378  0.961526  0.060448      0.973115\n",
       "20  0.086863  0.961485  0.057847      0.974224\n",
       "21  0.086001  0.961567  0.056791      0.977827\n",
       "22  0.084742  0.961567  0.062795      0.973670\n",
       "23  0.084607  0.961729  0.058222      0.973947\n",
       "24  0.083874  0.962337  0.056247      0.973670\n",
       "25  0.083464  0.962499  0.057770      0.973392\n",
       "26  0.082675  0.963229  0.056839      0.978104\n",
       "27  0.082425  0.962783  0.055755      0.977827\n",
       "28  0.081239  0.963877  0.054462      0.977827\n",
       "29  0.081368  0.963431  0.058277      0.973670\n",
       "30  0.080770  0.964364  0.054581      0.977550\n",
       "31  0.080309  0.963999  0.054338      0.978659"
      ]
     },
     "execution_count": 17,
     "metadata": {},
     "output_type": "execute_result"
    }
   ],
   "source": [
    "# Tabela przedstawiająca zmianę 'loss' i 'accuracy' w epokach\n",
    "metrics = pd.DataFrame(history.history)\n",
    "metrics"
   ]
  },
  {
   "cell_type": "code",
   "execution_count": 18,
   "metadata": {},
   "outputs": [
    {
     "name": "stdout",
     "output_type": "stream",
     "text": [
      "Wykres danych z procesu uczenia modelu\n"
     ]
    },
    {
     "data": {
      "application/vnd.plotly.v1+json": {
       "config": {
        "plotlyServerURL": "https://plot.ly"
       },
       "data": [
        {
         "line": {
          "color": "blue"
         },
         "name": "loss",
         "type": "scatter",
         "xaxis": "x",
         "y": [
          0.6127609014511108,
          0.2624143362045288,
          0.20299088954925537,
          0.16846469044685364,
          0.14658311009407043,
          0.13292339444160461,
          0.12354094535112381,
          0.11609634011983871,
          0.10978332906961441,
          0.10500182956457138,
          0.10139894485473633,
          0.09906666725873947,
          0.09628592431545258,
          0.09462212026119232,
          0.09310396760702133,
          0.0919441282749176,
          0.09023397415876389,
          0.0892670527100563,
          0.08813557773828506,
          0.08737750351428986,
          0.08686256408691406,
          0.0860012024641037,
          0.08474189788103104,
          0.08460739254951477,
          0.0838741809129715,
          0.08346354961395264,
          0.08267514407634735,
          0.08242475241422653,
          0.08123930543661118,
          0.08136815577745438,
          0.08077006787061691,
          0.08030888438224792
         ],
         "yaxis": "y"
        },
        {
         "line": {
          "color": "yellow"
         },
         "name": "val_loss",
         "type": "scatter",
         "xaxis": "x",
         "y": [
          0.3187503218650818,
          0.2132623940706253,
          0.1658012717962265,
          0.1327572911977768,
          0.11173314601182938,
          0.10044098645448685,
          0.0860578864812851,
          0.07793617993593216,
          0.07841154932975769,
          0.07177654653787613,
          0.06937645375728607,
          0.06509565562009811,
          0.06354736536741257,
          0.06253290921449661,
          0.060129690915346146,
          0.0626644566655159,
          0.06068376451730728,
          0.05862915515899658,
          0.05763046443462372,
          0.06044817343354225,
          0.05784732848405838,
          0.05679123476147652,
          0.0627945214509964,
          0.05822249501943588,
          0.05624720826745033,
          0.057769544422626495,
          0.05683942139148712,
          0.05575534701347351,
          0.05446173995733261,
          0.05827666446566582,
          0.054580509662628174,
          0.05433829873800278
         ],
         "yaxis": "y"
        },
        {
         "line": {
          "color": "blue"
         },
         "name": "accuracy",
         "type": "scatter",
         "xaxis": "x2",
         "y": [
          0.8075488805770874,
          0.9229708909988403,
          0.9239844083786011,
          0.9296602606773376,
          0.9414578676223755,
          0.945512056350708,
          0.9475391507148743,
          0.9516743421554565,
          0.9536203742027283,
          0.9561339616775513,
          0.9573501944541931,
          0.9578772187232971,
          0.9588096737861633,
          0.9592962265014648,
          0.9602692127227783,
          0.9608367681503296,
          0.961080014705658,
          0.9613232612609863,
          0.9616070985794067,
          0.9615259766578674,
          0.9614854454994202,
          0.9615665078163147,
          0.9615665078163147,
          0.9617286920547485,
          0.9623368382453918,
          0.9624989628791809,
          0.9632287621498108,
          0.9627828001976013,
          0.9638773798942566,
          0.9634314179420471,
          0.9643638730049133,
          0.9639990329742432
         ],
         "yaxis": "y2"
        },
        {
         "line": {
          "color": "yellow"
         },
         "name": "val_accuracy",
         "type": "scatter",
         "xaxis": "x2",
         "y": [
          0.9201774001121521,
          0.9271064400672913,
          0.932372510433197,
          0.9481707215309143,
          0.9459534287452698,
          0.9526053071022034,
          0.9678491950035095,
          0.9720066785812378,
          0.9684035181999207,
          0.975055456161499,
          0.9731153249740601,
          0.9742239713668823,
          0.9764412641525269,
          0.9781042337417603,
          0.9739468097686768,
          0.9733924865722656,
          0.9736696481704712,
          0.9772727489471436,
          0.9767184257507324,
          0.9731153249740601,
          0.9742239713668823,
          0.9778270721435547,
          0.9736696481704712,
          0.9739468097686768,
          0.9736696481704712,
          0.9733924865722656,
          0.9781042337417603,
          0.9778270721435547,
          0.9778270721435547,
          0.9736696481704712,
          0.9775499105453491,
          0.9786585569381714
         ],
         "yaxis": "y2"
        }
       ],
       "layout": {
        "template": {
         "data": {
          "bar": [
           {
            "error_x": {
             "color": "#2a3f5f"
            },
            "error_y": {
             "color": "#2a3f5f"
            },
            "marker": {
             "line": {
              "color": "#E5ECF6",
              "width": 0.5
             },
             "pattern": {
              "fillmode": "overlay",
              "size": 10,
              "solidity": 0.2
             }
            },
            "type": "bar"
           }
          ],
          "barpolar": [
           {
            "marker": {
             "line": {
              "color": "#E5ECF6",
              "width": 0.5
             },
             "pattern": {
              "fillmode": "overlay",
              "size": 10,
              "solidity": 0.2
             }
            },
            "type": "barpolar"
           }
          ],
          "carpet": [
           {
            "aaxis": {
             "endlinecolor": "#2a3f5f",
             "gridcolor": "white",
             "linecolor": "white",
             "minorgridcolor": "white",
             "startlinecolor": "#2a3f5f"
            },
            "baxis": {
             "endlinecolor": "#2a3f5f",
             "gridcolor": "white",
             "linecolor": "white",
             "minorgridcolor": "white",
             "startlinecolor": "#2a3f5f"
            },
            "type": "carpet"
           }
          ],
          "choropleth": [
           {
            "colorbar": {
             "outlinewidth": 0,
             "ticks": ""
            },
            "type": "choropleth"
           }
          ],
          "contour": [
           {
            "colorbar": {
             "outlinewidth": 0,
             "ticks": ""
            },
            "colorscale": [
             [
              0,
              "#0d0887"
             ],
             [
              0.1111111111111111,
              "#46039f"
             ],
             [
              0.2222222222222222,
              "#7201a8"
             ],
             [
              0.3333333333333333,
              "#9c179e"
             ],
             [
              0.4444444444444444,
              "#bd3786"
             ],
             [
              0.5555555555555556,
              "#d8576b"
             ],
             [
              0.6666666666666666,
              "#ed7953"
             ],
             [
              0.7777777777777778,
              "#fb9f3a"
             ],
             [
              0.8888888888888888,
              "#fdca26"
             ],
             [
              1,
              "#f0f921"
             ]
            ],
            "type": "contour"
           }
          ],
          "contourcarpet": [
           {
            "colorbar": {
             "outlinewidth": 0,
             "ticks": ""
            },
            "type": "contourcarpet"
           }
          ],
          "heatmap": [
           {
            "colorbar": {
             "outlinewidth": 0,
             "ticks": ""
            },
            "colorscale": [
             [
              0,
              "#0d0887"
             ],
             [
              0.1111111111111111,
              "#46039f"
             ],
             [
              0.2222222222222222,
              "#7201a8"
             ],
             [
              0.3333333333333333,
              "#9c179e"
             ],
             [
              0.4444444444444444,
              "#bd3786"
             ],
             [
              0.5555555555555556,
              "#d8576b"
             ],
             [
              0.6666666666666666,
              "#ed7953"
             ],
             [
              0.7777777777777778,
              "#fb9f3a"
             ],
             [
              0.8888888888888888,
              "#fdca26"
             ],
             [
              1,
              "#f0f921"
             ]
            ],
            "type": "heatmap"
           }
          ],
          "heatmapgl": [
           {
            "colorbar": {
             "outlinewidth": 0,
             "ticks": ""
            },
            "colorscale": [
             [
              0,
              "#0d0887"
             ],
             [
              0.1111111111111111,
              "#46039f"
             ],
             [
              0.2222222222222222,
              "#7201a8"
             ],
             [
              0.3333333333333333,
              "#9c179e"
             ],
             [
              0.4444444444444444,
              "#bd3786"
             ],
             [
              0.5555555555555556,
              "#d8576b"
             ],
             [
              0.6666666666666666,
              "#ed7953"
             ],
             [
              0.7777777777777778,
              "#fb9f3a"
             ],
             [
              0.8888888888888888,
              "#fdca26"
             ],
             [
              1,
              "#f0f921"
             ]
            ],
            "type": "heatmapgl"
           }
          ],
          "histogram": [
           {
            "marker": {
             "pattern": {
              "fillmode": "overlay",
              "size": 10,
              "solidity": 0.2
             }
            },
            "type": "histogram"
           }
          ],
          "histogram2d": [
           {
            "colorbar": {
             "outlinewidth": 0,
             "ticks": ""
            },
            "colorscale": [
             [
              0,
              "#0d0887"
             ],
             [
              0.1111111111111111,
              "#46039f"
             ],
             [
              0.2222222222222222,
              "#7201a8"
             ],
             [
              0.3333333333333333,
              "#9c179e"
             ],
             [
              0.4444444444444444,
              "#bd3786"
             ],
             [
              0.5555555555555556,
              "#d8576b"
             ],
             [
              0.6666666666666666,
              "#ed7953"
             ],
             [
              0.7777777777777778,
              "#fb9f3a"
             ],
             [
              0.8888888888888888,
              "#fdca26"
             ],
             [
              1,
              "#f0f921"
             ]
            ],
            "type": "histogram2d"
           }
          ],
          "histogram2dcontour": [
           {
            "colorbar": {
             "outlinewidth": 0,
             "ticks": ""
            },
            "colorscale": [
             [
              0,
              "#0d0887"
             ],
             [
              0.1111111111111111,
              "#46039f"
             ],
             [
              0.2222222222222222,
              "#7201a8"
             ],
             [
              0.3333333333333333,
              "#9c179e"
             ],
             [
              0.4444444444444444,
              "#bd3786"
             ],
             [
              0.5555555555555556,
              "#d8576b"
             ],
             [
              0.6666666666666666,
              "#ed7953"
             ],
             [
              0.7777777777777778,
              "#fb9f3a"
             ],
             [
              0.8888888888888888,
              "#fdca26"
             ],
             [
              1,
              "#f0f921"
             ]
            ],
            "type": "histogram2dcontour"
           }
          ],
          "mesh3d": [
           {
            "colorbar": {
             "outlinewidth": 0,
             "ticks": ""
            },
            "type": "mesh3d"
           }
          ],
          "parcoords": [
           {
            "line": {
             "colorbar": {
              "outlinewidth": 0,
              "ticks": ""
             }
            },
            "type": "parcoords"
           }
          ],
          "pie": [
           {
            "automargin": true,
            "type": "pie"
           }
          ],
          "scatter": [
           {
            "fillpattern": {
             "fillmode": "overlay",
             "size": 10,
             "solidity": 0.2
            },
            "type": "scatter"
           }
          ],
          "scatter3d": [
           {
            "line": {
             "colorbar": {
              "outlinewidth": 0,
              "ticks": ""
             }
            },
            "marker": {
             "colorbar": {
              "outlinewidth": 0,
              "ticks": ""
             }
            },
            "type": "scatter3d"
           }
          ],
          "scattercarpet": [
           {
            "marker": {
             "colorbar": {
              "outlinewidth": 0,
              "ticks": ""
             }
            },
            "type": "scattercarpet"
           }
          ],
          "scattergeo": [
           {
            "marker": {
             "colorbar": {
              "outlinewidth": 0,
              "ticks": ""
             }
            },
            "type": "scattergeo"
           }
          ],
          "scattergl": [
           {
            "marker": {
             "colorbar": {
              "outlinewidth": 0,
              "ticks": ""
             }
            },
            "type": "scattergl"
           }
          ],
          "scattermapbox": [
           {
            "marker": {
             "colorbar": {
              "outlinewidth": 0,
              "ticks": ""
             }
            },
            "type": "scattermapbox"
           }
          ],
          "scatterpolar": [
           {
            "marker": {
             "colorbar": {
              "outlinewidth": 0,
              "ticks": ""
             }
            },
            "type": "scatterpolar"
           }
          ],
          "scatterpolargl": [
           {
            "marker": {
             "colorbar": {
              "outlinewidth": 0,
              "ticks": ""
             }
            },
            "type": "scatterpolargl"
           }
          ],
          "scatterternary": [
           {
            "marker": {
             "colorbar": {
              "outlinewidth": 0,
              "ticks": ""
             }
            },
            "type": "scatterternary"
           }
          ],
          "surface": [
           {
            "colorbar": {
             "outlinewidth": 0,
             "ticks": ""
            },
            "colorscale": [
             [
              0,
              "#0d0887"
             ],
             [
              0.1111111111111111,
              "#46039f"
             ],
             [
              0.2222222222222222,
              "#7201a8"
             ],
             [
              0.3333333333333333,
              "#9c179e"
             ],
             [
              0.4444444444444444,
              "#bd3786"
             ],
             [
              0.5555555555555556,
              "#d8576b"
             ],
             [
              0.6666666666666666,
              "#ed7953"
             ],
             [
              0.7777777777777778,
              "#fb9f3a"
             ],
             [
              0.8888888888888888,
              "#fdca26"
             ],
             [
              1,
              "#f0f921"
             ]
            ],
            "type": "surface"
           }
          ],
          "table": [
           {
            "cells": {
             "fill": {
              "color": "#EBF0F8"
             },
             "line": {
              "color": "white"
             }
            },
            "header": {
             "fill": {
              "color": "#C8D4E3"
             },
             "line": {
              "color": "white"
             }
            },
            "type": "table"
           }
          ]
         },
         "layout": {
          "annotationdefaults": {
           "arrowcolor": "#2a3f5f",
           "arrowhead": 0,
           "arrowwidth": 1
          },
          "autotypenumbers": "strict",
          "coloraxis": {
           "colorbar": {
            "outlinewidth": 0,
            "ticks": ""
           }
          },
          "colorscale": {
           "diverging": [
            [
             0,
             "#8e0152"
            ],
            [
             0.1,
             "#c51b7d"
            ],
            [
             0.2,
             "#de77ae"
            ],
            [
             0.3,
             "#f1b6da"
            ],
            [
             0.4,
             "#fde0ef"
            ],
            [
             0.5,
             "#f7f7f7"
            ],
            [
             0.6,
             "#e6f5d0"
            ],
            [
             0.7,
             "#b8e186"
            ],
            [
             0.8,
             "#7fbc41"
            ],
            [
             0.9,
             "#4d9221"
            ],
            [
             1,
             "#276419"
            ]
           ],
           "sequential": [
            [
             0,
             "#0d0887"
            ],
            [
             0.1111111111111111,
             "#46039f"
            ],
            [
             0.2222222222222222,
             "#7201a8"
            ],
            [
             0.3333333333333333,
             "#9c179e"
            ],
            [
             0.4444444444444444,
             "#bd3786"
            ],
            [
             0.5555555555555556,
             "#d8576b"
            ],
            [
             0.6666666666666666,
             "#ed7953"
            ],
            [
             0.7777777777777778,
             "#fb9f3a"
            ],
            [
             0.8888888888888888,
             "#fdca26"
            ],
            [
             1,
             "#f0f921"
            ]
           ],
           "sequentialminus": [
            [
             0,
             "#0d0887"
            ],
            [
             0.1111111111111111,
             "#46039f"
            ],
            [
             0.2222222222222222,
             "#7201a8"
            ],
            [
             0.3333333333333333,
             "#9c179e"
            ],
            [
             0.4444444444444444,
             "#bd3786"
            ],
            [
             0.5555555555555556,
             "#d8576b"
            ],
            [
             0.6666666666666666,
             "#ed7953"
            ],
            [
             0.7777777777777778,
             "#fb9f3a"
            ],
            [
             0.8888888888888888,
             "#fdca26"
            ],
            [
             1,
             "#f0f921"
            ]
           ]
          },
          "colorway": [
           "#636efa",
           "#EF553B",
           "#00cc96",
           "#ab63fa",
           "#FFA15A",
           "#19d3f3",
           "#FF6692",
           "#B6E880",
           "#FF97FF",
           "#FECB52"
          ],
          "font": {
           "color": "#2a3f5f"
          },
          "geo": {
           "bgcolor": "white",
           "lakecolor": "white",
           "landcolor": "#E5ECF6",
           "showlakes": true,
           "showland": true,
           "subunitcolor": "white"
          },
          "hoverlabel": {
           "align": "left"
          },
          "hovermode": "closest",
          "mapbox": {
           "style": "light"
          },
          "paper_bgcolor": "white",
          "plot_bgcolor": "#E5ECF6",
          "polar": {
           "angularaxis": {
            "gridcolor": "white",
            "linecolor": "white",
            "ticks": ""
           },
           "bgcolor": "#E5ECF6",
           "radialaxis": {
            "gridcolor": "white",
            "linecolor": "white",
            "ticks": ""
           }
          },
          "scene": {
           "xaxis": {
            "backgroundcolor": "#E5ECF6",
            "gridcolor": "white",
            "gridwidth": 2,
            "linecolor": "white",
            "showbackground": true,
            "ticks": "",
            "zerolinecolor": "white"
           },
           "yaxis": {
            "backgroundcolor": "#E5ECF6",
            "gridcolor": "white",
            "gridwidth": 2,
            "linecolor": "white",
            "showbackground": true,
            "ticks": "",
            "zerolinecolor": "white"
           },
           "zaxis": {
            "backgroundcolor": "#E5ECF6",
            "gridcolor": "white",
            "gridwidth": 2,
            "linecolor": "white",
            "showbackground": true,
            "ticks": "",
            "zerolinecolor": "white"
           }
          },
          "shapedefaults": {
           "line": {
            "color": "#2a3f5f"
           }
          },
          "ternary": {
           "aaxis": {
            "gridcolor": "white",
            "linecolor": "white",
            "ticks": ""
           },
           "baxis": {
            "gridcolor": "white",
            "linecolor": "white",
            "ticks": ""
           },
           "bgcolor": "#E5ECF6",
           "caxis": {
            "gridcolor": "white",
            "linecolor": "white",
            "ticks": ""
           }
          },
          "title": {
           "x": 0.05
          },
          "xaxis": {
           "automargin": true,
           "gridcolor": "white",
           "linecolor": "white",
           "ticks": "",
           "title": {
            "standoff": 15
           },
           "zerolinecolor": "white",
           "zerolinewidth": 2
          },
          "yaxis": {
           "automargin": true,
           "gridcolor": "white",
           "linecolor": "white",
           "ticks": "",
           "title": {
            "standoff": 15
           },
           "zerolinecolor": "white",
           "zerolinewidth": 2
          }
         }
        },
        "width": 1200,
        "xaxis": {
         "anchor": "y",
         "domain": [
          0,
          1
         ]
        },
        "xaxis2": {
         "anchor": "y2",
         "domain": [
          0,
          1
         ]
        },
        "yaxis": {
         "anchor": "x",
         "domain": [
          0.575,
          1
         ]
        },
        "yaxis2": {
         "anchor": "x2",
         "domain": [
          0,
          0.425
         ]
        }
       }
      }
     },
     "metadata": {},
     "output_type": "display_data"
    }
   ],
   "source": [
    "print('Wykres danych z procesu uczenia modelu')\n",
    "fig = make_subplots(rows=2, cols=1)\n",
    "fig.add_trace(go.Scatter(y=metrics['loss'],line=dict(color='blue'), name='loss'), row=1, col=1)\n",
    "fig.add_trace(go.Scatter(y=metrics['val_loss'],line=dict(color='yellow'), name='val_loss'), row=1, col=1)\n",
    "fig.add_trace(go.Scatter(y=metrics['accuracy'],line=dict(color='blue'), name='accuracy'), row=2, col=1)\n",
    "fig.add_trace(go.Scatter(y=metrics['val_accuracy'],line=dict(color='yellow'), name='val_accuracy'), row=2, col=1)\n",
    "fig.update_layout(width=1200)"
   ]
  },
  {
   "cell_type": "code",
   "execution_count": 19,
   "metadata": {},
   "outputs": [
    {
     "name": "stdout",
     "output_type": "stream",
     "text": [
      "113/113 [==============================] - 0s 1ms/step\n",
      "      State_0  Failure_F1  Failure_F2  Failure_F3  Failure_F4\n",
      "0           1           0           0           0           0\n",
      "1           1           0           0           0           0\n",
      "2           1           0           0           0           0\n",
      "3           1           0           0           0           0\n",
      "4           1           0           0           0           0\n",
      "...       ...         ...         ...         ...         ...\n",
      "3603        1           0           0           0           0\n",
      "3604        1           0           0           0           0\n",
      "3605        1           0           0           0           0\n",
      "3606        1           0           0           0           0\n",
      "3607        1           0           0           0           0\n",
      "\n",
      "[3608 rows x 5 columns]\n",
      "[[9.99778569e-01 4.51004496e-08 8.55319740e-05 1.14260525e-04\n",
      "  2.16105127e-05]\n",
      " [9.99761045e-01 4.79683386e-08 7.90048289e-05 1.37649346e-04\n",
      "  2.22911804e-05]\n",
      " [9.99735534e-01 5.09182527e-08 7.52758133e-05 1.65421559e-04\n",
      "  2.36609612e-05]\n",
      " ...\n",
      " [5.11819839e-01 2.93177231e-06 4.88145947e-01 1.09040293e-05\n",
      "  2.04554108e-05]\n",
      " [5.20950079e-01 2.85851388e-06 4.79015529e-01 1.10672372e-05\n",
      "  2.04867156e-05]\n",
      " [5.25793791e-01 2.82222322e-06 4.74171668e-01 1.11532563e-05\n",
      "  2.05023025e-05]]\n"
     ]
    }
   ],
   "source": [
    "# Wyswietlenie określonych wartosci przez model\n",
    "x_pred=model.predict(x_test)\n",
    "print(y_test)\n",
    "print(x_pred)"
   ]
  },
  {
   "cell_type": "code",
   "execution_count": 20,
   "metadata": {},
   "outputs": [
    {
     "data": {
      "text/plain": [
       "array([0, 0, 0, ..., 0, 0, 0], dtype=int64)"
      ]
     },
     "execution_count": 20,
     "metadata": {},
     "output_type": "execute_result"
    }
   ],
   "source": [
    "# Wyciągniecie klasy z modelu\n",
    "y_pred=np.argmax(x_pred,axis=1)\n",
    "y_pred\n"
   ]
  },
  {
   "cell_type": "code",
   "execution_count": 21,
   "metadata": {},
   "outputs": [
    {
     "data": {
      "text/html": [
       "<div>\n",
       "<style scoped>\n",
       "    .dataframe tbody tr th:only-of-type {\n",
       "        vertical-align: middle;\n",
       "    }\n",
       "\n",
       "    .dataframe tbody tr th {\n",
       "        vertical-align: top;\n",
       "    }\n",
       "\n",
       "    .dataframe thead th {\n",
       "        text-align: right;\n",
       "    }\n",
       "</style>\n",
       "<table border=\"1\" class=\"dataframe\">\n",
       "  <thead>\n",
       "    <tr style=\"text-align: right;\">\n",
       "      <th></th>\n",
       "      <th>State_0</th>\n",
       "      <th>Failure_F1</th>\n",
       "      <th>Failure_F2</th>\n",
       "      <th>Failure_F3</th>\n",
       "      <th>Failure_F4</th>\n",
       "      <th>y_pred</th>\n",
       "    </tr>\n",
       "  </thead>\n",
       "  <tbody>\n",
       "    <tr>\n",
       "      <th>0</th>\n",
       "      <td>1</td>\n",
       "      <td>0</td>\n",
       "      <td>0</td>\n",
       "      <td>0</td>\n",
       "      <td>0</td>\n",
       "      <td>0</td>\n",
       "    </tr>\n",
       "    <tr>\n",
       "      <th>1</th>\n",
       "      <td>1</td>\n",
       "      <td>0</td>\n",
       "      <td>0</td>\n",
       "      <td>0</td>\n",
       "      <td>0</td>\n",
       "      <td>0</td>\n",
       "    </tr>\n",
       "    <tr>\n",
       "      <th>2</th>\n",
       "      <td>1</td>\n",
       "      <td>0</td>\n",
       "      <td>0</td>\n",
       "      <td>0</td>\n",
       "      <td>0</td>\n",
       "      <td>0</td>\n",
       "    </tr>\n",
       "    <tr>\n",
       "      <th>3</th>\n",
       "      <td>1</td>\n",
       "      <td>0</td>\n",
       "      <td>0</td>\n",
       "      <td>0</td>\n",
       "      <td>0</td>\n",
       "      <td>0</td>\n",
       "    </tr>\n",
       "    <tr>\n",
       "      <th>4</th>\n",
       "      <td>1</td>\n",
       "      <td>0</td>\n",
       "      <td>0</td>\n",
       "      <td>0</td>\n",
       "      <td>0</td>\n",
       "      <td>0</td>\n",
       "    </tr>\n",
       "    <tr>\n",
       "      <th>5</th>\n",
       "      <td>1</td>\n",
       "      <td>0</td>\n",
       "      <td>0</td>\n",
       "      <td>0</td>\n",
       "      <td>0</td>\n",
       "      <td>0</td>\n",
       "    </tr>\n",
       "    <tr>\n",
       "      <th>6</th>\n",
       "      <td>1</td>\n",
       "      <td>0</td>\n",
       "      <td>0</td>\n",
       "      <td>0</td>\n",
       "      <td>0</td>\n",
       "      <td>0</td>\n",
       "    </tr>\n",
       "    <tr>\n",
       "      <th>7</th>\n",
       "      <td>1</td>\n",
       "      <td>0</td>\n",
       "      <td>0</td>\n",
       "      <td>0</td>\n",
       "      <td>0</td>\n",
       "      <td>0</td>\n",
       "    </tr>\n",
       "    <tr>\n",
       "      <th>8</th>\n",
       "      <td>1</td>\n",
       "      <td>0</td>\n",
       "      <td>0</td>\n",
       "      <td>0</td>\n",
       "      <td>0</td>\n",
       "      <td>0</td>\n",
       "    </tr>\n",
       "    <tr>\n",
       "      <th>9</th>\n",
       "      <td>1</td>\n",
       "      <td>0</td>\n",
       "      <td>0</td>\n",
       "      <td>0</td>\n",
       "      <td>0</td>\n",
       "      <td>0</td>\n",
       "    </tr>\n",
       "  </tbody>\n",
       "</table>\n",
       "</div>"
      ],
      "text/plain": [
       "   State_0  Failure_F1  Failure_F2  Failure_F3  Failure_F4  y_pred\n",
       "0        1           0           0           0           0       0\n",
       "1        1           0           0           0           0       0\n",
       "2        1           0           0           0           0       0\n",
       "3        1           0           0           0           0       0\n",
       "4        1           0           0           0           0       0\n",
       "5        1           0           0           0           0       0\n",
       "6        1           0           0           0           0       0\n",
       "7        1           0           0           0           0       0\n",
       "8        1           0           0           0           0       0\n",
       "9        1           0           0           0           0       0"
      ]
     },
     "execution_count": 21,
     "metadata": {},
     "output_type": "execute_result"
    }
   ],
   "source": [
    "# Zestawienie w tabeli danej klasy oraz klasy przewidzianej przez model\n",
    "pred= pd.concat([pd.DataFrame(y_test, columns=['State_0','Failure_F1','Failure_F2','Failure_F3','Failure_F4']), pd.DataFrame(y_pred, columns=['y_pred'])], axis=1)\n",
    "pred.head(10)"
   ]
  },
  {
   "cell_type": "code",
   "execution_count": 22,
   "metadata": {},
   "outputs": [],
   "source": [
    "# Konwersja danych w celu stworzenia macierzy pomyłek\n",
    "yt_test = y_test.to_numpy()"
   ]
  },
  {
   "cell_type": "code",
   "execution_count": 23,
   "metadata": {},
   "outputs": [],
   "source": [
    "# Wyciągnięcie danych\n",
    "rounded_test=np.argmax(yt_test, axis=1)"
   ]
  },
  {
   "cell_type": "code",
   "execution_count": 24,
   "metadata": {},
   "outputs": [
    {
     "name": "stdout",
     "output_type": "stream",
     "text": [
      "[[2561    0   16    2    0]\n",
      " [   0  380    0    0    0]\n",
      " [  56    0  408    0    0]\n",
      " [   2    0    0  128    0]\n",
      " [   1    0    0    0   54]]\n",
      "dokladnosc calkowita:\n"
     ]
    },
    {
     "data": {
      "text/plain": [
       "0.9786585365853658"
      ]
     },
     "execution_count": 24,
     "metadata": {},
     "output_type": "execute_result"
    }
   ],
   "source": [
    "# Stworzenie macierzy pomyłek\n",
    "cn = confusion_matrix(rounded_test,y_pred)\n",
    "print(cn)\n",
    "print('dokladnosc calkowita:')\n",
    "accuracy_score(rounded_test,y_pred)"
   ]
  },
  {
   "cell_type": "code",
   "execution_count": 25,
   "metadata": {},
   "outputs": [],
   "source": [
    "# Obliczenie dokładnosci danych klas\n",
    "cn0=cn[0,0] + cn[0,1]+ cn[0,2]+ cn[0,3]+ cn[0,4]\n",
    "cn00 = cn[0,0]/cn0\n",
    "cn1 = cn[1,0] + cn[1,1]+ cn[1,2]+ cn[1,3]+ cn[1,4]\n",
    "cn11 = cn[1,1]/cn1\n",
    "cn2 = cn[2,0] + cn[2,1]+ cn[2,2]+ cn[2,3]+ cn[2,4]\n",
    "cn22 = cn[2,2]/cn2\n",
    "cn3 = cn[3,0] + cn[3,1]+ cn[3,2]+ cn[3,3]+ cn[3,4]\n",
    "cn33 = cn[3,3]/cn3\n",
    "cn4 = cn[4,0] + cn[4,1]+ cn[4,2]+ cn[4,3]+ cn[4,4]\n",
    "cn44 = cn[4,4]/cn4"
   ]
  },
  {
   "cell_type": "code",
   "execution_count": 26,
   "metadata": {},
   "outputs": [
    {
     "name": "stdout",
     "output_type": "stream",
     "text": [
      "Dokladnosc klasy 0, Brak uszkodzeń\n",
      "0.9930205506010081\n",
      "Dokladnosc klasy 1, Korzuch\n",
      "1.0\n",
      "Dokladnosc klasy 2, Wyciek\n",
      "0.8793103448275862\n",
      "Dokladnosc klasy 3, Cyber atak\n",
      "0.9846153846153847\n",
      "Dokladnosc klasy 4, Przytkanie rur\n",
      "0.9818181818181818\n"
     ]
    }
   ],
   "source": [
    "print('Dokladnosc klasy 0, Brak uszkodzeń')\n",
    "print(cn00)\n",
    "print('Dokladnosc klasy 1, Korzuch')\n",
    "print(cn11)\n",
    "print('Dokladnosc klasy 2, Wyciek')\n",
    "print(cn22)\n",
    "print('Dokladnosc klasy 3, Cyber atak')\n",
    "print(cn33)\n",
    "print('Dokladnosc klasy 4, Przytkanie rur')\n",
    "print(cn44)"
   ]
  },
  {
   "cell_type": "code",
   "execution_count": 27,
   "metadata": {},
   "outputs": [],
   "source": [
    "# Zapisanie modelu\n",
    "model.save('FeedForward.h5')"
   ]
  },
  {
   "cell_type": "code",
   "execution_count": 28,
   "metadata": {},
   "outputs": [],
   "source": [
    "#y_pred\n",
    "#pd.DataFrame(y_pred).to_csv('Predykcja_FEEDForward', sep=';', header=0,index=0)"
   ]
  }
 ],
 "metadata": {
  "kernelspec": {
   "display_name": "Python 3.7.0 64-bit",
   "language": "python",
   "name": "python3"
  },
  "language_info": {
   "codemirror_mode": {
    "name": "ipython",
    "version": 3
   },
   "file_extension": ".py",
   "mimetype": "text/x-python",
   "name": "python",
   "nbconvert_exporter": "python",
   "pygments_lexer": "ipython3",
   "version": "3.7.0"
  },
  "orig_nbformat": 4,
  "vscode": {
   "interpreter": {
    "hash": "77cfee6c5d2120321caac64ec6fe25cdf66ef28d2dcc95bb3e9c90da929e7e21"
   }
  }
 },
 "nbformat": 4,
 "nbformat_minor": 2
}
